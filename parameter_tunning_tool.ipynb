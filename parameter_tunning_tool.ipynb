{
 "cells": [
  {
   "cell_type": "code",
   "execution_count": 1,
   "id": "ancient-translator",
   "metadata": {
    "ExecuteTime": {
     "end_time": "2021-04-05T07:28:17.254964Z",
     "start_time": "2021-04-05T07:28:16.734129Z"
    }
   },
   "outputs": [],
   "source": [
    "import warnings\n",
    "warnings.filterwarnings('ignore')\n",
    "import glob\n",
    "import pandas as pd\n",
    "import numpy as np\n",
    "from lightgbm import LGBMClassifier\n",
    "from sklearn.model_selection import StratifiedKFold, GridSearchCV, KFold\n",
    "from sklearn.preprocessing import OneHotEncoder\n",
    "import random\n",
    "import matplotlib.pyplot as plt\n",
    "import seaborn as sns"
   ]
  },
  {
   "cell_type": "code",
   "execution_count": 2,
   "id": "changed-october",
   "metadata": {
    "ExecuteTime": {
     "end_time": "2021-04-05T07:28:17.326319Z",
     "start_time": "2021-04-05T07:28:17.256352Z"
    },
    "run_control": {
     "marked": true
    }
   },
   "outputs": [],
   "source": [
    "#불러오기\n",
    "train = pd.read_csv('dataset/train.csv')\n",
    "test = pd.read_csv('dataset/test.csv')\n",
    "submit = pd.read_csv('dataset/sample_submission.csv')"
   ]
  },
  {
   "cell_type": "code",
   "execution_count": 3,
   "id": "faced-details",
   "metadata": {},
   "outputs": [],
   "source": [
    "data = pd.concat([train, test], axis = 0) #train과 test 합치기"
   ]
  },
  {
   "cell_type": "code",
   "execution_count": 4,
   "id": "julian-invite",
   "metadata": {},
   "outputs": [
    {
     "data": {
      "text/html": [
       "<div>\n",
       "<style scoped>\n",
       "    .dataframe tbody tr th:only-of-type {\n",
       "        vertical-align: middle;\n",
       "    }\n",
       "\n",
       "    .dataframe tbody tr th {\n",
       "        vertical-align: top;\n",
       "    }\n",
       "\n",
       "    .dataframe thead th {\n",
       "        text-align: right;\n",
       "    }\n",
       "</style>\n",
       "<table border=\"1\" class=\"dataframe\">\n",
       "  <thead>\n",
       "    <tr style=\"text-align: right;\">\n",
       "      <th></th>\n",
       "      <th>index</th>\n",
       "      <th>gender</th>\n",
       "      <th>car</th>\n",
       "      <th>reality</th>\n",
       "      <th>child_num</th>\n",
       "      <th>income_total</th>\n",
       "      <th>income_type</th>\n",
       "      <th>edu_type</th>\n",
       "      <th>family_type</th>\n",
       "      <th>house_type</th>\n",
       "      <th>DAYS_BIRTH</th>\n",
       "      <th>DAYS_EMPLOYED</th>\n",
       "      <th>FLAG_MOBIL</th>\n",
       "      <th>work_phone</th>\n",
       "      <th>phone</th>\n",
       "      <th>email</th>\n",
       "      <th>occyp_type</th>\n",
       "      <th>family_size</th>\n",
       "      <th>begin_month</th>\n",
       "      <th>credit</th>\n",
       "    </tr>\n",
       "  </thead>\n",
       "  <tbody>\n",
       "    <tr>\n",
       "      <th>0</th>\n",
       "      <td>0</td>\n",
       "      <td>F</td>\n",
       "      <td>N</td>\n",
       "      <td>N</td>\n",
       "      <td>0</td>\n",
       "      <td>202500.0</td>\n",
       "      <td>Commercial associate</td>\n",
       "      <td>Higher education</td>\n",
       "      <td>Married</td>\n",
       "      <td>Municipal apartment</td>\n",
       "      <td>-13899</td>\n",
       "      <td>-4709</td>\n",
       "      <td>1</td>\n",
       "      <td>0</td>\n",
       "      <td>0</td>\n",
       "      <td>0</td>\n",
       "      <td>NaN</td>\n",
       "      <td>2.0</td>\n",
       "      <td>-6.0</td>\n",
       "      <td>1.0</td>\n",
       "    </tr>\n",
       "    <tr>\n",
       "      <th>1</th>\n",
       "      <td>1</td>\n",
       "      <td>F</td>\n",
       "      <td>N</td>\n",
       "      <td>Y</td>\n",
       "      <td>1</td>\n",
       "      <td>247500.0</td>\n",
       "      <td>Commercial associate</td>\n",
       "      <td>Secondary / secondary special</td>\n",
       "      <td>Civil marriage</td>\n",
       "      <td>House / apartment</td>\n",
       "      <td>-11380</td>\n",
       "      <td>-1540</td>\n",
       "      <td>1</td>\n",
       "      <td>0</td>\n",
       "      <td>0</td>\n",
       "      <td>1</td>\n",
       "      <td>Laborers</td>\n",
       "      <td>3.0</td>\n",
       "      <td>-5.0</td>\n",
       "      <td>1.0</td>\n",
       "    </tr>\n",
       "    <tr>\n",
       "      <th>2</th>\n",
       "      <td>2</td>\n",
       "      <td>M</td>\n",
       "      <td>Y</td>\n",
       "      <td>Y</td>\n",
       "      <td>0</td>\n",
       "      <td>450000.0</td>\n",
       "      <td>Working</td>\n",
       "      <td>Higher education</td>\n",
       "      <td>Married</td>\n",
       "      <td>House / apartment</td>\n",
       "      <td>-19087</td>\n",
       "      <td>-4434</td>\n",
       "      <td>1</td>\n",
       "      <td>0</td>\n",
       "      <td>1</td>\n",
       "      <td>0</td>\n",
       "      <td>Managers</td>\n",
       "      <td>2.0</td>\n",
       "      <td>-22.0</td>\n",
       "      <td>2.0</td>\n",
       "    </tr>\n",
       "    <tr>\n",
       "      <th>3</th>\n",
       "      <td>3</td>\n",
       "      <td>F</td>\n",
       "      <td>N</td>\n",
       "      <td>Y</td>\n",
       "      <td>0</td>\n",
       "      <td>202500.0</td>\n",
       "      <td>Commercial associate</td>\n",
       "      <td>Secondary / secondary special</td>\n",
       "      <td>Married</td>\n",
       "      <td>House / apartment</td>\n",
       "      <td>-15088</td>\n",
       "      <td>-2092</td>\n",
       "      <td>1</td>\n",
       "      <td>0</td>\n",
       "      <td>1</td>\n",
       "      <td>0</td>\n",
       "      <td>Sales staff</td>\n",
       "      <td>2.0</td>\n",
       "      <td>-37.0</td>\n",
       "      <td>0.0</td>\n",
       "    </tr>\n",
       "    <tr>\n",
       "      <th>4</th>\n",
       "      <td>4</td>\n",
       "      <td>F</td>\n",
       "      <td>Y</td>\n",
       "      <td>Y</td>\n",
       "      <td>0</td>\n",
       "      <td>157500.0</td>\n",
       "      <td>State servant</td>\n",
       "      <td>Higher education</td>\n",
       "      <td>Married</td>\n",
       "      <td>House / apartment</td>\n",
       "      <td>-15037</td>\n",
       "      <td>-2105</td>\n",
       "      <td>1</td>\n",
       "      <td>0</td>\n",
       "      <td>0</td>\n",
       "      <td>0</td>\n",
       "      <td>Managers</td>\n",
       "      <td>2.0</td>\n",
       "      <td>-26.0</td>\n",
       "      <td>2.0</td>\n",
       "    </tr>\n",
       "  </tbody>\n",
       "</table>\n",
       "</div>"
      ],
      "text/plain": [
       "   index gender car reality  child_num  income_total           income_type  \\\n",
       "0      0      F   N       N          0      202500.0  Commercial associate   \n",
       "1      1      F   N       Y          1      247500.0  Commercial associate   \n",
       "2      2      M   Y       Y          0      450000.0               Working   \n",
       "3      3      F   N       Y          0      202500.0  Commercial associate   \n",
       "4      4      F   Y       Y          0      157500.0         State servant   \n",
       "\n",
       "                        edu_type     family_type           house_type  \\\n",
       "0               Higher education         Married  Municipal apartment   \n",
       "1  Secondary / secondary special  Civil marriage    House / apartment   \n",
       "2               Higher education         Married    House / apartment   \n",
       "3  Secondary / secondary special         Married    House / apartment   \n",
       "4               Higher education         Married    House / apartment   \n",
       "\n",
       "   DAYS_BIRTH  DAYS_EMPLOYED  FLAG_MOBIL  work_phone  phone  email  \\\n",
       "0      -13899          -4709           1           0      0      0   \n",
       "1      -11380          -1540           1           0      0      1   \n",
       "2      -19087          -4434           1           0      1      0   \n",
       "3      -15088          -2092           1           0      1      0   \n",
       "4      -15037          -2105           1           0      0      0   \n",
       "\n",
       "    occyp_type  family_size  begin_month  credit  \n",
       "0          NaN          2.0         -6.0     1.0  \n",
       "1     Laborers          3.0         -5.0     1.0  \n",
       "2     Managers          2.0        -22.0     2.0  \n",
       "3  Sales staff          2.0        -37.0     0.0  \n",
       "4     Managers          2.0        -26.0     2.0  "
      ]
     },
     "execution_count": 4,
     "metadata": {},
     "output_type": "execute_result"
    }
   ],
   "source": [
    "data.head()"
   ]
  },
  {
   "cell_type": "code",
   "execution_count": 5,
   "id": "fuzzy-inspiration",
   "metadata": {},
   "outputs": [
    {
     "name": "stdout",
     "output_type": "stream",
     "text": [
      "<class 'pandas.core.frame.DataFrame'>\n",
      "Int64Index: 36457 entries, 0 to 9999\n",
      "Data columns (total 20 columns):\n",
      " #   Column         Non-Null Count  Dtype  \n",
      "---  ------         --------------  -----  \n",
      " 0   index          36457 non-null  int64  \n",
      " 1   gender         36457 non-null  object \n",
      " 2   car            36457 non-null  object \n",
      " 3   reality        36457 non-null  object \n",
      " 4   child_num      36457 non-null  int64  \n",
      " 5   income_total   36457 non-null  float64\n",
      " 6   income_type    36457 non-null  object \n",
      " 7   edu_type       36457 non-null  object \n",
      " 8   family_type    36457 non-null  object \n",
      " 9   house_type     36457 non-null  object \n",
      " 10  DAYS_BIRTH     36457 non-null  int64  \n",
      " 11  DAYS_EMPLOYED  36457 non-null  int64  \n",
      " 12  FLAG_MOBIL     36457 non-null  int64  \n",
      " 13  work_phone     36457 non-null  int64  \n",
      " 14  phone          36457 non-null  int64  \n",
      " 15  email          36457 non-null  int64  \n",
      " 16  occyp_type     25134 non-null  object \n",
      " 17  family_size    36457 non-null  float64\n",
      " 18  begin_month    36457 non-null  float64\n",
      " 19  credit         26457 non-null  float64\n",
      "dtypes: float64(4), int64(8), object(8)\n",
      "memory usage: 5.8+ MB\n"
     ]
    }
   ],
   "source": [
    "data.info()"
   ]
  },
  {
   "cell_type": "code",
   "execution_count": 6,
   "id": "soviet-differential",
   "metadata": {},
   "outputs": [
    {
     "data": {
      "text/plain": [
       "count        25134\n",
       "unique          18\n",
       "top       Laborers\n",
       "freq          6211\n",
       "Name: occyp_type, dtype: object"
      ]
     },
     "execution_count": 6,
     "metadata": {},
     "output_type": "execute_result"
    }
   ],
   "source": [
    "data['occyp_type'].describe()"
   ]
  },
  {
   "cell_type": "code",
   "execution_count": 7,
   "id": "supreme-enterprise",
   "metadata": {
    "ExecuteTime": {
     "end_time": "2021-04-05T07:28:17.330984Z",
     "start_time": "2021-04-05T07:28:17.328119Z"
    },
    "code_folding": []
   },
   "outputs": [
    {
     "data": {
      "text/plain": [
       "index                0\n",
       "gender               0\n",
       "car                  0\n",
       "reality              0\n",
       "child_num            0\n",
       "income_total         0\n",
       "income_type          0\n",
       "edu_type             0\n",
       "family_type          0\n",
       "house_type           0\n",
       "DAYS_BIRTH           0\n",
       "DAYS_EMPLOYED        0\n",
       "FLAG_MOBIL           0\n",
       "work_phone           0\n",
       "phone                0\n",
       "email                0\n",
       "occyp_type       11323\n",
       "family_size          0\n",
       "begin_month          0\n",
       "credit           10000\n",
       "dtype: int64"
      ]
     },
     "execution_count": 7,
     "metadata": {},
     "output_type": "execute_result"
    }
   ],
   "source": [
    "data.isnull().sum() #occyp_type 30%가 결측치"
   ]
  },
  {
   "cell_type": "code",
   "execution_count": 8,
   "id": "ruled-crazy",
   "metadata": {
    "ExecuteTime": {
     "end_time": "2021-04-05T07:28:17.409966Z",
     "start_time": "2021-04-05T07:28:17.332094Z"
    }
   },
   "outputs": [],
   "source": [
    "data=data.drop(['index', 'FLAG_MOBIL'], axis=1)"
   ]
  },
  {
   "cell_type": "code",
   "execution_count": 9,
   "id": "binding-summary",
   "metadata": {},
   "outputs": [],
   "source": [
    "data['occyp_type'].fillna(\"Laborers\", inplace=True) #최빈값으로 채우기"
   ]
  },
  {
   "cell_type": "code",
   "execution_count": 10,
   "id": "significant-brook",
   "metadata": {},
   "outputs": [
    {
     "data": {
      "text/plain": [
       "gender               0\n",
       "car                  0\n",
       "reality              0\n",
       "child_num            0\n",
       "income_total         0\n",
       "income_type          0\n",
       "edu_type             0\n",
       "family_type          0\n",
       "house_type           0\n",
       "DAYS_BIRTH           0\n",
       "DAYS_EMPLOYED        0\n",
       "work_phone           0\n",
       "phone                0\n",
       "email                0\n",
       "occyp_type           0\n",
       "family_size          0\n",
       "begin_month          0\n",
       "credit           10000\n",
       "dtype: int64"
      ]
     },
     "execution_count": 10,
     "metadata": {},
     "output_type": "execute_result"
    }
   ],
   "source": [
    "data.isnull().sum()"
   ]
  },
  {
   "cell_type": "markdown",
   "id": "recreational-estimate",
   "metadata": {},
   "source": [
    "# 열 삭제"
   ]
  },
  {
   "cell_type": "code",
   "execution_count": 11,
   "id": "intense-parker",
   "metadata": {},
   "outputs": [],
   "source": [
    "data.drop(['email'],axis=1, inplace=True)\n",
    "data.drop(['phone'],axis=1, inplace=True)\n",
    "data.drop(['work_phone'],axis=1, inplace=True)\n",
    "data.drop(['gender'],axis=1, inplace=True)\n",
    "data.drop(['reality'],axis=1, inplace=True)"
   ]
  },
  {
   "cell_type": "code",
   "execution_count": 12,
   "id": "settled-student",
   "metadata": {},
   "outputs": [],
   "source": [
    "unique_len = data.apply(lambda x : len(x.unique())) #모든 열의 요소개수가 몇개인지 확인하여 unique_len에 저장"
   ]
  },
  {
   "cell_type": "code",
   "execution_count": 13,
   "id": "close-fashion",
   "metadata": {},
   "outputs": [
    {
     "data": {
      "text/plain": [
       "car                 2\n",
       "child_num           9\n",
       "income_total      265\n",
       "income_type         5\n",
       "edu_type            5\n",
       "family_type         5\n",
       "house_type          6\n",
       "DAYS_BIRTH       7183\n",
       "DAYS_EMPLOYED    3640\n",
       "occyp_type         18\n",
       "family_size        10\n",
       "begin_month        61\n",
       "credit              4\n",
       "dtype: int64"
      ]
     },
     "execution_count": 13,
     "metadata": {},
     "output_type": "execute_result"
    }
   ],
   "source": [
    "unique_len"
   ]
  },
  {
   "cell_type": "code",
   "execution_count": 14,
   "id": "naked-stack",
   "metadata": {},
   "outputs": [],
   "source": [
    "group_1 = unique_len[unique_len <= 2].index #요소 개수가 2개 이하인 열의 인덱스\n",
    "group_2 = unique_len[(unique_len > 2)\\\n",
    "             & (unique_len <= 18)].index #요소 개수가 2개 초과, 18개이하인 열의 인덱스\n",
    "group_3 = unique_len[(unique_len > 18)].index #요소 개수가 18개 초과인 열의 인덱스"
   ]
  },
  {
   "cell_type": "markdown",
   "id": "extended-mining",
   "metadata": {},
   "source": [
    "# group1"
   ]
  },
  {
   "cell_type": "code",
   "execution_count": 15,
   "id": "ruled-updating",
   "metadata": {},
   "outputs": [
    {
     "data": {
      "text/html": [
       "<div>\n",
       "<style scoped>\n",
       "    .dataframe tbody tr th:only-of-type {\n",
       "        vertical-align: middle;\n",
       "    }\n",
       "\n",
       "    .dataframe tbody tr th {\n",
       "        vertical-align: top;\n",
       "    }\n",
       "\n",
       "    .dataframe thead th {\n",
       "        text-align: right;\n",
       "    }\n",
       "</style>\n",
       "<table border=\"1\" class=\"dataframe\">\n",
       "  <thead>\n",
       "    <tr style=\"text-align: right;\">\n",
       "      <th></th>\n",
       "      <th>car</th>\n",
       "    </tr>\n",
       "  </thead>\n",
       "  <tbody>\n",
       "    <tr>\n",
       "      <th>0</th>\n",
       "      <td>0</td>\n",
       "    </tr>\n",
       "    <tr>\n",
       "      <th>1</th>\n",
       "      <td>0</td>\n",
       "    </tr>\n",
       "    <tr>\n",
       "      <th>2</th>\n",
       "      <td>1</td>\n",
       "    </tr>\n",
       "    <tr>\n",
       "      <th>3</th>\n",
       "      <td>0</td>\n",
       "    </tr>\n",
       "    <tr>\n",
       "      <th>4</th>\n",
       "      <td>1</td>\n",
       "    </tr>\n",
       "    <tr>\n",
       "      <th>...</th>\n",
       "      <td>...</td>\n",
       "    </tr>\n",
       "    <tr>\n",
       "      <th>9995</th>\n",
       "      <td>1</td>\n",
       "    </tr>\n",
       "    <tr>\n",
       "      <th>9996</th>\n",
       "      <td>1</td>\n",
       "    </tr>\n",
       "    <tr>\n",
       "      <th>9997</th>\n",
       "      <td>0</td>\n",
       "    </tr>\n",
       "    <tr>\n",
       "      <th>9998</th>\n",
       "      <td>1</td>\n",
       "    </tr>\n",
       "    <tr>\n",
       "      <th>9999</th>\n",
       "      <td>0</td>\n",
       "    </tr>\n",
       "  </tbody>\n",
       "</table>\n",
       "<p>36457 rows × 1 columns</p>\n",
       "</div>"
      ],
      "text/plain": [
       "      car\n",
       "0       0\n",
       "1       0\n",
       "2       1\n",
       "3       0\n",
       "4       1\n",
       "...   ...\n",
       "9995    1\n",
       "9996    1\n",
       "9997    0\n",
       "9998    1\n",
       "9999    0\n",
       "\n",
       "[36457 rows x 1 columns]"
      ]
     },
     "execution_count": 15,
     "metadata": {},
     "output_type": "execute_result"
    }
   ],
   "source": [
    "'''data['gender'] = data['gender'].replace(['F','M'], [0,  1]) #gender의 f와m을 0과1로 변환, 문자는 모델학습에 사용할 수 없다.'''\n",
    "data['car'] = data['car'].replace(['N', 'Y'], [0, 1]) #마찬가지로 숫자 0과1로 변환\n",
    "'''data['reality'] = data['reality'].replace(['N', 'Y'], [0, 1])#마찬가지로 숫자 0과1로 변환'''\n",
    "data[group_1] #group_1 모두 숫자로 변환완료"
   ]
  },
  {
   "cell_type": "markdown",
   "id": "choice-exchange",
   "metadata": {},
   "source": [
    "# group2"
   ]
  },
  {
   "cell_type": "code",
   "execution_count": null,
   "id": "aerial-japanese",
   "metadata": {},
   "outputs": [],
   "source": []
  },
  {
   "cell_type": "code",
   "execution_count": null,
   "id": "exotic-leader",
   "metadata": {},
   "outputs": [],
   "source": []
  },
  {
   "cell_type": "code",
   "execution_count": 16,
   "id": "royal-ensemble",
   "metadata": {},
   "outputs": [],
   "source": [
    "data = data.astype({'DAYS_BIRTH': 'int'})\n",
    "data = data.astype({'DAYS_EMPLOYED': 'int'})\n",
    "data = data.astype({'begin_month': 'int'})"
   ]
  },
  {
   "cell_type": "code",
   "execution_count": null,
   "id": "streaming-africa",
   "metadata": {},
   "outputs": [],
   "source": []
  },
  {
   "cell_type": "code",
   "execution_count": null,
   "id": "hollow-spouse",
   "metadata": {},
   "outputs": [],
   "source": []
  },
  {
   "cell_type": "code",
   "execution_count": null,
   "id": "pregnant-subdivision",
   "metadata": {},
   "outputs": [],
   "source": []
  },
  {
   "cell_type": "code",
   "execution_count": null,
   "id": "lesbian-criticism",
   "metadata": {},
   "outputs": [],
   "source": []
  },
  {
   "cell_type": "code",
   "execution_count": null,
   "id": "medical-auditor",
   "metadata": {},
   "outputs": [],
   "source": []
  },
  {
   "cell_type": "code",
   "execution_count": 17,
   "id": "outer-opening",
   "metadata": {},
   "outputs": [],
   "source": [
    "from sklearn import preprocessing"
   ]
  },
  {
   "cell_type": "code",
   "execution_count": 18,
   "id": "automated-creativity",
   "metadata": {},
   "outputs": [],
   "source": [
    "label_encoder = preprocessing.LabelEncoder() #문자열로 이루어져 있는 값을 숫자로 인코딩해 준다"
   ]
  },
  {
   "cell_type": "code",
   "execution_count": 19,
   "id": "diagnostic-bracelet",
   "metadata": {},
   "outputs": [
    {
     "data": {
      "text/plain": [
       "child_num       9\n",
       "income_type     5\n",
       "edu_type        5\n",
       "family_type     5\n",
       "house_type      6\n",
       "occyp_type     18\n",
       "family_size    10\n",
       "credit          4\n",
       "dtype: int64"
      ]
     },
     "execution_count": 19,
     "metadata": {},
     "output_type": "execute_result"
    }
   ],
   "source": [
    "data[group_2].apply(lambda x : len(x.unique())) #몇개의 데이터로 이루어져 있는지 확인"
   ]
  },
  {
   "cell_type": "code",
   "execution_count": 20,
   "id": "collect-marketing",
   "metadata": {},
   "outputs": [],
   "source": [
    "data['income_type'] = label_encoder.fit_transform(data['income_type']) #문자열로 이루어진 열 모두 숫자로 인코딩해 준다.\n",
    "data['edu_type'] = label_encoder.fit_transform(data['edu_type'])\n",
    "data['family_type'] = label_encoder.fit_transform(data['family_type'])\n",
    "data['house_type'] = label_encoder.fit_transform(data['house_type'])\n",
    "data['occyp_type'] = label_encoder.fit_transform(data['occyp_type'])"
   ]
  },
  {
   "cell_type": "markdown",
   "id": "retained-gamma",
   "metadata": {},
   "source": [
    "### ▲성능 안좋으면 각각 분리로 바꾸기"
   ]
  },
  {
   "cell_type": "code",
   "execution_count": 21,
   "id": "liable-wyoming",
   "metadata": {},
   "outputs": [
    {
     "data": {
      "text/html": [
       "<div>\n",
       "<style scoped>\n",
       "    .dataframe tbody tr th:only-of-type {\n",
       "        vertical-align: middle;\n",
       "    }\n",
       "\n",
       "    .dataframe tbody tr th {\n",
       "        vertical-align: top;\n",
       "    }\n",
       "\n",
       "    .dataframe thead th {\n",
       "        text-align: right;\n",
       "    }\n",
       "</style>\n",
       "<table border=\"1\" class=\"dataframe\">\n",
       "  <thead>\n",
       "    <tr style=\"text-align: right;\">\n",
       "      <th></th>\n",
       "      <th>child_num</th>\n",
       "      <th>income_type</th>\n",
       "      <th>edu_type</th>\n",
       "      <th>family_type</th>\n",
       "      <th>house_type</th>\n",
       "      <th>occyp_type</th>\n",
       "      <th>family_size</th>\n",
       "      <th>credit</th>\n",
       "    </tr>\n",
       "  </thead>\n",
       "  <tbody>\n",
       "    <tr>\n",
       "      <th>0</th>\n",
       "      <td>0</td>\n",
       "      <td>0</td>\n",
       "      <td>1</td>\n",
       "      <td>1</td>\n",
       "      <td>2</td>\n",
       "      <td>8</td>\n",
       "      <td>2.0</td>\n",
       "      <td>1.0</td>\n",
       "    </tr>\n",
       "    <tr>\n",
       "      <th>1</th>\n",
       "      <td>1</td>\n",
       "      <td>0</td>\n",
       "      <td>4</td>\n",
       "      <td>0</td>\n",
       "      <td>1</td>\n",
       "      <td>8</td>\n",
       "      <td>3.0</td>\n",
       "      <td>1.0</td>\n",
       "    </tr>\n",
       "    <tr>\n",
       "      <th>2</th>\n",
       "      <td>0</td>\n",
       "      <td>4</td>\n",
       "      <td>1</td>\n",
       "      <td>1</td>\n",
       "      <td>1</td>\n",
       "      <td>10</td>\n",
       "      <td>2.0</td>\n",
       "      <td>2.0</td>\n",
       "    </tr>\n",
       "    <tr>\n",
       "      <th>3</th>\n",
       "      <td>0</td>\n",
       "      <td>0</td>\n",
       "      <td>4</td>\n",
       "      <td>1</td>\n",
       "      <td>1</td>\n",
       "      <td>14</td>\n",
       "      <td>2.0</td>\n",
       "      <td>0.0</td>\n",
       "    </tr>\n",
       "    <tr>\n",
       "      <th>4</th>\n",
       "      <td>0</td>\n",
       "      <td>2</td>\n",
       "      <td>1</td>\n",
       "      <td>1</td>\n",
       "      <td>1</td>\n",
       "      <td>10</td>\n",
       "      <td>2.0</td>\n",
       "      <td>2.0</td>\n",
       "    </tr>\n",
       "    <tr>\n",
       "      <th>...</th>\n",
       "      <td>...</td>\n",
       "      <td>...</td>\n",
       "      <td>...</td>\n",
       "      <td>...</td>\n",
       "      <td>...</td>\n",
       "      <td>...</td>\n",
       "      <td>...</td>\n",
       "      <td>...</td>\n",
       "    </tr>\n",
       "    <tr>\n",
       "      <th>9995</th>\n",
       "      <td>0</td>\n",
       "      <td>4</td>\n",
       "      <td>2</td>\n",
       "      <td>1</td>\n",
       "      <td>1</td>\n",
       "      <td>0</td>\n",
       "      <td>2.0</td>\n",
       "      <td>NaN</td>\n",
       "    </tr>\n",
       "    <tr>\n",
       "      <th>9996</th>\n",
       "      <td>0</td>\n",
       "      <td>4</td>\n",
       "      <td>4</td>\n",
       "      <td>0</td>\n",
       "      <td>1</td>\n",
       "      <td>8</td>\n",
       "      <td>2.0</td>\n",
       "      <td>NaN</td>\n",
       "    </tr>\n",
       "    <tr>\n",
       "      <th>9997</th>\n",
       "      <td>0</td>\n",
       "      <td>4</td>\n",
       "      <td>4</td>\n",
       "      <td>1</td>\n",
       "      <td>1</td>\n",
       "      <td>11</td>\n",
       "      <td>2.0</td>\n",
       "      <td>NaN</td>\n",
       "    </tr>\n",
       "    <tr>\n",
       "      <th>9998</th>\n",
       "      <td>0</td>\n",
       "      <td>0</td>\n",
       "      <td>4</td>\n",
       "      <td>1</td>\n",
       "      <td>1</td>\n",
       "      <td>8</td>\n",
       "      <td>2.0</td>\n",
       "      <td>NaN</td>\n",
       "    </tr>\n",
       "    <tr>\n",
       "      <th>9999</th>\n",
       "      <td>0</td>\n",
       "      <td>4</td>\n",
       "      <td>1</td>\n",
       "      <td>1</td>\n",
       "      <td>1</td>\n",
       "      <td>8</td>\n",
       "      <td>2.0</td>\n",
       "      <td>NaN</td>\n",
       "    </tr>\n",
       "  </tbody>\n",
       "</table>\n",
       "<p>36457 rows × 8 columns</p>\n",
       "</div>"
      ],
      "text/plain": [
       "      child_num  income_type  edu_type  family_type  house_type  occyp_type  \\\n",
       "0             0            0         1            1           2           8   \n",
       "1             1            0         4            0           1           8   \n",
       "2             0            4         1            1           1          10   \n",
       "3             0            0         4            1           1          14   \n",
       "4             0            2         1            1           1          10   \n",
       "...         ...          ...       ...          ...         ...         ...   \n",
       "9995          0            4         2            1           1           0   \n",
       "9996          0            4         4            0           1           8   \n",
       "9997          0            4         4            1           1          11   \n",
       "9998          0            0         4            1           1           8   \n",
       "9999          0            4         1            1           1           8   \n",
       "\n",
       "      family_size  credit  \n",
       "0             2.0     1.0  \n",
       "1             3.0     1.0  \n",
       "2             2.0     2.0  \n",
       "3             2.0     0.0  \n",
       "4             2.0     2.0  \n",
       "...           ...     ...  \n",
       "9995          2.0     NaN  \n",
       "9996          2.0     NaN  \n",
       "9997          2.0     NaN  \n",
       "9998          2.0     NaN  \n",
       "9999          2.0     NaN  \n",
       "\n",
       "[36457 rows x 8 columns]"
      ]
     },
     "execution_count": 21,
     "metadata": {},
     "output_type": "execute_result"
    }
   ],
   "source": [
    "data[group_2] #group_2 모두 숫자로 변환 완료"
   ]
  },
  {
   "cell_type": "markdown",
   "id": "velvet-congress",
   "metadata": {},
   "source": [
    "# group3"
   ]
  },
  {
   "cell_type": "code",
   "execution_count": 22,
   "id": "systematic-homework",
   "metadata": {},
   "outputs": [],
   "source": [
    "# 마이너스 값 변환\n",
    "def minus(x):\n",
    "    return x * -1\n",
    "data['begin_month'] = data['begin_month'].apply(minus)"
   ]
  },
  {
   "cell_type": "code",
   "execution_count": 23,
   "id": "passive-mercy",
   "metadata": {},
   "outputs": [],
   "source": [
    "# 나이 변환\n",
    "def days_to_age(x):\n",
    "    return (x*-1)/365\n",
    "data['DAYS_BIRTH'] = data['DAYS_BIRTH'].apply(days_to_age)"
   ]
  },
  {
   "cell_type": "code",
   "execution_count": null,
   "id": "adaptive-copyright",
   "metadata": {},
   "outputs": [],
   "source": [
    "\n"
   ]
  },
  {
   "cell_type": "code",
   "execution_count": null,
   "id": "eleven-potential",
   "metadata": {},
   "outputs": [],
   "source": []
  },
  {
   "cell_type": "code",
   "execution_count": null,
   "id": "pursuant-arlington",
   "metadata": {},
   "outputs": [],
   "source": []
  },
  {
   "cell_type": "code",
   "execution_count": null,
   "id": "minute-oasis",
   "metadata": {},
   "outputs": [],
   "source": []
  },
  {
   "cell_type": "code",
   "execution_count": null,
   "id": "swedish-multiple",
   "metadata": {},
   "outputs": [],
   "source": []
  },
  {
   "cell_type": "code",
   "execution_count": null,
   "id": "still-flavor",
   "metadata": {},
   "outputs": [],
   "source": []
  },
  {
   "cell_type": "code",
   "execution_count": null,
   "id": "compact-disaster",
   "metadata": {},
   "outputs": [],
   "source": []
  },
  {
   "cell_type": "code",
   "execution_count": 24,
   "id": "organic-ferry",
   "metadata": {},
   "outputs": [
    {
     "data": {
      "text/plain": [
       "'def make_bin(array, n): #숫자로 변환하는 함수를 남은 변수에 적용\\n    array = - array #양수 값으로 변환\\n    _, bin_dividers = np.histogram(array, bins = n) #count는 사용하지 않을것이므로 _로 표시\\n    cut_categories = pd.cut(array, bin_dividers, labels = [i for i in range(n)], include_lowest=True) #구간별로 나눈다.\\n    bined_array = pd.factorize(cut_categories)[0] #정수 자료형으로 변환\\n    return bined_array'"
      ]
     },
     "execution_count": 24,
     "metadata": {},
     "output_type": "execute_result"
    }
   ],
   "source": [
    "'''def make_bin(array, n): #숫자로 변환하는 함수를 남은 변수에 적용\n",
    "    array = - array #양수 값으로 변환\n",
    "    _, bin_dividers = np.histogram(array, bins = n) #count는 사용하지 않을것이므로 _로 표시\n",
    "    cut_categories = pd.cut(array, bin_dividers, labels = [i for i in range(n)], include_lowest=True) #구간별로 나눈다.\n",
    "    bined_array = pd.factorize(cut_categories)[0] #정수 자료형으로 변환\n",
    "    return bined_array'''"
   ]
  },
  {
   "cell_type": "code",
   "execution_count": 25,
   "id": "complete-working",
   "metadata": {},
   "outputs": [
    {
     "data": {
      "text/plain": [
       "\"data['DAYS_BIRTH'] = make_bin(data['DAYS_BIRTH'], 6)\\ndata['DAYS_EMPLOYED'] = make_bin(data['DAYS_EMPLOYED'], 6)\\ndata['begin_month'] = make_bin(data['begin_month'], 6)\\n#모든 열에 적용\""
      ]
     },
     "execution_count": 25,
     "metadata": {},
     "output_type": "execute_result"
    }
   ],
   "source": [
    "'''data['DAYS_BIRTH'] = make_bin(data['DAYS_BIRTH'], 6)\n",
    "data['DAYS_EMPLOYED'] = make_bin(data['DAYS_EMPLOYED'], 6)\n",
    "data['begin_month'] = make_bin(data['begin_month'], 6)\n",
    "#모든 열에 적용'''"
   ]
  },
  {
   "cell_type": "code",
   "execution_count": 26,
   "id": "foster-conviction",
   "metadata": {},
   "outputs": [
    {
     "data": {
      "text/plain": [
       "car                int64\n",
       "child_num          int64\n",
       "income_total     float64\n",
       "income_type        int32\n",
       "edu_type           int32\n",
       "family_type        int32\n",
       "house_type         int32\n",
       "DAYS_BIRTH       float64\n",
       "DAYS_EMPLOYED      int32\n",
       "occyp_type         int32\n",
       "family_size      float64\n",
       "begin_month        int64\n",
       "credit           float64\n",
       "dtype: object"
      ]
     },
     "execution_count": 26,
     "metadata": {},
     "output_type": "execute_result"
    }
   ],
   "source": [
    "data.dtypes"
   ]
  },
  {
   "cell_type": "code",
   "execution_count": 27,
   "id": "medium-prairie",
   "metadata": {},
   "outputs": [
    {
     "data": {
      "text/html": [
       "<div>\n",
       "<style scoped>\n",
       "    .dataframe tbody tr th:only-of-type {\n",
       "        vertical-align: middle;\n",
       "    }\n",
       "\n",
       "    .dataframe tbody tr th {\n",
       "        vertical-align: top;\n",
       "    }\n",
       "\n",
       "    .dataframe thead th {\n",
       "        text-align: right;\n",
       "    }\n",
       "</style>\n",
       "<table border=\"1\" class=\"dataframe\">\n",
       "  <thead>\n",
       "    <tr style=\"text-align: right;\">\n",
       "      <th></th>\n",
       "      <th>car</th>\n",
       "      <th>child_num</th>\n",
       "      <th>income_total</th>\n",
       "      <th>income_type</th>\n",
       "      <th>edu_type</th>\n",
       "      <th>family_type</th>\n",
       "      <th>house_type</th>\n",
       "      <th>DAYS_BIRTH</th>\n",
       "      <th>DAYS_EMPLOYED</th>\n",
       "      <th>occyp_type</th>\n",
       "      <th>family_size</th>\n",
       "      <th>begin_month</th>\n",
       "      <th>credit</th>\n",
       "    </tr>\n",
       "  </thead>\n",
       "  <tbody>\n",
       "    <tr>\n",
       "      <th>0</th>\n",
       "      <td>0</td>\n",
       "      <td>0</td>\n",
       "      <td>202500.0</td>\n",
       "      <td>0</td>\n",
       "      <td>1</td>\n",
       "      <td>1</td>\n",
       "      <td>2</td>\n",
       "      <td>38.079452</td>\n",
       "      <td>-4709</td>\n",
       "      <td>8</td>\n",
       "      <td>2.0</td>\n",
       "      <td>6</td>\n",
       "      <td>1.0</td>\n",
       "    </tr>\n",
       "    <tr>\n",
       "      <th>1</th>\n",
       "      <td>0</td>\n",
       "      <td>1</td>\n",
       "      <td>247500.0</td>\n",
       "      <td>0</td>\n",
       "      <td>4</td>\n",
       "      <td>0</td>\n",
       "      <td>1</td>\n",
       "      <td>31.178082</td>\n",
       "      <td>-1540</td>\n",
       "      <td>8</td>\n",
       "      <td>3.0</td>\n",
       "      <td>5</td>\n",
       "      <td>1.0</td>\n",
       "    </tr>\n",
       "    <tr>\n",
       "      <th>2</th>\n",
       "      <td>1</td>\n",
       "      <td>0</td>\n",
       "      <td>450000.0</td>\n",
       "      <td>4</td>\n",
       "      <td>1</td>\n",
       "      <td>1</td>\n",
       "      <td>1</td>\n",
       "      <td>52.293151</td>\n",
       "      <td>-4434</td>\n",
       "      <td>10</td>\n",
       "      <td>2.0</td>\n",
       "      <td>22</td>\n",
       "      <td>2.0</td>\n",
       "    </tr>\n",
       "    <tr>\n",
       "      <th>3</th>\n",
       "      <td>0</td>\n",
       "      <td>0</td>\n",
       "      <td>202500.0</td>\n",
       "      <td>0</td>\n",
       "      <td>4</td>\n",
       "      <td>1</td>\n",
       "      <td>1</td>\n",
       "      <td>41.336986</td>\n",
       "      <td>-2092</td>\n",
       "      <td>14</td>\n",
       "      <td>2.0</td>\n",
       "      <td>37</td>\n",
       "      <td>0.0</td>\n",
       "    </tr>\n",
       "    <tr>\n",
       "      <th>4</th>\n",
       "      <td>1</td>\n",
       "      <td>0</td>\n",
       "      <td>157500.0</td>\n",
       "      <td>2</td>\n",
       "      <td>1</td>\n",
       "      <td>1</td>\n",
       "      <td>1</td>\n",
       "      <td>41.197260</td>\n",
       "      <td>-2105</td>\n",
       "      <td>10</td>\n",
       "      <td>2.0</td>\n",
       "      <td>26</td>\n",
       "      <td>2.0</td>\n",
       "    </tr>\n",
       "  </tbody>\n",
       "</table>\n",
       "</div>"
      ],
      "text/plain": [
       "   car  child_num  income_total  income_type  edu_type  family_type  \\\n",
       "0    0          0      202500.0            0         1            1   \n",
       "1    0          1      247500.0            0         4            0   \n",
       "2    1          0      450000.0            4         1            1   \n",
       "3    0          0      202500.0            0         4            1   \n",
       "4    1          0      157500.0            2         1            1   \n",
       "\n",
       "   house_type  DAYS_BIRTH  DAYS_EMPLOYED  occyp_type  family_size  \\\n",
       "0           2   38.079452          -4709           8          2.0   \n",
       "1           1   31.178082          -1540           8          3.0   \n",
       "2           1   52.293151          -4434          10          2.0   \n",
       "3           1   41.336986          -2092          14          2.0   \n",
       "4           1   41.197260          -2105          10          2.0   \n",
       "\n",
       "   begin_month  credit  \n",
       "0            6     1.0  \n",
       "1            5     1.0  \n",
       "2           22     2.0  \n",
       "3           37     0.0  \n",
       "4           26     2.0  "
      ]
     },
     "execution_count": 27,
     "metadata": {},
     "output_type": "execute_result"
    }
   ],
   "source": [
    "data.head()"
   ]
  },
  {
   "cell_type": "code",
   "execution_count": null,
   "id": "little-klein",
   "metadata": {},
   "outputs": [],
   "source": []
  },
  {
   "cell_type": "code",
   "execution_count": null,
   "id": "convertible-planning",
   "metadata": {},
   "outputs": [],
   "source": []
  },
  {
   "cell_type": "code",
   "execution_count": null,
   "id": "dependent-porter",
   "metadata": {},
   "outputs": [],
   "source": []
  },
  {
   "cell_type": "code",
   "execution_count": null,
   "id": "premier-dollar",
   "metadata": {},
   "outputs": [],
   "source": []
  },
  {
   "cell_type": "code",
   "execution_count": 28,
   "id": "extra-packing",
   "metadata": {},
   "outputs": [],
   "source": [
    "object_col=['car', 'income_type','edu_type','family_type','house_type', 'occyp_type', ]"
   ]
  },
  {
   "cell_type": "code",
   "execution_count": 29,
   "id": "forty-valuable",
   "metadata": {},
   "outputs": [],
   "source": [
    "enc = OneHotEncoder()\n",
    "enc.fit(data.loc[:,object_col])\n",
    "\n",
    "\n",
    "data_onehot_df = pd.DataFrame(enc.transform(data.loc[:,object_col]).toarray(), \n",
    "             columns=enc.get_feature_names(object_col))\n",
    "data.drop(object_col, axis=1, inplace=True)\n",
    "data = pd.concat([data.reset_index(drop=True), data_onehot_df], axis=1)"
   ]
  },
  {
   "cell_type": "code",
   "execution_count": 30,
   "id": "sacred-jacob",
   "metadata": {},
   "outputs": [
    {
     "data": {
      "text/plain": [
       "child_num          int64\n",
       "income_total     float64\n",
       "DAYS_BIRTH       float64\n",
       "DAYS_EMPLOYED      int32\n",
       "family_size      float64\n",
       "begin_month        int64\n",
       "credit           float64\n",
       "car_0            float64\n",
       "car_1            float64\n",
       "income_type_0    float64\n",
       "income_type_1    float64\n",
       "income_type_2    float64\n",
       "income_type_3    float64\n",
       "income_type_4    float64\n",
       "edu_type_0       float64\n",
       "edu_type_1       float64\n",
       "edu_type_2       float64\n",
       "edu_type_3       float64\n",
       "edu_type_4       float64\n",
       "family_type_0    float64\n",
       "family_type_1    float64\n",
       "family_type_2    float64\n",
       "family_type_3    float64\n",
       "family_type_4    float64\n",
       "house_type_0     float64\n",
       "house_type_1     float64\n",
       "house_type_2     float64\n",
       "house_type_3     float64\n",
       "house_type_4     float64\n",
       "house_type_5     float64\n",
       "occyp_type_0     float64\n",
       "occyp_type_1     float64\n",
       "occyp_type_2     float64\n",
       "occyp_type_3     float64\n",
       "occyp_type_4     float64\n",
       "occyp_type_5     float64\n",
       "occyp_type_6     float64\n",
       "occyp_type_7     float64\n",
       "occyp_type_8     float64\n",
       "occyp_type_9     float64\n",
       "occyp_type_10    float64\n",
       "occyp_type_11    float64\n",
       "occyp_type_12    float64\n",
       "occyp_type_13    float64\n",
       "occyp_type_14    float64\n",
       "occyp_type_15    float64\n",
       "occyp_type_16    float64\n",
       "occyp_type_17    float64\n",
       "dtype: object"
      ]
     },
     "execution_count": 30,
     "metadata": {},
     "output_type": "execute_result"
    }
   ],
   "source": [
    "data.dtypes"
   ]
  },
  {
   "cell_type": "code",
   "execution_count": null,
   "id": "working-library",
   "metadata": {},
   "outputs": [],
   "source": []
  },
  {
   "cell_type": "code",
   "execution_count": null,
   "id": "competitive-invitation",
   "metadata": {},
   "outputs": [],
   "source": []
  },
  {
   "cell_type": "code",
   "execution_count": 31,
   "id": "caring-judges",
   "metadata": {},
   "outputs": [
    {
     "data": {
      "text/html": [
       "<div>\n",
       "<style scoped>\n",
       "    .dataframe tbody tr th:only-of-type {\n",
       "        vertical-align: middle;\n",
       "    }\n",
       "\n",
       "    .dataframe tbody tr th {\n",
       "        vertical-align: top;\n",
       "    }\n",
       "\n",
       "    .dataframe thead th {\n",
       "        text-align: right;\n",
       "    }\n",
       "</style>\n",
       "<table border=\"1\" class=\"dataframe\">\n",
       "  <thead>\n",
       "    <tr style=\"text-align: right;\">\n",
       "      <th></th>\n",
       "      <th>child_num</th>\n",
       "      <th>income_total</th>\n",
       "      <th>DAYS_BIRTH</th>\n",
       "      <th>DAYS_EMPLOYED</th>\n",
       "      <th>family_size</th>\n",
       "      <th>begin_month</th>\n",
       "      <th>credit</th>\n",
       "      <th>car_0</th>\n",
       "      <th>car_1</th>\n",
       "      <th>income_type_0</th>\n",
       "      <th>...</th>\n",
       "      <th>occyp_type_8</th>\n",
       "      <th>occyp_type_9</th>\n",
       "      <th>occyp_type_10</th>\n",
       "      <th>occyp_type_11</th>\n",
       "      <th>occyp_type_12</th>\n",
       "      <th>occyp_type_13</th>\n",
       "      <th>occyp_type_14</th>\n",
       "      <th>occyp_type_15</th>\n",
       "      <th>occyp_type_16</th>\n",
       "      <th>occyp_type_17</th>\n",
       "    </tr>\n",
       "  </thead>\n",
       "  <tbody>\n",
       "    <tr>\n",
       "      <th>0</th>\n",
       "      <td>0</td>\n",
       "      <td>202500.0</td>\n",
       "      <td>38.079452</td>\n",
       "      <td>-4709</td>\n",
       "      <td>2.0</td>\n",
       "      <td>6</td>\n",
       "      <td>1.0</td>\n",
       "      <td>1.0</td>\n",
       "      <td>0.0</td>\n",
       "      <td>1.0</td>\n",
       "      <td>...</td>\n",
       "      <td>1.0</td>\n",
       "      <td>0.0</td>\n",
       "      <td>0.0</td>\n",
       "      <td>0.0</td>\n",
       "      <td>0.0</td>\n",
       "      <td>0.0</td>\n",
       "      <td>0.0</td>\n",
       "      <td>0.0</td>\n",
       "      <td>0.0</td>\n",
       "      <td>0.0</td>\n",
       "    </tr>\n",
       "    <tr>\n",
       "      <th>1</th>\n",
       "      <td>1</td>\n",
       "      <td>247500.0</td>\n",
       "      <td>31.178082</td>\n",
       "      <td>-1540</td>\n",
       "      <td>3.0</td>\n",
       "      <td>5</td>\n",
       "      <td>1.0</td>\n",
       "      <td>1.0</td>\n",
       "      <td>0.0</td>\n",
       "      <td>1.0</td>\n",
       "      <td>...</td>\n",
       "      <td>1.0</td>\n",
       "      <td>0.0</td>\n",
       "      <td>0.0</td>\n",
       "      <td>0.0</td>\n",
       "      <td>0.0</td>\n",
       "      <td>0.0</td>\n",
       "      <td>0.0</td>\n",
       "      <td>0.0</td>\n",
       "      <td>0.0</td>\n",
       "      <td>0.0</td>\n",
       "    </tr>\n",
       "    <tr>\n",
       "      <th>2</th>\n",
       "      <td>0</td>\n",
       "      <td>450000.0</td>\n",
       "      <td>52.293151</td>\n",
       "      <td>-4434</td>\n",
       "      <td>2.0</td>\n",
       "      <td>22</td>\n",
       "      <td>2.0</td>\n",
       "      <td>0.0</td>\n",
       "      <td>1.0</td>\n",
       "      <td>0.0</td>\n",
       "      <td>...</td>\n",
       "      <td>0.0</td>\n",
       "      <td>0.0</td>\n",
       "      <td>1.0</td>\n",
       "      <td>0.0</td>\n",
       "      <td>0.0</td>\n",
       "      <td>0.0</td>\n",
       "      <td>0.0</td>\n",
       "      <td>0.0</td>\n",
       "      <td>0.0</td>\n",
       "      <td>0.0</td>\n",
       "    </tr>\n",
       "    <tr>\n",
       "      <th>3</th>\n",
       "      <td>0</td>\n",
       "      <td>202500.0</td>\n",
       "      <td>41.336986</td>\n",
       "      <td>-2092</td>\n",
       "      <td>2.0</td>\n",
       "      <td>37</td>\n",
       "      <td>0.0</td>\n",
       "      <td>1.0</td>\n",
       "      <td>0.0</td>\n",
       "      <td>1.0</td>\n",
       "      <td>...</td>\n",
       "      <td>0.0</td>\n",
       "      <td>0.0</td>\n",
       "      <td>0.0</td>\n",
       "      <td>0.0</td>\n",
       "      <td>0.0</td>\n",
       "      <td>0.0</td>\n",
       "      <td>1.0</td>\n",
       "      <td>0.0</td>\n",
       "      <td>0.0</td>\n",
       "      <td>0.0</td>\n",
       "    </tr>\n",
       "    <tr>\n",
       "      <th>4</th>\n",
       "      <td>0</td>\n",
       "      <td>157500.0</td>\n",
       "      <td>41.197260</td>\n",
       "      <td>-2105</td>\n",
       "      <td>2.0</td>\n",
       "      <td>26</td>\n",
       "      <td>2.0</td>\n",
       "      <td>0.0</td>\n",
       "      <td>1.0</td>\n",
       "      <td>0.0</td>\n",
       "      <td>...</td>\n",
       "      <td>0.0</td>\n",
       "      <td>0.0</td>\n",
       "      <td>1.0</td>\n",
       "      <td>0.0</td>\n",
       "      <td>0.0</td>\n",
       "      <td>0.0</td>\n",
       "      <td>0.0</td>\n",
       "      <td>0.0</td>\n",
       "      <td>0.0</td>\n",
       "      <td>0.0</td>\n",
       "    </tr>\n",
       "  </tbody>\n",
       "</table>\n",
       "<p>5 rows × 48 columns</p>\n",
       "</div>"
      ],
      "text/plain": [
       "   child_num  income_total  DAYS_BIRTH  DAYS_EMPLOYED  family_size  \\\n",
       "0          0      202500.0   38.079452          -4709          2.0   \n",
       "1          1      247500.0   31.178082          -1540          3.0   \n",
       "2          0      450000.0   52.293151          -4434          2.0   \n",
       "3          0      202500.0   41.336986          -2092          2.0   \n",
       "4          0      157500.0   41.197260          -2105          2.0   \n",
       "\n",
       "   begin_month  credit  car_0  car_1  income_type_0  ...  occyp_type_8  \\\n",
       "0            6     1.0    1.0    0.0            1.0  ...           1.0   \n",
       "1            5     1.0    1.0    0.0            1.0  ...           1.0   \n",
       "2           22     2.0    0.0    1.0            0.0  ...           0.0   \n",
       "3           37     0.0    1.0    0.0            1.0  ...           0.0   \n",
       "4           26     2.0    0.0    1.0            0.0  ...           0.0   \n",
       "\n",
       "   occyp_type_9  occyp_type_10  occyp_type_11  occyp_type_12  occyp_type_13  \\\n",
       "0           0.0            0.0            0.0            0.0            0.0   \n",
       "1           0.0            0.0            0.0            0.0            0.0   \n",
       "2           0.0            1.0            0.0            0.0            0.0   \n",
       "3           0.0            0.0            0.0            0.0            0.0   \n",
       "4           0.0            1.0            0.0            0.0            0.0   \n",
       "\n",
       "   occyp_type_14  occyp_type_15  occyp_type_16  occyp_type_17  \n",
       "0            0.0            0.0            0.0            0.0  \n",
       "1            0.0            0.0            0.0            0.0  \n",
       "2            0.0            0.0            0.0            0.0  \n",
       "3            1.0            0.0            0.0            0.0  \n",
       "4            0.0            0.0            0.0            0.0  \n",
       "\n",
       "[5 rows x 48 columns]"
      ]
     },
     "execution_count": 31,
     "metadata": {},
     "output_type": "execute_result"
    }
   ],
   "source": [
    "data.head()"
   ]
  },
  {
   "cell_type": "markdown",
   "id": "marked-invasion",
   "metadata": {},
   "source": [
    "# test, train 분리"
   ]
  },
  {
   "cell_type": "code",
   "execution_count": 32,
   "id": "reduced-active",
   "metadata": {},
   "outputs": [],
   "source": [
    "test = data[-10000:] #다시 test와 train 분리하기"
   ]
  },
  {
   "cell_type": "code",
   "execution_count": 33,
   "id": "serial-marker",
   "metadata": {},
   "outputs": [],
   "source": [
    "train = data[:-10000]"
   ]
  },
  {
   "cell_type": "code",
   "execution_count": null,
   "id": "italian-invitation",
   "metadata": {},
   "outputs": [],
   "source": []
  },
  {
   "cell_type": "code",
   "execution_count": null,
   "id": "confidential-mechanics",
   "metadata": {},
   "outputs": [],
   "source": []
  },
  {
   "cell_type": "code",
   "execution_count": null,
   "id": "upset-receiver",
   "metadata": {},
   "outputs": [],
   "source": []
  },
  {
   "cell_type": "code",
   "execution_count": null,
   "id": "humanitarian-cover",
   "metadata": {},
   "outputs": [],
   "source": []
  },
  {
   "cell_type": "code",
   "execution_count": 34,
   "id": "accurate-scholarship",
   "metadata": {},
   "outputs": [
    {
     "name": "stdout",
     "output_type": "stream",
     "text": [
      "<class 'pandas.core.frame.DataFrame'>\n",
      "RangeIndex: 10000 entries, 26457 to 36456\n",
      "Data columns (total 48 columns):\n",
      " #   Column         Non-Null Count  Dtype  \n",
      "---  ------         --------------  -----  \n",
      " 0   child_num      10000 non-null  int64  \n",
      " 1   income_total   10000 non-null  float64\n",
      " 2   DAYS_BIRTH     10000 non-null  float64\n",
      " 3   DAYS_EMPLOYED  10000 non-null  int32  \n",
      " 4   family_size    10000 non-null  float64\n",
      " 5   begin_month    10000 non-null  int64  \n",
      " 6   credit         0 non-null      float64\n",
      " 7   car_0          10000 non-null  float64\n",
      " 8   car_1          10000 non-null  float64\n",
      " 9   income_type_0  10000 non-null  float64\n",
      " 10  income_type_1  10000 non-null  float64\n",
      " 11  income_type_2  10000 non-null  float64\n",
      " 12  income_type_3  10000 non-null  float64\n",
      " 13  income_type_4  10000 non-null  float64\n",
      " 14  edu_type_0     10000 non-null  float64\n",
      " 15  edu_type_1     10000 non-null  float64\n",
      " 16  edu_type_2     10000 non-null  float64\n",
      " 17  edu_type_3     10000 non-null  float64\n",
      " 18  edu_type_4     10000 non-null  float64\n",
      " 19  family_type_0  10000 non-null  float64\n",
      " 20  family_type_1  10000 non-null  float64\n",
      " 21  family_type_2  10000 non-null  float64\n",
      " 22  family_type_3  10000 non-null  float64\n",
      " 23  family_type_4  10000 non-null  float64\n",
      " 24  house_type_0   10000 non-null  float64\n",
      " 25  house_type_1   10000 non-null  float64\n",
      " 26  house_type_2   10000 non-null  float64\n",
      " 27  house_type_3   10000 non-null  float64\n",
      " 28  house_type_4   10000 non-null  float64\n",
      " 29  house_type_5   10000 non-null  float64\n",
      " 30  occyp_type_0   10000 non-null  float64\n",
      " 31  occyp_type_1   10000 non-null  float64\n",
      " 32  occyp_type_2   10000 non-null  float64\n",
      " 33  occyp_type_3   10000 non-null  float64\n",
      " 34  occyp_type_4   10000 non-null  float64\n",
      " 35  occyp_type_5   10000 non-null  float64\n",
      " 36  occyp_type_6   10000 non-null  float64\n",
      " 37  occyp_type_7   10000 non-null  float64\n",
      " 38  occyp_type_8   10000 non-null  float64\n",
      " 39  occyp_type_9   10000 non-null  float64\n",
      " 40  occyp_type_10  10000 non-null  float64\n",
      " 41  occyp_type_11  10000 non-null  float64\n",
      " 42  occyp_type_12  10000 non-null  float64\n",
      " 43  occyp_type_13  10000 non-null  float64\n",
      " 44  occyp_type_14  10000 non-null  float64\n",
      " 45  occyp_type_15  10000 non-null  float64\n",
      " 46  occyp_type_16  10000 non-null  float64\n",
      " 47  occyp_type_17  10000 non-null  float64\n",
      "dtypes: float64(45), int32(1), int64(2)\n",
      "memory usage: 3.6 MB\n"
     ]
    }
   ],
   "source": [
    "test.info()"
   ]
  },
  {
   "cell_type": "code",
   "execution_count": 35,
   "id": "crazy-elephant",
   "metadata": {},
   "outputs": [
    {
     "name": "stdout",
     "output_type": "stream",
     "text": [
      "<class 'pandas.core.frame.DataFrame'>\n",
      "RangeIndex: 26457 entries, 0 to 26456\n",
      "Data columns (total 48 columns):\n",
      " #   Column         Non-Null Count  Dtype  \n",
      "---  ------         --------------  -----  \n",
      " 0   child_num      26457 non-null  int64  \n",
      " 1   income_total   26457 non-null  float64\n",
      " 2   DAYS_BIRTH     26457 non-null  float64\n",
      " 3   DAYS_EMPLOYED  26457 non-null  int32  \n",
      " 4   family_size    26457 non-null  float64\n",
      " 5   begin_month    26457 non-null  int64  \n",
      " 6   credit         26457 non-null  float64\n",
      " 7   car_0          26457 non-null  float64\n",
      " 8   car_1          26457 non-null  float64\n",
      " 9   income_type_0  26457 non-null  float64\n",
      " 10  income_type_1  26457 non-null  float64\n",
      " 11  income_type_2  26457 non-null  float64\n",
      " 12  income_type_3  26457 non-null  float64\n",
      " 13  income_type_4  26457 non-null  float64\n",
      " 14  edu_type_0     26457 non-null  float64\n",
      " 15  edu_type_1     26457 non-null  float64\n",
      " 16  edu_type_2     26457 non-null  float64\n",
      " 17  edu_type_3     26457 non-null  float64\n",
      " 18  edu_type_4     26457 non-null  float64\n",
      " 19  family_type_0  26457 non-null  float64\n",
      " 20  family_type_1  26457 non-null  float64\n",
      " 21  family_type_2  26457 non-null  float64\n",
      " 22  family_type_3  26457 non-null  float64\n",
      " 23  family_type_4  26457 non-null  float64\n",
      " 24  house_type_0   26457 non-null  float64\n",
      " 25  house_type_1   26457 non-null  float64\n",
      " 26  house_type_2   26457 non-null  float64\n",
      " 27  house_type_3   26457 non-null  float64\n",
      " 28  house_type_4   26457 non-null  float64\n",
      " 29  house_type_5   26457 non-null  float64\n",
      " 30  occyp_type_0   26457 non-null  float64\n",
      " 31  occyp_type_1   26457 non-null  float64\n",
      " 32  occyp_type_2   26457 non-null  float64\n",
      " 33  occyp_type_3   26457 non-null  float64\n",
      " 34  occyp_type_4   26457 non-null  float64\n",
      " 35  occyp_type_5   26457 non-null  float64\n",
      " 36  occyp_type_6   26457 non-null  float64\n",
      " 37  occyp_type_7   26457 non-null  float64\n",
      " 38  occyp_type_8   26457 non-null  float64\n",
      " 39  occyp_type_9   26457 non-null  float64\n",
      " 40  occyp_type_10  26457 non-null  float64\n",
      " 41  occyp_type_11  26457 non-null  float64\n",
      " 42  occyp_type_12  26457 non-null  float64\n",
      " 43  occyp_type_13  26457 non-null  float64\n",
      " 44  occyp_type_14  26457 non-null  float64\n",
      " 45  occyp_type_15  26457 non-null  float64\n",
      " 46  occyp_type_16  26457 non-null  float64\n",
      " 47  occyp_type_17  26457 non-null  float64\n",
      "dtypes: float64(45), int32(1), int64(2)\n",
      "memory usage: 9.6 MB\n"
     ]
    }
   ],
   "source": [
    "train.info()"
   ]
  },
  {
   "cell_type": "markdown",
   "id": "pressed-velvet",
   "metadata": {},
   "source": [
    "# Training\n",
    "- 데이터 분리는 StratifiedKFold 를 사용하여 y값 분포를 비슷하게 분리시킴. -> 5-fold\n",
    "- lightgbm의 default parameter로 훈련.\n",
    "- 30번 이상 개선 없을 경우 중단.\n",
    "- 각 5개의 fold를 훈련하여 저장"
   ]
  },
  {
   "cell_type": "code",
   "execution_count": 36,
   "id": "false-environment",
   "metadata": {},
   "outputs": [],
   "source": [
    "model=LGBMClassifier()"
   ]
  },
  {
   "cell_type": "code",
   "execution_count": 37,
   "id": "proprietary-mumbai",
   "metadata": {},
   "outputs": [],
   "source": [
    "param_grid={'boosting' : ['gbdt'],\n",
    "            'learning_rate':[0.3, 0.1, 0.03, 0.01],\n",
    "            'max_depth':[-1, 10, 20, 30, 40, 50],\n",
    "            'n_estimators':[1000, 1500],\n",
    "            'bagging_fraction':[0.6, 0.7, 0.8, 0.9, 1],#행샘플링\n",
    "            'feature_fraction':[0.6, 0.7, 0.8, 0.9, 1],\n",
    "            #'scale_pos_weight':[],음수샘플수/양수샘플수\n",
    "            'early_stopping_round':[100],\n",
    "            'lambda_l1':[0],#default\n",
    "            'min_data_in_leaf':[5, 10, 15, 20, 25],#default:20\n",
    "            #'min_gain_to_split':[],\n",
    "            'max_cat_group':[30, 60, 90, 120], #default:64\n",
    "            'objective':['regression'],\n",
    "            'metric':['multi_logloss'],\n",
    "            'num_leaves':[10, 20, 31, 80, 150], #default:31\n",
    "            'max_bin':[5, 15, 63, 125, 255], #이해필요\n",
    "            'seed':[2020]\n",
    "            }"
   ]
  },
  {
   "cell_type": "code",
   "execution_count": 38,
   "id": "technological-torture",
   "metadata": {
    "ExecuteTime": {
     "end_time": "2021-04-05T07:28:17.473980Z",
     "start_time": "2021-04-05T07:28:17.463844Z"
    },
    "code_folding": []
   },
   "outputs": [
    {
     "data": {
      "text/plain": [
       "\"skf = StratifiedKFold(n_splits=7, shuffle=True, random_state=42)\\nfolds=[]\\nfor train_idx, valid_idx in skf.split(train, train['credit']):\\n    folds.append((train_idx, valid_idx))\""
      ]
     },
     "execution_count": 38,
     "metadata": {},
     "output_type": "execute_result"
    }
   ],
   "source": [
    "'''skf = StratifiedKFold(n_splits=7, shuffle=True, random_state=42)\n",
    "folds=[]\n",
    "for train_idx, valid_idx in skf.split(train, train['credit']):\n",
    "    folds.append((train_idx, valid_idx))'''"
   ]
  },
  {
   "cell_type": "code",
   "execution_count": 39,
   "id": "located-newark",
   "metadata": {},
   "outputs": [],
   "source": [
    "cv=KFold(n_splits=6, random_state=1, shuffle=True)#.split(X=train.drop(['credit'],axis=1), y=train['credit'])"
   ]
  },
  {
   "cell_type": "code",
   "execution_count": 40,
   "id": "close-interaction",
   "metadata": {},
   "outputs": [],
   "source": [
    "gcv=GridSearchCV(model, param_grid=param_grid, cv=cv, scoring='f1')#, n_jobs=4)"
   ]
  },
  {
   "cell_type": "code",
   "execution_count": null,
   "id": "surface-stephen",
   "metadata": {},
   "outputs": [
    {
     "name": "stdout",
     "output_type": "stream",
     "text": [
      "[LightGBM] [Warning] Unknown parameter: max_cat_group\n",
      "[LightGBM] [Warning] boosting is set=gbdt, boosting_type=gbdt will be ignored. Current value: boosting=gbdt\n",
      "[LightGBM] [Warning] feature_fraction is set=0.6, colsample_bytree=1.0 will be ignored. Current value: feature_fraction=0.6\n",
      "[LightGBM] [Warning] min_data_in_leaf is set=5, min_child_samples=20 will be ignored. Current value: min_data_in_leaf=5\n",
      "[LightGBM] [Warning] lambda_l1 is set=0, reg_alpha=0.0 will be ignored. Current value: lambda_l1=0\n",
      "[LightGBM] [Warning] bagging_fraction is set=0.6, subsample=1.0 will be ignored. Current value: bagging_fraction=0.6\n"
     ]
    }
   ],
   "source": [
    "gcv.fit(train.drop(['credit'], axis=1), train['credit'])\n",
    "print('final params', gcv.best_params_)\n",
    "print('final score', gcv.best_score_)"
   ]
  },
  {
   "cell_type": "code",
   "execution_count": null,
   "id": "dominant-modification",
   "metadata": {
    "ExecuteTime": {
     "end_time": "2021-04-05T07:28:24.383183Z",
     "start_time": "2021-04-05T07:28:17.475190Z"
    },
    "scrolled": true
   },
   "outputs": [],
   "source": [
    "'''random.seed(42)\n",
    "lgb_models={}\n",
    "for fold in range(7):\n",
    "    print(f'===================================={fold+1}============================================')\n",
    "    X_train = train.drop(['credit'], axis=1)\n",
    "    y_train = train['credit']\n",
    "    train_idx, valid_idx = folds[fold]\n",
    "    X_train, X_valid, y_train, y_valid = train.drop(['credit'],axis=1).iloc[train_idx].values, \\\n",
    "                                            train.drop(['credit'],axis=1).iloc[valid_idx].values,\\\n",
    "                                         train['credit'][train_idx].values,\\\n",
    "                                            train['credit'][valid_idx].values\n",
    "    '''norm_X_train = (X_train - X_train.min()) / ( X_train.max() - X_train.min())\n",
    "    norm_X_valid = (X_valid - X_valid.min()) / ( X_valid.max() - X_valid.min())'''\n",
    "    '''norm_X_train = (X_train - X_train.mean()) / ( X_train.std())\n",
    "    norm_X_valid = (X_valid - X_valid.mean()) / ( X_valid.std())'''\n",
    "    \n",
    "    lgb = LGBMClassifier(boosting_type='gbdt',\n",
    "                        learning_rate=0.03,#0.1,0.03이 젤 좋았다\n",
    "                         max_depth=30,\n",
    "                         n_estimators=1500,\n",
    "                         objective='regression',\n",
    "                         metric='multi_logloss',\n",
    "                         is_training_metric=True,\n",
    "                         num_leaves=150, #중요\n",
    "                         feature_fraction=0.7,#0.7,#몇프로feature랜덤하게 학습 열 샘플링\n",
    "                         bagging_fraction=0.7, #행 샘플링\n",
    "                         bagging_freq=2,\n",
    "                         seed=2020,\n",
    "                         early_stopping_round=100,\n",
    "                         min_data_in_leaf=5, #중요\n",
    "                         tree_learner='feature',\n",
    "                         extra_trees='False',\n",
    "                         #categorical_feature='', #범주형 데이터 열 적기\n",
    "                        )\n",
    "    lgb.fit(X_train, y_train, eval_set=[(X_train, y_train), (X_valid, y_valid)], early_stopping_rounds=50,\n",
    "           verbose=100) #verbose 횟수마다 출력\n",
    "    \n",
    "    lgb_models[fold]=lgb\n",
    "    print(f'================================================================================\\n\\n')\n",
    "    print(lgb.feature_importances_)'''"
   ]
  },
  {
   "cell_type": "code",
   "execution_count": null,
   "id": "complimentary-collaboration",
   "metadata": {},
   "outputs": [],
   "source": [
    "test.drop(['credit'], axis=1, inplace=True)"
   ]
  },
  {
   "cell_type": "markdown",
   "id": "military-links",
   "metadata": {},
   "source": [
    "# Test inference\n",
    "- 각 fold를 훈련시킨 lightgbm model로 predict.\n",
    "- 해당 대회는 logloss score를 겨루는 것이기 때문에 각 class의 probability를 얻어야함.\n",
    "- 대부분의 머신러닝 모델에서 predict, predict_proba를 구분하여 사용함.\n",
    "- predict는 class 출력을 해주고 predict_proba는 class별 probability를 출력해줌.\n",
    "- predict_proba를 사용하여 예측한 것을 5-fold 더하여 평균내어 앙상블."
   ]
  },
  {
   "cell_type": "code",
   "execution_count": null,
   "id": "physical-involvement",
   "metadata": {
    "ExecuteTime": {
     "end_time": "2021-04-05T07:28:24.561816Z",
     "start_time": "2021-04-05T07:28:24.387286Z"
    },
    "run_control": {
     "marked": true
    }
   },
   "outputs": [],
   "source": [
    "submit.iloc[:,1:]=0\n",
    "for fold in range(7):\n",
    "    submit.iloc[:,1:] += lgb_models[fold].predict_proba(test)/7"
   ]
  },
  {
   "cell_type": "code",
   "execution_count": null,
   "id": "pursuant-spencer",
   "metadata": {
    "ExecuteTime": {
     "end_time": "2021-04-05T07:28:24.598886Z",
     "start_time": "2021-04-05T07:28:24.563499Z"
    }
   },
   "outputs": [],
   "source": [
    "submit.to_csv('submit/Guk_202105011_test_submit_ensemble.csv', index=False) # 0.7272812144"
   ]
  },
  {
   "cell_type": "code",
   "execution_count": null,
   "id": "authentic-african",
   "metadata": {
    "ExecuteTime": {
     "end_time": "2021-04-05T07:28:24.611127Z",
     "start_time": "2021-04-05T07:28:24.599932Z"
    }
   },
   "outputs": [],
   "source": [
    "submit.head(20)"
   ]
  },
  {
   "cell_type": "code",
   "execution_count": null,
   "id": "entitled-azerbaijan",
   "metadata": {},
   "outputs": [],
   "source": []
  },
  {
   "cell_type": "code",
   "execution_count": null,
   "id": "suspended-recipe",
   "metadata": {},
   "outputs": [],
   "source": []
  }
 ],
 "metadata": {
  "kernelspec": {
   "display_name": "Python 3",
   "language": "python",
   "name": "python3"
  },
  "language_info": {
   "codemirror_mode": {
    "name": "ipython",
    "version": 3
   },
   "file_extension": ".py",
   "mimetype": "text/x-python",
   "name": "python",
   "nbconvert_exporter": "python",
   "pygments_lexer": "ipython3",
   "version": "3.8.2"
  },
  "toc": {
   "base_numbering": 1,
   "nav_menu": {},
   "number_sections": true,
   "sideBar": true,
   "skip_h1_title": false,
   "title_cell": "Table of Contents",
   "title_sidebar": "Contents",
   "toc_cell": false,
   "toc_position": {},
   "toc_section_display": true,
   "toc_window_display": false
  },
  "varInspector": {
   "cols": {
    "lenName": 16,
    "lenType": 16,
    "lenVar": 40
   },
   "kernels_config": {
    "python": {
     "delete_cmd_postfix": "",
     "delete_cmd_prefix": "del ",
     "library": "var_list.py",
     "varRefreshCmd": "print(var_dic_list())"
    },
    "r": {
     "delete_cmd_postfix": ") ",
     "delete_cmd_prefix": "rm(",
     "library": "var_list.r",
     "varRefreshCmd": "cat(var_dic_list()) "
    }
   },
   "types_to_exclude": [
    "module",
    "function",
    "builtin_function_or_method",
    "instance",
    "_Feature"
   ],
   "window_display": false
  }
 },
 "nbformat": 4,
 "nbformat_minor": 5
}
