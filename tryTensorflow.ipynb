{
 "cells": [
  {
   "cell_type": "code",
   "execution_count": 1771,
   "id": "ancient-translator",
   "metadata": {
    "ExecuteTime": {
     "end_time": "2021-04-05T07:28:17.254964Z",
     "start_time": "2021-04-05T07:28:16.734129Z"
    }
   },
   "outputs": [],
   "source": [
    "import warnings\n",
    "warnings.filterwarnings('ignore')\n",
    "import glob\n",
    "import pandas as pd\n",
    "import numpy as np\n",
    "from lightgbm import LGBMClassifier\n",
    "from sklearn.model_selection import StratifiedKFold, GridSearchCV, KFold\n",
    "from sklearn.preprocessing import OneHotEncoder\n",
    "from sklearn.model_selection import train_test_split\n",
    "\n",
    "import random\n",
    "import matplotlib.pyplot as plt\n",
    "import seaborn as sns\n",
    "\n",
    "import tensorflow as tf\n",
    "from tensorflow import keras\n",
    "from tensorflow.keras.layers import Dense"
   ]
  },
  {
   "cell_type": "code",
   "execution_count": 1772,
   "id": "changed-october",
   "metadata": {
    "ExecuteTime": {
     "end_time": "2021-04-05T07:28:17.326319Z",
     "start_time": "2021-04-05T07:28:17.256352Z"
    },
    "run_control": {
     "marked": true
    }
   },
   "outputs": [],
   "source": [
    "#불러오기\n",
    "train = pd.read_csv('dataset/train.csv')\n",
    "test = pd.read_csv('dataset/test.csv')\n",
    "submit = pd.read_csv('dataset/sample_submission.csv')"
   ]
  },
  {
   "cell_type": "code",
   "execution_count": 1773,
   "id": "faced-details",
   "metadata": {},
   "outputs": [],
   "source": [
    "data = pd.concat([train, test], axis = 0) #train과 test 합치기"
   ]
  },
  {
   "cell_type": "code",
   "execution_count": 1774,
   "id": "julian-invite",
   "metadata": {},
   "outputs": [
    {
     "data": {
      "text/html": [
       "<div>\n",
       "<style scoped>\n",
       "    .dataframe tbody tr th:only-of-type {\n",
       "        vertical-align: middle;\n",
       "    }\n",
       "\n",
       "    .dataframe tbody tr th {\n",
       "        vertical-align: top;\n",
       "    }\n",
       "\n",
       "    .dataframe thead th {\n",
       "        text-align: right;\n",
       "    }\n",
       "</style>\n",
       "<table border=\"1\" class=\"dataframe\">\n",
       "  <thead>\n",
       "    <tr style=\"text-align: right;\">\n",
       "      <th></th>\n",
       "      <th>index</th>\n",
       "      <th>gender</th>\n",
       "      <th>car</th>\n",
       "      <th>reality</th>\n",
       "      <th>child_num</th>\n",
       "      <th>income_total</th>\n",
       "      <th>income_type</th>\n",
       "      <th>edu_type</th>\n",
       "      <th>family_type</th>\n",
       "      <th>house_type</th>\n",
       "      <th>DAYS_BIRTH</th>\n",
       "      <th>DAYS_EMPLOYED</th>\n",
       "      <th>FLAG_MOBIL</th>\n",
       "      <th>work_phone</th>\n",
       "      <th>phone</th>\n",
       "      <th>email</th>\n",
       "      <th>occyp_type</th>\n",
       "      <th>family_size</th>\n",
       "      <th>begin_month</th>\n",
       "      <th>credit</th>\n",
       "    </tr>\n",
       "  </thead>\n",
       "  <tbody>\n",
       "    <tr>\n",
       "      <th>0</th>\n",
       "      <td>0</td>\n",
       "      <td>F</td>\n",
       "      <td>N</td>\n",
       "      <td>N</td>\n",
       "      <td>0</td>\n",
       "      <td>202500.0</td>\n",
       "      <td>Commercial associate</td>\n",
       "      <td>Higher education</td>\n",
       "      <td>Married</td>\n",
       "      <td>Municipal apartment</td>\n",
       "      <td>-13899</td>\n",
       "      <td>-4709</td>\n",
       "      <td>1</td>\n",
       "      <td>0</td>\n",
       "      <td>0</td>\n",
       "      <td>0</td>\n",
       "      <td>NaN</td>\n",
       "      <td>2.0</td>\n",
       "      <td>-6.0</td>\n",
       "      <td>1.0</td>\n",
       "    </tr>\n",
       "    <tr>\n",
       "      <th>1</th>\n",
       "      <td>1</td>\n",
       "      <td>F</td>\n",
       "      <td>N</td>\n",
       "      <td>Y</td>\n",
       "      <td>1</td>\n",
       "      <td>247500.0</td>\n",
       "      <td>Commercial associate</td>\n",
       "      <td>Secondary / secondary special</td>\n",
       "      <td>Civil marriage</td>\n",
       "      <td>House / apartment</td>\n",
       "      <td>-11380</td>\n",
       "      <td>-1540</td>\n",
       "      <td>1</td>\n",
       "      <td>0</td>\n",
       "      <td>0</td>\n",
       "      <td>1</td>\n",
       "      <td>Laborers</td>\n",
       "      <td>3.0</td>\n",
       "      <td>-5.0</td>\n",
       "      <td>1.0</td>\n",
       "    </tr>\n",
       "    <tr>\n",
       "      <th>2</th>\n",
       "      <td>2</td>\n",
       "      <td>M</td>\n",
       "      <td>Y</td>\n",
       "      <td>Y</td>\n",
       "      <td>0</td>\n",
       "      <td>450000.0</td>\n",
       "      <td>Working</td>\n",
       "      <td>Higher education</td>\n",
       "      <td>Married</td>\n",
       "      <td>House / apartment</td>\n",
       "      <td>-19087</td>\n",
       "      <td>-4434</td>\n",
       "      <td>1</td>\n",
       "      <td>0</td>\n",
       "      <td>1</td>\n",
       "      <td>0</td>\n",
       "      <td>Managers</td>\n",
       "      <td>2.0</td>\n",
       "      <td>-22.0</td>\n",
       "      <td>2.0</td>\n",
       "    </tr>\n",
       "    <tr>\n",
       "      <th>3</th>\n",
       "      <td>3</td>\n",
       "      <td>F</td>\n",
       "      <td>N</td>\n",
       "      <td>Y</td>\n",
       "      <td>0</td>\n",
       "      <td>202500.0</td>\n",
       "      <td>Commercial associate</td>\n",
       "      <td>Secondary / secondary special</td>\n",
       "      <td>Married</td>\n",
       "      <td>House / apartment</td>\n",
       "      <td>-15088</td>\n",
       "      <td>-2092</td>\n",
       "      <td>1</td>\n",
       "      <td>0</td>\n",
       "      <td>1</td>\n",
       "      <td>0</td>\n",
       "      <td>Sales staff</td>\n",
       "      <td>2.0</td>\n",
       "      <td>-37.0</td>\n",
       "      <td>0.0</td>\n",
       "    </tr>\n",
       "    <tr>\n",
       "      <th>4</th>\n",
       "      <td>4</td>\n",
       "      <td>F</td>\n",
       "      <td>Y</td>\n",
       "      <td>Y</td>\n",
       "      <td>0</td>\n",
       "      <td>157500.0</td>\n",
       "      <td>State servant</td>\n",
       "      <td>Higher education</td>\n",
       "      <td>Married</td>\n",
       "      <td>House / apartment</td>\n",
       "      <td>-15037</td>\n",
       "      <td>-2105</td>\n",
       "      <td>1</td>\n",
       "      <td>0</td>\n",
       "      <td>0</td>\n",
       "      <td>0</td>\n",
       "      <td>Managers</td>\n",
       "      <td>2.0</td>\n",
       "      <td>-26.0</td>\n",
       "      <td>2.0</td>\n",
       "    </tr>\n",
       "  </tbody>\n",
       "</table>\n",
       "</div>"
      ],
      "text/plain": [
       "   index gender car reality  child_num  income_total           income_type  \\\n",
       "0      0      F   N       N          0      202500.0  Commercial associate   \n",
       "1      1      F   N       Y          1      247500.0  Commercial associate   \n",
       "2      2      M   Y       Y          0      450000.0               Working   \n",
       "3      3      F   N       Y          0      202500.0  Commercial associate   \n",
       "4      4      F   Y       Y          0      157500.0         State servant   \n",
       "\n",
       "                        edu_type     family_type           house_type  \\\n",
       "0               Higher education         Married  Municipal apartment   \n",
       "1  Secondary / secondary special  Civil marriage    House / apartment   \n",
       "2               Higher education         Married    House / apartment   \n",
       "3  Secondary / secondary special         Married    House / apartment   \n",
       "4               Higher education         Married    House / apartment   \n",
       "\n",
       "   DAYS_BIRTH  DAYS_EMPLOYED  FLAG_MOBIL  work_phone  phone  email  \\\n",
       "0      -13899          -4709           1           0      0      0   \n",
       "1      -11380          -1540           1           0      0      1   \n",
       "2      -19087          -4434           1           0      1      0   \n",
       "3      -15088          -2092           1           0      1      0   \n",
       "4      -15037          -2105           1           0      0      0   \n",
       "\n",
       "    occyp_type  family_size  begin_month  credit  \n",
       "0          NaN          2.0         -6.0     1.0  \n",
       "1     Laborers          3.0         -5.0     1.0  \n",
       "2     Managers          2.0        -22.0     2.0  \n",
       "3  Sales staff          2.0        -37.0     0.0  \n",
       "4     Managers          2.0        -26.0     2.0  "
      ]
     },
     "execution_count": 1774,
     "metadata": {},
     "output_type": "execute_result"
    }
   ],
   "source": [
    "data.head()"
   ]
  },
  {
   "cell_type": "code",
   "execution_count": 1775,
   "id": "fuzzy-inspiration",
   "metadata": {},
   "outputs": [
    {
     "name": "stdout",
     "output_type": "stream",
     "text": [
      "<class 'pandas.core.frame.DataFrame'>\n",
      "Int64Index: 36457 entries, 0 to 9999\n",
      "Data columns (total 20 columns):\n",
      " #   Column         Non-Null Count  Dtype  \n",
      "---  ------         --------------  -----  \n",
      " 0   index          36457 non-null  int64  \n",
      " 1   gender         36457 non-null  object \n",
      " 2   car            36457 non-null  object \n",
      " 3   reality        36457 non-null  object \n",
      " 4   child_num      36457 non-null  int64  \n",
      " 5   income_total   36457 non-null  float64\n",
      " 6   income_type    36457 non-null  object \n",
      " 7   edu_type       36457 non-null  object \n",
      " 8   family_type    36457 non-null  object \n",
      " 9   house_type     36457 non-null  object \n",
      " 10  DAYS_BIRTH     36457 non-null  int64  \n",
      " 11  DAYS_EMPLOYED  36457 non-null  int64  \n",
      " 12  FLAG_MOBIL     36457 non-null  int64  \n",
      " 13  work_phone     36457 non-null  int64  \n",
      " 14  phone          36457 non-null  int64  \n",
      " 15  email          36457 non-null  int64  \n",
      " 16  occyp_type     25134 non-null  object \n",
      " 17  family_size    36457 non-null  float64\n",
      " 18  begin_month    36457 non-null  float64\n",
      " 19  credit         26457 non-null  float64\n",
      "dtypes: float64(4), int64(8), object(8)\n",
      "memory usage: 5.8+ MB\n"
     ]
    }
   ],
   "source": [
    "data.info()"
   ]
  },
  {
   "cell_type": "code",
   "execution_count": 1776,
   "id": "soviet-differential",
   "metadata": {},
   "outputs": [
    {
     "data": {
      "text/plain": [
       "count        25134\n",
       "unique          18\n",
       "top       Laborers\n",
       "freq          6211\n",
       "Name: occyp_type, dtype: object"
      ]
     },
     "execution_count": 1776,
     "metadata": {},
     "output_type": "execute_result"
    }
   ],
   "source": [
    "data['occyp_type'].describe()"
   ]
  },
  {
   "cell_type": "code",
   "execution_count": 1777,
   "id": "supreme-enterprise",
   "metadata": {
    "ExecuteTime": {
     "end_time": "2021-04-05T07:28:17.330984Z",
     "start_time": "2021-04-05T07:28:17.328119Z"
    },
    "code_folding": []
   },
   "outputs": [
    {
     "data": {
      "text/plain": [
       "index                0\n",
       "gender               0\n",
       "car                  0\n",
       "reality              0\n",
       "child_num            0\n",
       "income_total         0\n",
       "income_type          0\n",
       "edu_type             0\n",
       "family_type          0\n",
       "house_type           0\n",
       "DAYS_BIRTH           0\n",
       "DAYS_EMPLOYED        0\n",
       "FLAG_MOBIL           0\n",
       "work_phone           0\n",
       "phone                0\n",
       "email                0\n",
       "occyp_type       11323\n",
       "family_size          0\n",
       "begin_month          0\n",
       "credit           10000\n",
       "dtype: int64"
      ]
     },
     "execution_count": 1777,
     "metadata": {},
     "output_type": "execute_result"
    }
   ],
   "source": [
    "data.isnull().sum() #occyp_type 30%가 결측치"
   ]
  },
  {
   "cell_type": "code",
   "execution_count": 1778,
   "id": "ruled-crazy",
   "metadata": {
    "ExecuteTime": {
     "end_time": "2021-04-05T07:28:17.409966Z",
     "start_time": "2021-04-05T07:28:17.332094Z"
    }
   },
   "outputs": [],
   "source": [
    "data=data.drop(['index', 'FLAG_MOBIL'], axis=1)"
   ]
  },
  {
   "cell_type": "code",
   "execution_count": 1779,
   "id": "binding-summary",
   "metadata": {},
   "outputs": [],
   "source": [
    "data['occyp_type'].fillna(\"Laborers\", inplace=True) #최빈값으로 채우기"
   ]
  },
  {
   "cell_type": "code",
   "execution_count": 1780,
   "id": "significant-brook",
   "metadata": {},
   "outputs": [
    {
     "data": {
      "text/plain": [
       "gender               0\n",
       "car                  0\n",
       "reality              0\n",
       "child_num            0\n",
       "income_total         0\n",
       "income_type          0\n",
       "edu_type             0\n",
       "family_type          0\n",
       "house_type           0\n",
       "DAYS_BIRTH           0\n",
       "DAYS_EMPLOYED        0\n",
       "work_phone           0\n",
       "phone                0\n",
       "email                0\n",
       "occyp_type           0\n",
       "family_size          0\n",
       "begin_month          0\n",
       "credit           10000\n",
       "dtype: int64"
      ]
     },
     "execution_count": 1780,
     "metadata": {},
     "output_type": "execute_result"
    }
   ],
   "source": [
    "data.isnull().sum()"
   ]
  },
  {
   "cell_type": "markdown",
   "id": "recreational-estimate",
   "metadata": {},
   "source": [
    "# 열 삭제"
   ]
  },
  {
   "cell_type": "code",
   "execution_count": 1781,
   "id": "intense-parker",
   "metadata": {},
   "outputs": [
    {
     "data": {
      "text/plain": [
       "\"data.drop(['email'],axis=1, inplace=True)\\ndata.drop(['phone'],axis=1, inplace=True)\\ndata.drop(['work_phone'],axis=1, inplace=True)\\ndata.drop(['gender'],axis=1, inplace=True)\\ndata.drop(['reality'],axis=1, inplace=True)\""
      ]
     },
     "execution_count": 1781,
     "metadata": {},
     "output_type": "execute_result"
    }
   ],
   "source": [
    "'''data.drop(['email'],axis=1, inplace=True)\n",
    "data.drop(['phone'],axis=1, inplace=True)\n",
    "data.drop(['work_phone'],axis=1, inplace=True)\n",
    "data.drop(['gender'],axis=1, inplace=True)\n",
    "data.drop(['reality'],axis=1, inplace=True)'''"
   ]
  },
  {
   "cell_type": "code",
   "execution_count": 1782,
   "id": "settled-student",
   "metadata": {},
   "outputs": [],
   "source": [
    "unique_len = data.apply(lambda x : len(x.unique())) #모든 열의 요소개수가 몇개인지 확인하여 unique_len에 저장"
   ]
  },
  {
   "cell_type": "code",
   "execution_count": 1783,
   "id": "close-fashion",
   "metadata": {},
   "outputs": [
    {
     "data": {
      "text/plain": [
       "gender              2\n",
       "car                 2\n",
       "reality             2\n",
       "child_num           9\n",
       "income_total      265\n",
       "income_type         5\n",
       "edu_type            5\n",
       "family_type         5\n",
       "house_type          6\n",
       "DAYS_BIRTH       7183\n",
       "DAYS_EMPLOYED    3640\n",
       "work_phone          2\n",
       "phone               2\n",
       "email               2\n",
       "occyp_type         18\n",
       "family_size        10\n",
       "begin_month        61\n",
       "credit              4\n",
       "dtype: int64"
      ]
     },
     "execution_count": 1783,
     "metadata": {},
     "output_type": "execute_result"
    }
   ],
   "source": [
    "unique_len"
   ]
  },
  {
   "cell_type": "code",
   "execution_count": 1784,
   "id": "naked-stack",
   "metadata": {},
   "outputs": [],
   "source": [
    "group_1 = unique_len[unique_len <= 2].index #요소 개수가 2개 이하인 열의 인덱스\n",
    "group_2 = unique_len[(unique_len > 2)\\\n",
    "             & (unique_len <= 18)].index #요소 개수가 2개 초과, 18개이하인 열의 인덱스\n",
    "group_3 = unique_len[(unique_len > 18)].index #요소 개수가 18개 초과인 열의 인덱스"
   ]
  },
  {
   "cell_type": "markdown",
   "id": "extended-mining",
   "metadata": {},
   "source": [
    "# group1"
   ]
  },
  {
   "cell_type": "code",
   "execution_count": 1785,
   "id": "ruled-updating",
   "metadata": {},
   "outputs": [
    {
     "data": {
      "text/html": [
       "<div>\n",
       "<style scoped>\n",
       "    .dataframe tbody tr th:only-of-type {\n",
       "        vertical-align: middle;\n",
       "    }\n",
       "\n",
       "    .dataframe tbody tr th {\n",
       "        vertical-align: top;\n",
       "    }\n",
       "\n",
       "    .dataframe thead th {\n",
       "        text-align: right;\n",
       "    }\n",
       "</style>\n",
       "<table border=\"1\" class=\"dataframe\">\n",
       "  <thead>\n",
       "    <tr style=\"text-align: right;\">\n",
       "      <th></th>\n",
       "      <th>gender</th>\n",
       "      <th>car</th>\n",
       "      <th>reality</th>\n",
       "      <th>work_phone</th>\n",
       "      <th>phone</th>\n",
       "      <th>email</th>\n",
       "    </tr>\n",
       "  </thead>\n",
       "  <tbody>\n",
       "    <tr>\n",
       "      <th>0</th>\n",
       "      <td>0</td>\n",
       "      <td>0</td>\n",
       "      <td>0</td>\n",
       "      <td>0</td>\n",
       "      <td>0</td>\n",
       "      <td>0</td>\n",
       "    </tr>\n",
       "    <tr>\n",
       "      <th>1</th>\n",
       "      <td>0</td>\n",
       "      <td>0</td>\n",
       "      <td>1</td>\n",
       "      <td>0</td>\n",
       "      <td>0</td>\n",
       "      <td>1</td>\n",
       "    </tr>\n",
       "    <tr>\n",
       "      <th>2</th>\n",
       "      <td>1</td>\n",
       "      <td>1</td>\n",
       "      <td>1</td>\n",
       "      <td>0</td>\n",
       "      <td>1</td>\n",
       "      <td>0</td>\n",
       "    </tr>\n",
       "    <tr>\n",
       "      <th>3</th>\n",
       "      <td>0</td>\n",
       "      <td>0</td>\n",
       "      <td>1</td>\n",
       "      <td>0</td>\n",
       "      <td>1</td>\n",
       "      <td>0</td>\n",
       "    </tr>\n",
       "    <tr>\n",
       "      <th>4</th>\n",
       "      <td>0</td>\n",
       "      <td>1</td>\n",
       "      <td>1</td>\n",
       "      <td>0</td>\n",
       "      <td>0</td>\n",
       "      <td>0</td>\n",
       "    </tr>\n",
       "    <tr>\n",
       "      <th>...</th>\n",
       "      <td>...</td>\n",
       "      <td>...</td>\n",
       "      <td>...</td>\n",
       "      <td>...</td>\n",
       "      <td>...</td>\n",
       "      <td>...</td>\n",
       "    </tr>\n",
       "    <tr>\n",
       "      <th>9995</th>\n",
       "      <td>0</td>\n",
       "      <td>1</td>\n",
       "      <td>1</td>\n",
       "      <td>1</td>\n",
       "      <td>1</td>\n",
       "      <td>0</td>\n",
       "    </tr>\n",
       "    <tr>\n",
       "      <th>9996</th>\n",
       "      <td>1</td>\n",
       "      <td>1</td>\n",
       "      <td>1</td>\n",
       "      <td>1</td>\n",
       "      <td>0</td>\n",
       "      <td>0</td>\n",
       "    </tr>\n",
       "    <tr>\n",
       "      <th>9997</th>\n",
       "      <td>0</td>\n",
       "      <td>0</td>\n",
       "      <td>1</td>\n",
       "      <td>0</td>\n",
       "      <td>0</td>\n",
       "      <td>0</td>\n",
       "    </tr>\n",
       "    <tr>\n",
       "      <th>9998</th>\n",
       "      <td>0</td>\n",
       "      <td>1</td>\n",
       "      <td>0</td>\n",
       "      <td>0</td>\n",
       "      <td>1</td>\n",
       "      <td>0</td>\n",
       "    </tr>\n",
       "    <tr>\n",
       "      <th>9999</th>\n",
       "      <td>0</td>\n",
       "      <td>0</td>\n",
       "      <td>1</td>\n",
       "      <td>0</td>\n",
       "      <td>0</td>\n",
       "      <td>1</td>\n",
       "    </tr>\n",
       "  </tbody>\n",
       "</table>\n",
       "<p>36457 rows × 6 columns</p>\n",
       "</div>"
      ],
      "text/plain": [
       "      gender  car  reality  work_phone  phone  email\n",
       "0          0    0        0           0      0      0\n",
       "1          0    0        1           0      0      1\n",
       "2          1    1        1           0      1      0\n",
       "3          0    0        1           0      1      0\n",
       "4          0    1        1           0      0      0\n",
       "...      ...  ...      ...         ...    ...    ...\n",
       "9995       0    1        1           1      1      0\n",
       "9996       1    1        1           1      0      0\n",
       "9997       0    0        1           0      0      0\n",
       "9998       0    1        0           0      1      0\n",
       "9999       0    0        1           0      0      1\n",
       "\n",
       "[36457 rows x 6 columns]"
      ]
     },
     "execution_count": 1785,
     "metadata": {},
     "output_type": "execute_result"
    }
   ],
   "source": [
    "data['gender'] = data['gender'].replace(['F','M'], [0,  1]) #gender의 f와m을 0과1로 변환, 문자는 모델학습에 사용할 수 없다.\n",
    "data['car'] = data['car'].replace(['N', 'Y'], [0, 1]) #마찬가지로 숫자 0과1로 변환\n",
    "data['reality'] = data['reality'].replace(['N', 'Y'], [0, 1])#마찬가지로 숫자 0과1로 변환\n",
    "data[group_1] #group_1 모두 숫자로 변환완료"
   ]
  },
  {
   "cell_type": "markdown",
   "id": "choice-exchange",
   "metadata": {},
   "source": [
    "# group2"
   ]
  },
  {
   "cell_type": "code",
   "execution_count": 1786,
   "id": "royal-ensemble",
   "metadata": {},
   "outputs": [],
   "source": [
    "data = data.astype({'DAYS_BIRTH': 'int'})\n",
    "data = data.astype({'DAYS_EMPLOYED': 'int'})\n",
    "data = data.astype({'begin_month': 'int'})"
   ]
  },
  {
   "cell_type": "code",
   "execution_count": 1787,
   "id": "outer-opening",
   "metadata": {},
   "outputs": [],
   "source": [
    "from sklearn import preprocessing"
   ]
  },
  {
   "cell_type": "code",
   "execution_count": 1788,
   "id": "automated-creativity",
   "metadata": {},
   "outputs": [],
   "source": [
    "label_encoder = preprocessing.LabelEncoder() #문자열로 이루어져 있는 값을 숫자로 인코딩해 준다"
   ]
  },
  {
   "cell_type": "code",
   "execution_count": 1789,
   "id": "diagnostic-bracelet",
   "metadata": {},
   "outputs": [
    {
     "data": {
      "text/plain": [
       "child_num       9\n",
       "income_type     5\n",
       "edu_type        5\n",
       "family_type     5\n",
       "house_type      6\n",
       "occyp_type     18\n",
       "family_size    10\n",
       "credit          4\n",
       "dtype: int64"
      ]
     },
     "execution_count": 1789,
     "metadata": {},
     "output_type": "execute_result"
    }
   ],
   "source": [
    "data[group_2].apply(lambda x : len(x.unique())) #몇개의 데이터로 이루어져 있는지 확인"
   ]
  },
  {
   "cell_type": "code",
   "execution_count": 1790,
   "id": "collect-marketing",
   "metadata": {},
   "outputs": [],
   "source": [
    "data['income_type'] = label_encoder.fit_transform(data['income_type']) #문자열로 이루어진 열 모두 숫자로 인코딩해 준다.\n",
    "data['edu_type'] = label_encoder.fit_transform(data['edu_type'])\n",
    "data['family_type'] = label_encoder.fit_transform(data['family_type'])\n",
    "data['house_type'] = label_encoder.fit_transform(data['house_type'])\n",
    "data['occyp_type'] = label_encoder.fit_transform(data['occyp_type'])"
   ]
  },
  {
   "cell_type": "markdown",
   "id": "retained-gamma",
   "metadata": {},
   "source": [
    "### ▲성능 안좋으면 각각 분리로 바꾸기"
   ]
  },
  {
   "cell_type": "code",
   "execution_count": 1791,
   "id": "liable-wyoming",
   "metadata": {},
   "outputs": [
    {
     "data": {
      "text/html": [
       "<div>\n",
       "<style scoped>\n",
       "    .dataframe tbody tr th:only-of-type {\n",
       "        vertical-align: middle;\n",
       "    }\n",
       "\n",
       "    .dataframe tbody tr th {\n",
       "        vertical-align: top;\n",
       "    }\n",
       "\n",
       "    .dataframe thead th {\n",
       "        text-align: right;\n",
       "    }\n",
       "</style>\n",
       "<table border=\"1\" class=\"dataframe\">\n",
       "  <thead>\n",
       "    <tr style=\"text-align: right;\">\n",
       "      <th></th>\n",
       "      <th>child_num</th>\n",
       "      <th>income_type</th>\n",
       "      <th>edu_type</th>\n",
       "      <th>family_type</th>\n",
       "      <th>house_type</th>\n",
       "      <th>occyp_type</th>\n",
       "      <th>family_size</th>\n",
       "      <th>credit</th>\n",
       "    </tr>\n",
       "  </thead>\n",
       "  <tbody>\n",
       "    <tr>\n",
       "      <th>0</th>\n",
       "      <td>0</td>\n",
       "      <td>0</td>\n",
       "      <td>1</td>\n",
       "      <td>1</td>\n",
       "      <td>2</td>\n",
       "      <td>8</td>\n",
       "      <td>2.0</td>\n",
       "      <td>1.0</td>\n",
       "    </tr>\n",
       "    <tr>\n",
       "      <th>1</th>\n",
       "      <td>1</td>\n",
       "      <td>0</td>\n",
       "      <td>4</td>\n",
       "      <td>0</td>\n",
       "      <td>1</td>\n",
       "      <td>8</td>\n",
       "      <td>3.0</td>\n",
       "      <td>1.0</td>\n",
       "    </tr>\n",
       "    <tr>\n",
       "      <th>2</th>\n",
       "      <td>0</td>\n",
       "      <td>4</td>\n",
       "      <td>1</td>\n",
       "      <td>1</td>\n",
       "      <td>1</td>\n",
       "      <td>10</td>\n",
       "      <td>2.0</td>\n",
       "      <td>2.0</td>\n",
       "    </tr>\n",
       "    <tr>\n",
       "      <th>3</th>\n",
       "      <td>0</td>\n",
       "      <td>0</td>\n",
       "      <td>4</td>\n",
       "      <td>1</td>\n",
       "      <td>1</td>\n",
       "      <td>14</td>\n",
       "      <td>2.0</td>\n",
       "      <td>0.0</td>\n",
       "    </tr>\n",
       "    <tr>\n",
       "      <th>4</th>\n",
       "      <td>0</td>\n",
       "      <td>2</td>\n",
       "      <td>1</td>\n",
       "      <td>1</td>\n",
       "      <td>1</td>\n",
       "      <td>10</td>\n",
       "      <td>2.0</td>\n",
       "      <td>2.0</td>\n",
       "    </tr>\n",
       "    <tr>\n",
       "      <th>...</th>\n",
       "      <td>...</td>\n",
       "      <td>...</td>\n",
       "      <td>...</td>\n",
       "      <td>...</td>\n",
       "      <td>...</td>\n",
       "      <td>...</td>\n",
       "      <td>...</td>\n",
       "      <td>...</td>\n",
       "    </tr>\n",
       "    <tr>\n",
       "      <th>9995</th>\n",
       "      <td>0</td>\n",
       "      <td>4</td>\n",
       "      <td>2</td>\n",
       "      <td>1</td>\n",
       "      <td>1</td>\n",
       "      <td>0</td>\n",
       "      <td>2.0</td>\n",
       "      <td>NaN</td>\n",
       "    </tr>\n",
       "    <tr>\n",
       "      <th>9996</th>\n",
       "      <td>0</td>\n",
       "      <td>4</td>\n",
       "      <td>4</td>\n",
       "      <td>0</td>\n",
       "      <td>1</td>\n",
       "      <td>8</td>\n",
       "      <td>2.0</td>\n",
       "      <td>NaN</td>\n",
       "    </tr>\n",
       "    <tr>\n",
       "      <th>9997</th>\n",
       "      <td>0</td>\n",
       "      <td>4</td>\n",
       "      <td>4</td>\n",
       "      <td>1</td>\n",
       "      <td>1</td>\n",
       "      <td>11</td>\n",
       "      <td>2.0</td>\n",
       "      <td>NaN</td>\n",
       "    </tr>\n",
       "    <tr>\n",
       "      <th>9998</th>\n",
       "      <td>0</td>\n",
       "      <td>0</td>\n",
       "      <td>4</td>\n",
       "      <td>1</td>\n",
       "      <td>1</td>\n",
       "      <td>8</td>\n",
       "      <td>2.0</td>\n",
       "      <td>NaN</td>\n",
       "    </tr>\n",
       "    <tr>\n",
       "      <th>9999</th>\n",
       "      <td>0</td>\n",
       "      <td>4</td>\n",
       "      <td>1</td>\n",
       "      <td>1</td>\n",
       "      <td>1</td>\n",
       "      <td>8</td>\n",
       "      <td>2.0</td>\n",
       "      <td>NaN</td>\n",
       "    </tr>\n",
       "  </tbody>\n",
       "</table>\n",
       "<p>36457 rows × 8 columns</p>\n",
       "</div>"
      ],
      "text/plain": [
       "      child_num  income_type  edu_type  family_type  house_type  occyp_type  \\\n",
       "0             0            0         1            1           2           8   \n",
       "1             1            0         4            0           1           8   \n",
       "2             0            4         1            1           1          10   \n",
       "3             0            0         4            1           1          14   \n",
       "4             0            2         1            1           1          10   \n",
       "...         ...          ...       ...          ...         ...         ...   \n",
       "9995          0            4         2            1           1           0   \n",
       "9996          0            4         4            0           1           8   \n",
       "9997          0            4         4            1           1          11   \n",
       "9998          0            0         4            1           1           8   \n",
       "9999          0            4         1            1           1           8   \n",
       "\n",
       "      family_size  credit  \n",
       "0             2.0     1.0  \n",
       "1             3.0     1.0  \n",
       "2             2.0     2.0  \n",
       "3             2.0     0.0  \n",
       "4             2.0     2.0  \n",
       "...           ...     ...  \n",
       "9995          2.0     NaN  \n",
       "9996          2.0     NaN  \n",
       "9997          2.0     NaN  \n",
       "9998          2.0     NaN  \n",
       "9999          2.0     NaN  \n",
       "\n",
       "[36457 rows x 8 columns]"
      ]
     },
     "execution_count": 1791,
     "metadata": {},
     "output_type": "execute_result"
    }
   ],
   "source": [
    "data[group_2] #group_2 모두 숫자로 변환 완료"
   ]
  },
  {
   "cell_type": "markdown",
   "id": "velvet-congress",
   "metadata": {},
   "source": [
    "# group3"
   ]
  },
  {
   "cell_type": "code",
   "execution_count": null,
   "id": "respective-integrity",
   "metadata": {},
   "outputs": [],
   "source": []
  },
  {
   "cell_type": "code",
   "execution_count": 1792,
   "id": "systematic-homework",
   "metadata": {},
   "outputs": [],
   "source": [
    "# 마이너스 값 변환\n",
    "def minus(x):\n",
    "    return x * -1\n",
    "data['begin_month'] = data['begin_month'].apply(minus)"
   ]
  },
  {
   "cell_type": "code",
   "execution_count": 1793,
   "id": "passive-mercy",
   "metadata": {},
   "outputs": [],
   "source": [
    "# 나이 변환\n",
    "def days_to_age(x):\n",
    "    return (x*-1)/365\n",
    "data['DAYS_BIRTH'] = data['DAYS_BIRTH'].apply(days_to_age)"
   ]
  },
  {
   "cell_type": "code",
   "execution_count": 1794,
   "id": "organic-ferry",
   "metadata": {},
   "outputs": [],
   "source": [
    "def make_bin(array, n): #숫자로 변환하는 함수를 남은 변수에 적용\n",
    "    array = - array #양수 값으로 변환\n",
    "    _, bin_dividers = np.histogram(array, bins = n) #count는 사용하지 않을것이므로 _로 표시\n",
    "    cut_categories = pd.cut(array, bin_dividers, labels = [i for i in range(n)], include_lowest=True) #구간별로 나눈다.\n",
    "    bined_array = pd.factorize(cut_categories)[0] #정수 자료형으로 변환\n",
    "    return bined_array"
   ]
  },
  {
   "cell_type": "code",
   "execution_count": 1795,
   "id": "complete-working",
   "metadata": {},
   "outputs": [],
   "source": [
    "data['DAYS_BIRTH'] = make_bin(data['DAYS_BIRTH'], 10)\n",
    "data['DAYS_EMPLOYED'] = make_bin(data['DAYS_EMPLOYED'], 10)\n",
    "data['begin_month'] = make_bin(data['begin_month'], 10)\n",
    "data['income_total'] = make_bin(data['income_total'], 10)\n",
    "#모든 열에 적용"
   ]
  },
  {
   "cell_type": "code",
   "execution_count": 1796,
   "id": "animated-milwaukee",
   "metadata": {},
   "outputs": [
    {
     "data": {
      "text/plain": [
       "0       0\n",
       "1       1\n",
       "2       2\n",
       "3       3\n",
       "4       3\n",
       "       ..\n",
       "9995    2\n",
       "9996    5\n",
       "9997    8\n",
       "9998    4\n",
       "9999    7\n",
       "Name: DAYS_BIRTH, Length: 36457, dtype: int64"
      ]
     },
     "execution_count": 1796,
     "metadata": {},
     "output_type": "execute_result"
    }
   ],
   "source": [
    "data['DAYS_BIRTH']"
   ]
  },
  {
   "cell_type": "code",
   "execution_count": 1797,
   "id": "foster-conviction",
   "metadata": {},
   "outputs": [
    {
     "data": {
      "text/plain": [
       "gender             int64\n",
       "car                int64\n",
       "reality            int64\n",
       "child_num          int64\n",
       "income_total       int64\n",
       "income_type        int32\n",
       "edu_type           int32\n",
       "family_type        int32\n",
       "house_type         int32\n",
       "DAYS_BIRTH         int64\n",
       "DAYS_EMPLOYED      int64\n",
       "work_phone         int64\n",
       "phone              int64\n",
       "email              int64\n",
       "occyp_type         int32\n",
       "family_size      float64\n",
       "begin_month        int64\n",
       "credit           float64\n",
       "dtype: object"
      ]
     },
     "execution_count": 1797,
     "metadata": {},
     "output_type": "execute_result"
    }
   ],
   "source": [
    "data.dtypes"
   ]
  },
  {
   "cell_type": "code",
   "execution_count": 1798,
   "id": "medium-prairie",
   "metadata": {},
   "outputs": [
    {
     "data": {
      "text/html": [
       "<div>\n",
       "<style scoped>\n",
       "    .dataframe tbody tr th:only-of-type {\n",
       "        vertical-align: middle;\n",
       "    }\n",
       "\n",
       "    .dataframe tbody tr th {\n",
       "        vertical-align: top;\n",
       "    }\n",
       "\n",
       "    .dataframe thead th {\n",
       "        text-align: right;\n",
       "    }\n",
       "</style>\n",
       "<table border=\"1\" class=\"dataframe\">\n",
       "  <thead>\n",
       "    <tr style=\"text-align: right;\">\n",
       "      <th></th>\n",
       "      <th>gender</th>\n",
       "      <th>car</th>\n",
       "      <th>reality</th>\n",
       "      <th>child_num</th>\n",
       "      <th>income_total</th>\n",
       "      <th>income_type</th>\n",
       "      <th>edu_type</th>\n",
       "      <th>family_type</th>\n",
       "      <th>house_type</th>\n",
       "      <th>DAYS_BIRTH</th>\n",
       "      <th>DAYS_EMPLOYED</th>\n",
       "      <th>work_phone</th>\n",
       "      <th>phone</th>\n",
       "      <th>email</th>\n",
       "      <th>occyp_type</th>\n",
       "      <th>family_size</th>\n",
       "      <th>begin_month</th>\n",
       "      <th>credit</th>\n",
       "    </tr>\n",
       "  </thead>\n",
       "  <tbody>\n",
       "    <tr>\n",
       "      <th>0</th>\n",
       "      <td>0</td>\n",
       "      <td>0</td>\n",
       "      <td>0</td>\n",
       "      <td>0</td>\n",
       "      <td>0</td>\n",
       "      <td>0</td>\n",
       "      <td>1</td>\n",
       "      <td>1</td>\n",
       "      <td>2</td>\n",
       "      <td>0</td>\n",
       "      <td>0</td>\n",
       "      <td>0</td>\n",
       "      <td>0</td>\n",
       "      <td>0</td>\n",
       "      <td>8</td>\n",
       "      <td>2.0</td>\n",
       "      <td>0</td>\n",
       "      <td>1.0</td>\n",
       "    </tr>\n",
       "    <tr>\n",
       "      <th>1</th>\n",
       "      <td>0</td>\n",
       "      <td>0</td>\n",
       "      <td>1</td>\n",
       "      <td>1</td>\n",
       "      <td>0</td>\n",
       "      <td>0</td>\n",
       "      <td>4</td>\n",
       "      <td>0</td>\n",
       "      <td>1</td>\n",
       "      <td>1</td>\n",
       "      <td>0</td>\n",
       "      <td>0</td>\n",
       "      <td>0</td>\n",
       "      <td>1</td>\n",
       "      <td>8</td>\n",
       "      <td>3.0</td>\n",
       "      <td>1</td>\n",
       "      <td>1.0</td>\n",
       "    </tr>\n",
       "    <tr>\n",
       "      <th>2</th>\n",
       "      <td>1</td>\n",
       "      <td>1</td>\n",
       "      <td>1</td>\n",
       "      <td>0</td>\n",
       "      <td>1</td>\n",
       "      <td>4</td>\n",
       "      <td>1</td>\n",
       "      <td>1</td>\n",
       "      <td>1</td>\n",
       "      <td>2</td>\n",
       "      <td>0</td>\n",
       "      <td>0</td>\n",
       "      <td>1</td>\n",
       "      <td>0</td>\n",
       "      <td>10</td>\n",
       "      <td>2.0</td>\n",
       "      <td>2</td>\n",
       "      <td>2.0</td>\n",
       "    </tr>\n",
       "    <tr>\n",
       "      <th>3</th>\n",
       "      <td>0</td>\n",
       "      <td>0</td>\n",
       "      <td>1</td>\n",
       "      <td>0</td>\n",
       "      <td>0</td>\n",
       "      <td>0</td>\n",
       "      <td>4</td>\n",
       "      <td>1</td>\n",
       "      <td>1</td>\n",
       "      <td>3</td>\n",
       "      <td>0</td>\n",
       "      <td>0</td>\n",
       "      <td>1</td>\n",
       "      <td>0</td>\n",
       "      <td>14</td>\n",
       "      <td>2.0</td>\n",
       "      <td>3</td>\n",
       "      <td>0.0</td>\n",
       "    </tr>\n",
       "    <tr>\n",
       "      <th>4</th>\n",
       "      <td>0</td>\n",
       "      <td>1</td>\n",
       "      <td>1</td>\n",
       "      <td>0</td>\n",
       "      <td>2</td>\n",
       "      <td>2</td>\n",
       "      <td>1</td>\n",
       "      <td>1</td>\n",
       "      <td>1</td>\n",
       "      <td>3</td>\n",
       "      <td>0</td>\n",
       "      <td>0</td>\n",
       "      <td>0</td>\n",
       "      <td>0</td>\n",
       "      <td>10</td>\n",
       "      <td>2.0</td>\n",
       "      <td>4</td>\n",
       "      <td>2.0</td>\n",
       "    </tr>\n",
       "  </tbody>\n",
       "</table>\n",
       "</div>"
      ],
      "text/plain": [
       "   gender  car  reality  child_num  income_total  income_type  edu_type  \\\n",
       "0       0    0        0          0             0            0         1   \n",
       "1       0    0        1          1             0            0         4   \n",
       "2       1    1        1          0             1            4         1   \n",
       "3       0    0        1          0             0            0         4   \n",
       "4       0    1        1          0             2            2         1   \n",
       "\n",
       "   family_type  house_type  DAYS_BIRTH  DAYS_EMPLOYED  work_phone  phone  \\\n",
       "0            1           2           0              0           0      0   \n",
       "1            0           1           1              0           0      0   \n",
       "2            1           1           2              0           0      1   \n",
       "3            1           1           3              0           0      1   \n",
       "4            1           1           3              0           0      0   \n",
       "\n",
       "   email  occyp_type  family_size  begin_month  credit  \n",
       "0      0           8          2.0            0     1.0  \n",
       "1      1           8          3.0            1     1.0  \n",
       "2      0          10          2.0            2     2.0  \n",
       "3      0          14          2.0            3     0.0  \n",
       "4      0          10          2.0            4     2.0  "
      ]
     },
     "execution_count": 1798,
     "metadata": {},
     "output_type": "execute_result"
    }
   ],
   "source": [
    "data.head()"
   ]
  },
  {
   "cell_type": "code",
   "execution_count": 1799,
   "id": "extra-packing",
   "metadata": {},
   "outputs": [],
   "source": [
    "object_col=['gender', 'reality','child_num','income_total',\"DAYS_BIRTH\",'DAYS_EMPLOYED','work_phone','phone','email','family_size','begin_month','car', 'income_type','edu_type','family_type','house_type','occyp_type']"
   ]
  },
  {
   "cell_type": "code",
   "execution_count": 1800,
   "id": "forty-valuable",
   "metadata": {},
   "outputs": [],
   "source": [
    "enc = OneHotEncoder()\n",
    "enc.fit(data.loc[:,object_col])\n",
    "\n",
    "\n",
    "data_onehot_df = pd.DataFrame(enc.transform(data.loc[:,object_col]).toarray(), \n",
    "             columns=enc.get_feature_names(object_col))\n",
    "data.drop(object_col, axis=1, inplace=True)\n",
    "data = pd.concat([data.reset_index(drop=True), data_onehot_df], axis=1)"
   ]
  },
  {
   "cell_type": "code",
   "execution_count": 1801,
   "id": "sacred-jacob",
   "metadata": {},
   "outputs": [
    {
     "data": {
      "text/plain": [
       "credit           float64\n",
       "gender_0         float64\n",
       "gender_1         float64\n",
       "reality_0        float64\n",
       "reality_1        float64\n",
       "                  ...   \n",
       "occyp_type_13    float64\n",
       "occyp_type_14    float64\n",
       "occyp_type_15    float64\n",
       "occyp_type_16    float64\n",
       "occyp_type_17    float64\n",
       "Length: 103, dtype: object"
      ]
     },
     "execution_count": 1801,
     "metadata": {},
     "output_type": "execute_result"
    }
   ],
   "source": [
    "data.dtypes"
   ]
  },
  {
   "cell_type": "code",
   "execution_count": 1802,
   "id": "working-library",
   "metadata": {},
   "outputs": [
    {
     "data": {
      "text/plain": [
       "\"data.drop(['credit_nan'], axis=1, inplace=True)\""
      ]
     },
     "execution_count": 1802,
     "metadata": {},
     "output_type": "execute_result"
    }
   ],
   "source": [
    "'''data.drop(['credit_nan'], axis=1, inplace=True)'''"
   ]
  },
  {
   "cell_type": "code",
   "execution_count": null,
   "id": "competitive-invitation",
   "metadata": {},
   "outputs": [],
   "source": []
  },
  {
   "cell_type": "code",
   "execution_count": 1803,
   "id": "caring-judges",
   "metadata": {},
   "outputs": [
    {
     "data": {
      "text/html": [
       "<div>\n",
       "<style scoped>\n",
       "    .dataframe tbody tr th:only-of-type {\n",
       "        vertical-align: middle;\n",
       "    }\n",
       "\n",
       "    .dataframe tbody tr th {\n",
       "        vertical-align: top;\n",
       "    }\n",
       "\n",
       "    .dataframe thead th {\n",
       "        text-align: right;\n",
       "    }\n",
       "</style>\n",
       "<table border=\"1\" class=\"dataframe\">\n",
       "  <thead>\n",
       "    <tr style=\"text-align: right;\">\n",
       "      <th></th>\n",
       "      <th>credit</th>\n",
       "      <th>gender_0</th>\n",
       "      <th>gender_1</th>\n",
       "      <th>reality_0</th>\n",
       "      <th>reality_1</th>\n",
       "      <th>child_num_0</th>\n",
       "      <th>child_num_1</th>\n",
       "      <th>child_num_2</th>\n",
       "      <th>child_num_3</th>\n",
       "      <th>child_num_4</th>\n",
       "      <th>...</th>\n",
       "      <th>occyp_type_8</th>\n",
       "      <th>occyp_type_9</th>\n",
       "      <th>occyp_type_10</th>\n",
       "      <th>occyp_type_11</th>\n",
       "      <th>occyp_type_12</th>\n",
       "      <th>occyp_type_13</th>\n",
       "      <th>occyp_type_14</th>\n",
       "      <th>occyp_type_15</th>\n",
       "      <th>occyp_type_16</th>\n",
       "      <th>occyp_type_17</th>\n",
       "    </tr>\n",
       "  </thead>\n",
       "  <tbody>\n",
       "    <tr>\n",
       "      <th>0</th>\n",
       "      <td>1.0</td>\n",
       "      <td>1.0</td>\n",
       "      <td>0.0</td>\n",
       "      <td>1.0</td>\n",
       "      <td>0.0</td>\n",
       "      <td>1.0</td>\n",
       "      <td>0.0</td>\n",
       "      <td>0.0</td>\n",
       "      <td>0.0</td>\n",
       "      <td>0.0</td>\n",
       "      <td>...</td>\n",
       "      <td>1.0</td>\n",
       "      <td>0.0</td>\n",
       "      <td>0.0</td>\n",
       "      <td>0.0</td>\n",
       "      <td>0.0</td>\n",
       "      <td>0.0</td>\n",
       "      <td>0.0</td>\n",
       "      <td>0.0</td>\n",
       "      <td>0.0</td>\n",
       "      <td>0.0</td>\n",
       "    </tr>\n",
       "    <tr>\n",
       "      <th>1</th>\n",
       "      <td>1.0</td>\n",
       "      <td>1.0</td>\n",
       "      <td>0.0</td>\n",
       "      <td>0.0</td>\n",
       "      <td>1.0</td>\n",
       "      <td>0.0</td>\n",
       "      <td>1.0</td>\n",
       "      <td>0.0</td>\n",
       "      <td>0.0</td>\n",
       "      <td>0.0</td>\n",
       "      <td>...</td>\n",
       "      <td>1.0</td>\n",
       "      <td>0.0</td>\n",
       "      <td>0.0</td>\n",
       "      <td>0.0</td>\n",
       "      <td>0.0</td>\n",
       "      <td>0.0</td>\n",
       "      <td>0.0</td>\n",
       "      <td>0.0</td>\n",
       "      <td>0.0</td>\n",
       "      <td>0.0</td>\n",
       "    </tr>\n",
       "    <tr>\n",
       "      <th>2</th>\n",
       "      <td>2.0</td>\n",
       "      <td>0.0</td>\n",
       "      <td>1.0</td>\n",
       "      <td>0.0</td>\n",
       "      <td>1.0</td>\n",
       "      <td>1.0</td>\n",
       "      <td>0.0</td>\n",
       "      <td>0.0</td>\n",
       "      <td>0.0</td>\n",
       "      <td>0.0</td>\n",
       "      <td>...</td>\n",
       "      <td>0.0</td>\n",
       "      <td>0.0</td>\n",
       "      <td>1.0</td>\n",
       "      <td>0.0</td>\n",
       "      <td>0.0</td>\n",
       "      <td>0.0</td>\n",
       "      <td>0.0</td>\n",
       "      <td>0.0</td>\n",
       "      <td>0.0</td>\n",
       "      <td>0.0</td>\n",
       "    </tr>\n",
       "    <tr>\n",
       "      <th>3</th>\n",
       "      <td>0.0</td>\n",
       "      <td>1.0</td>\n",
       "      <td>0.0</td>\n",
       "      <td>0.0</td>\n",
       "      <td>1.0</td>\n",
       "      <td>1.0</td>\n",
       "      <td>0.0</td>\n",
       "      <td>0.0</td>\n",
       "      <td>0.0</td>\n",
       "      <td>0.0</td>\n",
       "      <td>...</td>\n",
       "      <td>0.0</td>\n",
       "      <td>0.0</td>\n",
       "      <td>0.0</td>\n",
       "      <td>0.0</td>\n",
       "      <td>0.0</td>\n",
       "      <td>0.0</td>\n",
       "      <td>1.0</td>\n",
       "      <td>0.0</td>\n",
       "      <td>0.0</td>\n",
       "      <td>0.0</td>\n",
       "    </tr>\n",
       "    <tr>\n",
       "      <th>4</th>\n",
       "      <td>2.0</td>\n",
       "      <td>1.0</td>\n",
       "      <td>0.0</td>\n",
       "      <td>0.0</td>\n",
       "      <td>1.0</td>\n",
       "      <td>1.0</td>\n",
       "      <td>0.0</td>\n",
       "      <td>0.0</td>\n",
       "      <td>0.0</td>\n",
       "      <td>0.0</td>\n",
       "      <td>...</td>\n",
       "      <td>0.0</td>\n",
       "      <td>0.0</td>\n",
       "      <td>1.0</td>\n",
       "      <td>0.0</td>\n",
       "      <td>0.0</td>\n",
       "      <td>0.0</td>\n",
       "      <td>0.0</td>\n",
       "      <td>0.0</td>\n",
       "      <td>0.0</td>\n",
       "      <td>0.0</td>\n",
       "    </tr>\n",
       "  </tbody>\n",
       "</table>\n",
       "<p>5 rows × 103 columns</p>\n",
       "</div>"
      ],
      "text/plain": [
       "   credit  gender_0  gender_1  reality_0  reality_1  child_num_0  child_num_1  \\\n",
       "0     1.0       1.0       0.0        1.0        0.0          1.0          0.0   \n",
       "1     1.0       1.0       0.0        0.0        1.0          0.0          1.0   \n",
       "2     2.0       0.0       1.0        0.0        1.0          1.0          0.0   \n",
       "3     0.0       1.0       0.0        0.0        1.0          1.0          0.0   \n",
       "4     2.0       1.0       0.0        0.0        1.0          1.0          0.0   \n",
       "\n",
       "   child_num_2  child_num_3  child_num_4  ...  occyp_type_8  occyp_type_9  \\\n",
       "0          0.0          0.0          0.0  ...           1.0           0.0   \n",
       "1          0.0          0.0          0.0  ...           1.0           0.0   \n",
       "2          0.0          0.0          0.0  ...           0.0           0.0   \n",
       "3          0.0          0.0          0.0  ...           0.0           0.0   \n",
       "4          0.0          0.0          0.0  ...           0.0           0.0   \n",
       "\n",
       "   occyp_type_10  occyp_type_11  occyp_type_12  occyp_type_13  occyp_type_14  \\\n",
       "0            0.0            0.0            0.0            0.0            0.0   \n",
       "1            0.0            0.0            0.0            0.0            0.0   \n",
       "2            1.0            0.0            0.0            0.0            0.0   \n",
       "3            0.0            0.0            0.0            0.0            1.0   \n",
       "4            1.0            0.0            0.0            0.0            0.0   \n",
       "\n",
       "   occyp_type_15  occyp_type_16  occyp_type_17  \n",
       "0            0.0            0.0            0.0  \n",
       "1            0.0            0.0            0.0  \n",
       "2            0.0            0.0            0.0  \n",
       "3            0.0            0.0            0.0  \n",
       "4            0.0            0.0            0.0  \n",
       "\n",
       "[5 rows x 103 columns]"
      ]
     },
     "execution_count": 1803,
     "metadata": {},
     "output_type": "execute_result"
    }
   ],
   "source": [
    "data.head()"
   ]
  },
  {
   "cell_type": "code",
   "execution_count": null,
   "id": "greenhouse-pledge",
   "metadata": {},
   "outputs": [],
   "source": []
  },
  {
   "cell_type": "markdown",
   "id": "marked-invasion",
   "metadata": {},
   "source": [
    "# test, train 분리"
   ]
  },
  {
   "cell_type": "code",
   "execution_count": 1804,
   "id": "reduced-active",
   "metadata": {},
   "outputs": [],
   "source": [
    "test = data[-10000:] #다시 test와 train 분리하기"
   ]
  },
  {
   "cell_type": "code",
   "execution_count": 1805,
   "id": "serial-marker",
   "metadata": {},
   "outputs": [],
   "source": [
    "train = data[:-10000]"
   ]
  },
  {
   "cell_type": "code",
   "execution_count": 1806,
   "id": "italian-invitation",
   "metadata": {},
   "outputs": [],
   "source": [
    "'''test.drop(['credit_0.0','credit_1.0','credit_2.0' ], axis=1, inplace=True)'''\n",
    "test.drop(['credit'], axis=1, inplace=True)"
   ]
  },
  {
   "cell_type": "code",
   "execution_count": 1807,
   "id": "confidential-mechanics",
   "metadata": {},
   "outputs": [
    {
     "data": {
      "text/plain": [
       "(26457, 103)"
      ]
     },
     "execution_count": 1807,
     "metadata": {},
     "output_type": "execute_result"
    }
   ],
   "source": [
    "np_train=train.to_numpy()\n",
    "np_train.shape"
   ]
  },
  {
   "cell_type": "code",
   "execution_count": 1808,
   "id": "upset-receiver",
   "metadata": {},
   "outputs": [
    {
     "data": {
      "text/plain": [
       "(10000, 102)"
      ]
     },
     "execution_count": 1808,
     "metadata": {},
     "output_type": "execute_result"
    }
   ],
   "source": [
    "np_test = test.to_numpy()\n",
    "np_test.shape"
   ]
  },
  {
   "cell_type": "code",
   "execution_count": null,
   "id": "adaptive-swaziland",
   "metadata": {},
   "outputs": [],
   "source": []
  },
  {
   "cell_type": "code",
   "execution_count": 1809,
   "id": "annual-rogers",
   "metadata": {},
   "outputs": [
    {
     "data": {
      "text/plain": [
       "(26457,)"
      ]
     },
     "execution_count": 1809,
     "metadata": {},
     "output_type": "execute_result"
    }
   ],
   "source": [
    "np_result = np_train[:,-1]\n",
    "np_result.shape"
   ]
  },
  {
   "cell_type": "code",
   "execution_count": 1810,
   "id": "fatal-success",
   "metadata": {},
   "outputs": [
    {
     "data": {
      "text/plain": [
       "array([0., 0., 0., ..., 0., 0., 0.])"
      ]
     },
     "execution_count": 1810,
     "metadata": {},
     "output_type": "execute_result"
    }
   ],
   "source": [
    "np_result"
   ]
  },
  {
   "cell_type": "code",
   "execution_count": 1811,
   "id": "peaceful-constitutional",
   "metadata": {},
   "outputs": [],
   "source": [
    "np_train = np.delete(np_train, -1, axis = 1)"
   ]
  },
  {
   "cell_type": "code",
   "execution_count": 1812,
   "id": "certified-talent",
   "metadata": {},
   "outputs": [
    {
     "data": {
      "text/plain": [
       "(26457, 102)"
      ]
     },
     "execution_count": 1812,
     "metadata": {},
     "output_type": "execute_result"
    }
   ],
   "source": [
    "np_train.shape"
   ]
  },
  {
   "cell_type": "code",
   "execution_count": 1813,
   "id": "alternate-shade",
   "metadata": {},
   "outputs": [],
   "source": [
    "np_train, np_val= train_test_split(np_train, test_size=0.3, shuffle=False, random_state=1004)\n",
    "#train을 train과 valid로 분리"
   ]
  },
  {
   "cell_type": "code",
   "execution_count": null,
   "id": "humanitarian-cover",
   "metadata": {},
   "outputs": [],
   "source": [
    "\n"
   ]
  },
  {
   "cell_type": "code",
   "execution_count": 1814,
   "id": "offensive-archive",
   "metadata": {},
   "outputs": [],
   "source": [
    "np_train_result, np_val_result= train_test_split(np_result, test_size=0.3, shuffle=False, random_state=1004)\n",
    "#결과를 train결과와 valid결과로 분리"
   ]
  },
  {
   "cell_type": "code",
   "execution_count": 1815,
   "id": "recognized-criterion",
   "metadata": {},
   "outputs": [
    {
     "data": {
      "text/plain": [
       "(26457,)"
      ]
     },
     "execution_count": 1815,
     "metadata": {},
     "output_type": "execute_result"
    }
   ],
   "source": [
    "np_result.shape"
   ]
  },
  {
   "cell_type": "code",
   "execution_count": 1816,
   "id": "liable-example",
   "metadata": {},
   "outputs": [
    {
     "data": {
      "text/plain": [
       "'np_train = np.delete(np_train , (102,103,104), axis = 1)\\nnp_val = np.delete(np_val , (102,103,104), axis = 1)'"
      ]
     },
     "execution_count": 1816,
     "metadata": {},
     "output_type": "execute_result"
    }
   ],
   "source": [
    "'''np_train = np.delete(np_train , (102,103,104), axis = 1)\n",
    "np_val = np.delete(np_val , (102,103,104), axis = 1)'''\n"
   ]
  },
  {
   "cell_type": "code",
   "execution_count": 1817,
   "id": "ranking-worship",
   "metadata": {},
   "outputs": [
    {
     "data": {
      "text/plain": [
       "(18519, 102)"
      ]
     },
     "execution_count": 1817,
     "metadata": {},
     "output_type": "execute_result"
    }
   ],
   "source": [
    "np_train.shape"
   ]
  },
  {
   "cell_type": "code",
   "execution_count": 1818,
   "id": "educational-tragedy",
   "metadata": {},
   "outputs": [
    {
     "data": {
      "text/plain": [
       "1888938"
      ]
     },
     "execution_count": 1818,
     "metadata": {},
     "output_type": "execute_result"
    }
   ],
   "source": [
    "np_train.size"
   ]
  },
  {
   "cell_type": "code",
   "execution_count": 1819,
   "id": "asian-louisiana",
   "metadata": {},
   "outputs": [
    {
     "data": {
      "text/plain": [
       "(7938, 102)"
      ]
     },
     "execution_count": 1819,
     "metadata": {},
     "output_type": "execute_result"
    }
   ],
   "source": [
    "np_val.shape"
   ]
  },
  {
   "cell_type": "code",
   "execution_count": 1820,
   "id": "significant-simpson",
   "metadata": {},
   "outputs": [
    {
     "data": {
      "text/plain": [
       "(7938,)"
      ]
     },
     "execution_count": 1820,
     "metadata": {},
     "output_type": "execute_result"
    }
   ],
   "source": [
    "np_val_result.shape"
   ]
  },
  {
   "cell_type": "code",
   "execution_count": 1821,
   "id": "romance-agenda",
   "metadata": {},
   "outputs": [],
   "source": [
    "class creditModel(keras.Model):\n",
    "    def __init__(self):\n",
    "        super(creditModel, self).__init__()\n",
    "        self.dense1 = keras.layers.Dense(210,input_dim = 2, activation = 'relu')\n",
    "        self.dense2 = keras.layers.Dense(102,  activation = 'relu')\n",
    "        self.dense3 = keras.layers.Dense(51,  activation = 'relu')\n",
    "        self.dense4 = keras.layers.Dense(3, activation = 'softmax')\n",
    "\n",
    "    def call(self, inputs):\n",
    "        x = self.dense1(inputs)\n",
    "        return self.dense4(x)"
   ]
  },
  {
   "cell_type": "code",
   "execution_count": 1822,
   "id": "ranking-olive",
   "metadata": {},
   "outputs": [],
   "source": [
    "np_train_result = keras.utils.to_categorical(np_train_result, num_classes = 3)"
   ]
  },
  {
   "cell_type": "code",
   "execution_count": 1823,
   "id": "greek-titanium",
   "metadata": {},
   "outputs": [],
   "source": [
    "model = creditModel()\n",
    "model.compile(optimizer = keras.optimizers.Adam(learning_rate = 0.5), loss = 'categorical_crossentropy', metrics = ['categorical_accuracy'])"
   ]
  },
  {
   "cell_type": "code",
   "execution_count": null,
   "id": "virtual-jackson",
   "metadata": {},
   "outputs": [
    {
     "name": "stdout",
     "output_type": "stream",
     "text": [
      "Epoch 1/3000\n",
      "1852/1852 [==============================] - 2s 839us/step - loss: 1.5734 - categorical_accuracy: 0.9888\n",
      "Epoch 2/3000\n",
      "1852/1852 [==============================] - 2s 828us/step - loss: 0.1669 - categorical_accuracy: 0.9941\n",
      "Epoch 3/3000\n",
      "1852/1852 [==============================] - 2s 861us/step - loss: 0.1249 - categorical_accuracy: 0.9955\n",
      "Epoch 4/3000\n",
      "1852/1852 [==============================] - 2s 832us/step - loss: 0.2661 - categorical_accuracy: 0.9943\n",
      "Epoch 5/3000\n",
      "1852/1852 [==============================] - 2s 845us/step - loss: 0.0369 - categorical_accuracy: 0.99510s - loss: 0.0407 \n",
      "Epoch 6/3000\n",
      "1852/1852 [==============================] - 2s 912us/step - loss: 0.0342 - categorical_accuracy: 0.9954\n",
      "Epoch 7/3000\n",
      "1852/1852 [==============================] - 2s 919us/step - loss: 0.0316 - categorical_accuracy: 0.99581s -\n",
      "Epoch 8/3000\n",
      "1852/1852 [==============================] - 2s 901us/step - loss: 0.0359 - categorical_accuracy: 0.99530s - loss: 0.0358 - categorical_accuracy\n",
      "Epoch 9/3000\n",
      "1852/1852 [==============================] - 2s 871us/step - loss: 0.0388 - categorical_accuracy: 0.99491s - loss: 0.0415 - catego - ETA: 0s - loss: 0.0414  - ETA: 0s - loss: 0.0390 - categorical_accuracy: 0.\n",
      "Epoch 10/3000\n",
      "1852/1852 [==============================] - 2s 880us/step - loss: 0.0462 - categorical_accuracy: 0.99351s - loss: 0.0634 - categorical_accu - ETA: 0s - loss: 0.0\n",
      "Epoch 11/3000\n",
      "1852/1852 [==============================] - 2s 871us/step - loss: 0.0447 - categorical_accuracy: 0.99530s - loss: 0.0396 - ca\n",
      "Epoch 12/3000\n",
      "1852/1852 [==============================] - 2s 849us/step - loss: 0.0349 - categorical_accuracy: 0.9952\n",
      "Epoch 13/3000\n",
      "1852/1852 [==============================] - 2s 891us/step - loss: 0.0421 - categorical_accuracy: 0.99550s - loss: 0.0317 - catego - ETA: 0s - loss: 0.0368 - categorical_accura\n",
      "Epoch 14/3000\n",
      "1852/1852 [==============================] - 2s 838us/step - loss: 0.0422 - categorical_accuracy: 0.99401s - los\n",
      "Epoch 15/3000\n",
      "1852/1852 [==============================] - 2s 911us/step - loss: 0.0302 - categorical_accuracy: 0.9959\n",
      "Epoch 16/3000\n",
      "1852/1852 [==============================] - 2s 837us/step - loss: 0.0334 - categorical_accuracy: 0.9955\n",
      "Epoch 17/3000\n",
      "1852/1852 [==============================] - 2s 897us/step - loss: 0.0324 - categorical_accuracy: 0.99561s - loss: - ETA: 0s - loss: 0.0297 - ca\n",
      "Epoch 18/3000\n",
      "1852/1852 [==============================] - ETA: 0s - loss: 0.0363 - categorical_accuracy: 0.9949 ETA: 1s - loss: 0.0404  - ETA: 0s - loss: 0.0368 - categorical_accu - 2s 847us/step - loss: 0.0362 - categorical_accuracy: 0.9949\n",
      "Epoch 19/3000\n",
      "1852/1852 [==============================] - 2s 909us/step - loss: 0.0780 - categorical_accuracy: 0.99480s - loss: 0.0771 - categorical_accuracy: \n",
      "Epoch 20/3000\n",
      "1852/1852 [==============================] - 2s 898us/step - loss: 0.0307 - categorical_accuracy: 0.9960\n",
      "Epoch 21/3000\n",
      "1852/1852 [==============================] - 2s 925us/step - loss: 0.0420 - categorical_accuracy: 0.99590s - loss: 0.0315 - categorical_\n",
      "Epoch 22/3000\n",
      "1852/1852 [==============================] - 2s 895us/step - loss: 0.0334 - categorical_accuracy: 0.9955\n",
      "Epoch 23/3000\n",
      "1852/1852 [==============================] - 2s 886us/step - loss: 0.0332 - categorical_accuracy: 0.9955\n",
      "Epoch 24/3000\n",
      "1852/1852 [==============================] - 2s 919us/step - loss: 0.0402 - categorical_accuracy: 0.99481s - loss: 0.0425 - categorical_accuracy:  - ETA: 0s - loss:\n",
      "Epoch 25/3000\n",
      "1852/1852 [==============================] - 2s 899us/step - loss: 0.0371 - categorical_accuracy: 0.99480s - loss: 0.0379 - categorical_ac - ETA: 0s - loss: 0.0374 - categorical_accura\n",
      "Epoch 26/3000\n",
      "1852/1852 [==============================] - 2s 896us/step - loss: 0.0294 - categorical_accuracy: 0.9961\n",
      "Epoch 27/3000\n",
      "1852/1852 [==============================] - 2s 901us/step - loss: 0.0479 - categorical_accuracy: 0.99580s - loss: 0.0407 - categorical_ac\n",
      "Epoch 28/3000\n",
      "1852/1852 [==============================] - 2s 879us/step - loss: 0.0377 - categorical_accuracy: 0.9948\n",
      "Epoch 29/3000\n",
      "1852/1852 [==============================] - ETA: 0s - loss: 0.0313 - categorical_accuracy: 0.99 - 2s 902us/step - loss: 0.0313 - categorical_accuracy: 0.9957\n",
      "Epoch 30/3000\n",
      "1852/1852 [==============================] - 2s 844us/step - loss: 0.0449 - categorical_accuracy: 0.99580s - loss: 0.0274 - cate\n",
      "Epoch 31/3000\n",
      "1852/1852 [==============================] - 2s 902us/step - loss: 0.0327 - categorical_accuracy: 0.99550s - loss: 0.0324 - categorical_ac\n",
      "Epoch 32/3000\n",
      "1852/1852 [==============================] - 2s 849us/step - loss: 0.0371 - categorical_accuracy: 0.99490s - loss: 0.0400 - categorical_ac - ETA: 0s - loss: 0.0385 - categorical_\n",
      "Epoch 33/3000\n",
      "1852/1852 [==============================] - 2s 912us/step - loss: 0.0366 - categorical_accuracy: 0.99470s - loss: 0.0374 - categorica\n",
      "Epoch 34/3000\n",
      "1852/1852 [==============================] - 2s 908us/step - loss: 0.0346 - categorical_accuracy: 0.99550s - loss: 0.0344 -  - ETA: 0s - loss: 0.0346 - categorical_accura\n",
      "Epoch 35/3000\n",
      "1852/1852 [==============================] - 2s 891us/step - loss: 0.1946 - categorical_accuracy: 0.99511s - loss: 0.0352 - cate - ETA: 0s - loss: 0.1970 - categorical_accuracy - ETA: 0s - loss: 0.1996 - categorical_\n",
      "Epoch 36/3000\n",
      "1852/1852 [==============================] - 2s 912us/step - loss: 0.0433 - categorical_accuracy: 0.9952\n",
      "Epoch 37/3000\n",
      "1852/1852 [==============================] - 2s 884us/step - loss: 0.0330 - categorical_accuracy: 0.9953\n",
      "Epoch 38/3000\n",
      "1852/1852 [==============================] - 2s 936us/step - loss: 0.0339 - categorical_accuracy: 0.9955\n",
      "Epoch 39/3000\n",
      "1852/1852 [==============================] - 2s 881us/step - loss: 0.0292 - categorical_accuracy: 0.99580s - loss:\n",
      "Epoch 40/3000\n",
      "1852/1852 [==============================] - 2s 911us/step - loss: 0.0289 - categorical_accuracy: 0.9965\n",
      "Epoch 41/3000\n",
      "1852/1852 [==============================] - 2s 904us/step - loss: 0.0483 - categorical_accuracy: 0.9961\n",
      "Epoch 42/3000\n",
      "1852/1852 [==============================] - 2s 905us/step - loss: 0.0334 - categorical_accuracy: 0.99550s - loss: 0.0321 - cate\n",
      "Epoch 43/3000\n",
      "1852/1852 [==============================] - 2s 922us/step - loss: 0.0327 - categorical_accuracy: 0.99551s - loss: 0 - ETA: 0s - loss: 0.0325 - categorical_accuracy:  - ETA: 0s - loss: 0.0327 - categorical_accuracy: 0.99\n",
      "Epoch 44/3000\n",
      "1852/1852 [==============================] - 2s 901us/step - loss: 0.0300 - categorical_accuracy: 0.99590s - loss: 0.0298 - categorical_accuracy: \n",
      "Epoch 45/3000\n",
      "1852/1852 [==============================] - 2s 870us/step - loss: 0.0349 - categorical_accuracy: 0.99510s - loss: 0.0354 - categorical_accuracy: 0.99 - ETA: 0s - loss: 0.0353 - categorical_accuracy\n",
      "Epoch 46/3000\n",
      "1852/1852 [==============================] - 2s 881us/step - loss: 0.0600 - categorical_accuracy: 0.99581s - loss: 0.0149 - categorical_accuracy - ETA: 1s - loss: 0.0207 - categorical_accuracy:  - ETA: \n",
      "Epoch 47/3000\n",
      "1852/1852 [==============================] - 2s 839us/step - loss: 0.0264 - categorical_accuracy: 0.99610s - loss: 0.0244 - catego\n",
      "Epoch 48/3000\n",
      "1852/1852 [==============================] - 2s 918us/step - loss: 0.0285 - categorical_accuracy: 0.9957\n",
      "Epoch 49/3000\n",
      "1852/1852 [==============================] - 2s 864us/step - loss: 0.0506 - categorical_accuracy: 0.9947\n",
      "Epoch 50/3000\n",
      "1852/1852 [==============================] - 2s 898us/step - loss: 0.0277 - categorical_accuracy: 0.9959\n",
      "Epoch 51/3000\n",
      "1852/1852 [==============================] - 2s 861us/step - loss: 0.1067 - categorical_accuracy: 0.9949\n",
      "Epoch 52/3000\n",
      "1852/1852 [==============================] - 2s 914us/step - loss: 0.0292 - categorical_accuracy: 0.99570s - loss: 0.0279 - ca\n",
      "Epoch 53/3000\n",
      "1852/1852 [==============================] - 2s 892us/step - loss: 0.0298 - categorical_accuracy: 0.9955\n",
      "Epoch 54/3000\n",
      "1852/1852 [==============================] - 2s 900us/step - loss: 0.0343 - categorical_accuracy: 0.99450s - loss: 0.0356 - categorical_\n",
      "Epoch 55/3000\n"
     ]
    },
    {
     "name": "stdout",
     "output_type": "stream",
     "text": [
      "1852/1852 [==============================] - 2s 881us/step - loss: 0.0287 - categorical_accuracy: 0.9957TA: 1s - loss: 0 - ETA: 0s - loss: 0.0286 - cate\n",
      "Epoch 56/3000\n",
      "1852/1852 [==============================] - 2s 937us/step - loss: 0.0293 - categorical_accuracy: 0.99520s - loss: 0.0293 - categorical_accuracy: \n",
      "Epoch 57/3000\n",
      "1852/1852 [==============================] - 2s 858us/step - loss: 0.0335 - categorical_accuracy: 0.99580s - loss: 0.0276 - categorical_accuracy - ETA: 0s - loss: 0.0311 - categorical_accuracy: 0. - ETA: 0s - loss: 0.0324 - categorical_accuracy: \n",
      "Epoch 58/3000\n",
      "1852/1852 [==============================] - 2s 852us/step - loss: 0.5953 - categorical_accuracy: 0.99311s - loss: 1.3562 - categorica - ETA: 0s - loss: 0.8896 - categorica - ETA: 0s - loss: 0.6641 - categorical_accu\n",
      "Epoch 59/3000\n",
      "1852/1852 [==============================] - 2s 869us/step - loss: 0.0330 - categorical_accuracy: 0.9949\n",
      "Epoch 60/3000\n",
      "1852/1852 [==============================] - 2s 828us/step - loss: 0.0288 - categorical_accuracy: 0.99570s - loss: 0.0285 - catego - ETA: 0s - loss: 0.0288 - categorical_accuracy: 0.99\n",
      "Epoch 61/3000\n",
      "1852/1852 [==============================] - 2s 942us/step - loss: 0.0335 - categorical_accuracy: 0.9944\n",
      "Epoch 62/3000\n",
      "1852/1852 [==============================] - 2s 895us/step - loss: 0.0630 - categorical_accuracy: 0.99511s - ETA: 0s - loss: 0.0566 - categorical_accura\n",
      "Epoch 63/3000\n",
      "1852/1852 [==============================] - 2s 882us/step - loss: 0.0291 - categorical_accuracy: 0.99571s - loss: 0.0321 - categorica - ETA: 0s - loss: 0.0301 - cate\n",
      "Epoch 64/3000\n",
      "1852/1852 [==============================] - 2s 928us/step - loss: 0.0996 - categorical_accuracy: 0.99530s - loss: 0.0269 - categorical_ - ETA: 0s - loss: 0.0786 - categorica\n",
      "Epoch 65/3000\n",
      "1852/1852 [==============================] - 2s 898us/step - loss: 0.0298 - categorical_accuracy: 0.9954\n",
      "Epoch 66/3000\n",
      "1852/1852 [==============================] - 2s 953us/step - loss: 0.0331 - categorical_accuracy: 0.99480s - loss:\n",
      "Epoch 67/3000\n",
      "1852/1852 [==============================] - 2s 860us/step - loss: 0.0300 - categorical_accuracy: 0.99550s - loss: 0.0312 - categorical_accuracy: 0.99 - ETA: 0s - loss: 0.0309 - categorical_accuracy:  - ETA: 0s - loss: 0.0303 - categorical_accuracy: 0.99 - ETA: 0s - loss: 0.0301 - cate - ETA: 0s - loss: 0.0299 - categorical_accuracy\n",
      "Epoch 68/3000\n",
      "1852/1852 [==============================] - 2s 902us/step - loss: 0.0262 - categorical_accuracy: 0.99611s - loss: 0.0233  - ETA: 0s - loss: 0.0249 - categorical_ac\n",
      "Epoch 69/3000\n",
      "1852/1852 [==============================] - 2s 976us/step - loss: 0.0289 - categorical_accuracy: 0.9955\n",
      "Epoch 70/3000\n",
      "1852/1852 [==============================] - 2s 882us/step - loss: 0.0314 - categorical_accuracy: 0.9954\n",
      "Epoch 71/3000\n",
      "1852/1852 [==============================] - 2s 965us/step - loss: 0.0299 - categorical_accuracy: 0.99550s - loss:\n",
      "Epoch 72/3000\n",
      "1852/1852 [==============================] - 2s 1ms/step - loss: 0.0354 - categorical_accuracy: 0.9945\n",
      "Epoch 73/3000\n",
      "1852/1852 [==============================] - 2s 1ms/step - loss: 0.0338 - categorical_accuracy: 0.9948\n",
      "Epoch 74/3000\n",
      "1852/1852 [==============================] - 2s 833us/step - loss: 0.0281 - categorical_accuracy: 0.99601s - loss: 0.0244 - categorica - ETA: 0s - loss: 0.0260 - ca\n",
      "Epoch 75/3000\n",
      "1852/1852 [==============================] - 2s 872us/step - loss: 0.0320 - categorical_accuracy: 0.9951\n",
      "Epoch 76/3000\n",
      "1852/1852 [==============================] - 2s 876us/step - loss: 0.0276 - categorical_accuracy: 0.99580s - loss:\n",
      "Epoch 77/3000\n",
      "1852/1852 [==============================] - 2s 946us/step - loss: 0.0318 - categorical_accuracy: 0.9952: 0s - loss: 0.0319 - categorical_accuracy: \n",
      "Epoch 78/3000\n",
      "1852/1852 [==============================] - 2s 984us/step - loss: 0.0281 - categorical_accuracy: 0.9958\n",
      "Epoch 79/3000\n",
      "1394/1852 [=====================>........] - ETA: 0s - loss: 0.0263 - categorical_accuracy: 0.9960 ETA: 1s - loss: 0.0254 - ca - ETA: 0s - loss: 0.0262 - categorical_accuracy"
     ]
    }
   ],
   "source": [
    "model.fit(np_train, np_train_result, epochs = 3000, batch_size=10)\n",
    "model.evaluate(np_val, np_val_result, batch_size=4,steps=1000)"
   ]
  },
  {
   "cell_type": "code",
   "execution_count": null,
   "id": "after-gothic",
   "metadata": {},
   "outputs": [],
   "source": []
  },
  {
   "cell_type": "code",
   "execution_count": null,
   "id": "sensitive-course",
   "metadata": {},
   "outputs": [],
   "source": []
  },
  {
   "cell_type": "code",
   "execution_count": null,
   "id": "pursuant-spencer",
   "metadata": {
    "ExecuteTime": {
     "end_time": "2021-04-05T07:28:24.598886Z",
     "start_time": "2021-04-05T07:28:24.563499Z"
    }
   },
   "outputs": [],
   "source": [
    "submit.to_csv('submit/Guk_202105011_test_submit_ensemble.csv', index=False) # 0.7272812144"
   ]
  },
  {
   "cell_type": "code",
   "execution_count": null,
   "id": "authentic-african",
   "metadata": {
    "ExecuteTime": {
     "end_time": "2021-04-05T07:28:24.611127Z",
     "start_time": "2021-04-05T07:28:24.599932Z"
    }
   },
   "outputs": [],
   "source": [
    "submit.head(20)"
   ]
  },
  {
   "cell_type": "code",
   "execution_count": null,
   "id": "entitled-azerbaijan",
   "metadata": {},
   "outputs": [],
   "source": []
  },
  {
   "cell_type": "code",
   "execution_count": null,
   "id": "suspended-recipe",
   "metadata": {},
   "outputs": [],
   "source": []
  }
 ],
 "metadata": {
  "kernelspec": {
   "display_name": "Python 3",
   "language": "python",
   "name": "python3"
  },
  "language_info": {
   "codemirror_mode": {
    "name": "ipython",
    "version": 3
   },
   "file_extension": ".py",
   "mimetype": "text/x-python",
   "name": "python",
   "nbconvert_exporter": "python",
   "pygments_lexer": "ipython3",
   "version": "3.8.2"
  },
  "toc": {
   "base_numbering": 1,
   "nav_menu": {},
   "number_sections": true,
   "sideBar": true,
   "skip_h1_title": false,
   "title_cell": "Table of Contents",
   "title_sidebar": "Contents",
   "toc_cell": false,
   "toc_position": {},
   "toc_section_display": true,
   "toc_window_display": false
  },
  "varInspector": {
   "cols": {
    "lenName": 16,
    "lenType": 16,
    "lenVar": 40
   },
   "kernels_config": {
    "python": {
     "delete_cmd_postfix": "",
     "delete_cmd_prefix": "del ",
     "library": "var_list.py",
     "varRefreshCmd": "print(var_dic_list())"
    },
    "r": {
     "delete_cmd_postfix": ") ",
     "delete_cmd_prefix": "rm(",
     "library": "var_list.r",
     "varRefreshCmd": "cat(var_dic_list()) "
    }
   },
   "types_to_exclude": [
    "module",
    "function",
    "builtin_function_or_method",
    "instance",
    "_Feature"
   ],
   "window_display": false
  }
 },
 "nbformat": 4,
 "nbformat_minor": 5
}
