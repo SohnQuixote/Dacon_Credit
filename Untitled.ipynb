{
 "cells": [
  {
   "cell_type": "code",
   "execution_count": 1,
   "id": "0b0cc361",
   "metadata": {},
   "outputs": [],
   "source": [
    "#import tensorflow.compat.v1 as tf\n",
    "#tf.disable_v2_behavior()\n",
    "import tensorflow as tf\n",
    "from tensorflow import keras\n",
    "from tensorflow.keras import layers\n",
    "import _pickle as cPickle\n",
    "import matplotlib.pyplot as plt\n",
    "import warnings\n",
    "warnings.filterwarnings('ignore')\n",
    "import glob\n",
    "import pandas as pd\n",
    "import numpy as np\n",
    "from lightgbm import LGBMClassifier\n",
    "from sklearn.model_selection import StratifiedKFold\n",
    "from sklearn.preprocessing import OneHotEncoder\n",
    "from sklearn.feature_selection import mutual_info_regression\n",
    "import random\n",
    "import platform\n",
    "import matplotlib.pyplot as plt\n",
    "import seaborn as sns\n",
    "from sklearn.model_selection import cross_val_score\n",
    "from sklearn.tree import DecisionTreeClassifier\n",
    "from sklearn.neural_network import MLPClassifier\n",
    "from sklearn.datasets import make_classification\n",
    "from sklearn.model_selection import train_test_split\n",
    "from matplotlib import font_manager , rc\n",
    "plt.rcParams['axes.unicode_minus'] = False\n",
    "\n",
    "if platform.system() == 'Windows' :\n",
    "    path = \"c:/Windows/Fonts/malgun.ttf\"\n",
    "    font_name = font_manager.FontProperties(fname = path).get_name()\n",
    "    rc('font' , family = font_name)"
   ]
  },
  {
   "cell_type": "code",
   "execution_count": 2,
   "id": "81d4bbac",
   "metadata": {},
   "outputs": [],
   "source": [
    "np.random.seed(123)\n",
    "tf.random.set_seed(123)\n",
    "learning_rate = 0.15\n",
    "fw = tf.keras.initializers.truncated_normal()\n",
    "fb = tf.keras.initializers.truncated_normal()"
   ]
  },
  {
   "cell_type": "code",
   "execution_count": 3,
   "id": "104885bc",
   "metadata": {},
   "outputs": [],
   "source": [
    "np.random.seed(123)\n",
    "tf.random.set_seed(123)"
   ]
  },
  {
   "cell_type": "code",
   "execution_count": 4,
   "id": "44ddacdd",
   "metadata": {},
   "outputs": [],
   "source": [
    "train = pd.read_csv('dataset/train.csv')\n",
    "train = train.drop(['index'], axis=1)\n",
    "train.fillna('NAN', inplace=True) \n",
    "trian.drop('occyptype')\n",
    "X = train.copy()\n",
    "\"\"\"credit = X.pop(\"credit\")\n",
    "discrete_features = X.dtypes == float\"\"\"\n",
    "test = pd.read_csv('dataset/test.csv')\n",
    "test = test.drop(['index'], axis=1)\n",
    "test.fillna('NAN', inplace=True)\n",
    "\n",
    "submit = pd.read_csv('dataset/sample_submission.csv')\n",
    "def make_mi_scores(X, y, discrete_features):\n",
    "    mi_scores = mutual_info_regression(X, y, discrete_features=discrete_features)\n",
    "    mi_scores = pd.Series(mi_scores, name=\"MI Scores\", index=X.columns)\n",
    "    mi_scores = mi_scores.sort_values(ascending=False)\n",
    "    return mi_scores \n",
    "Y = test.copy()"
   ]
  },
  {
   "cell_type": "code",
   "execution_count": 5,
   "id": "6228c5f1",
   "metadata": {},
   "outputs": [],
   "source": [
    "object_col = []\n",
    "for col in train.columns:\n",
    "    if train[col].dtype == 'object':\n",
    "        object_col.append(col)"
   ]
  },
  {
   "cell_type": "code",
   "execution_count": 6,
   "id": "90f38969",
   "metadata": {},
   "outputs": [],
   "source": [
    "enc = OneHotEncoder()\n",
    "enc.fit(train.loc[:,object_col])\n",
    "\n",
    "\n",
    "train_onehot_df = pd.DataFrame(enc.transform(train.loc[:,object_col]).toarray(), \n",
    "             columns=enc.get_feature_names(object_col))\n",
    "train.drop(object_col, axis=1, inplace=True)\n",
    "train = pd.concat([train, train_onehot_df], axis=1)"
   ]
  },
  {
   "cell_type": "code",
   "execution_count": 7,
   "id": "046dfe79",
   "metadata": {},
   "outputs": [],
   "source": [
    "test_onehot_df = pd.DataFrame(enc.transform(test.loc[:,object_col]).toarray(), \n",
    "             columns=enc.get_feature_names(object_col))\n",
    "test.drop(object_col, axis=1, inplace=True)\n",
    "test = pd.concat([test, test_onehot_df], axis=1)"
   ]
  },
  {
   "cell_type": "code",
   "execution_count": 8,
   "id": "5ef52c67",
   "metadata": {},
   "outputs": [
    {
     "data": {
      "text/plain": [
       "child_num                                   int64\n",
       "income_total                              float64\n",
       "DAYS_BIRTH                                  int64\n",
       "DAYS_EMPLOYED                               int64\n",
       "FLAG_MOBIL                                  int64\n",
       "work_phone                                  int64\n",
       "phone                                       int64\n",
       "email                                       int64\n",
       "family_size                               float64\n",
       "begin_month                               float64\n",
       "credit                                    float64\n",
       "gender_F                                  float64\n",
       "gender_M                                  float64\n",
       "car_N                                     float64\n",
       "car_Y                                     float64\n",
       "reality_N                                 float64\n",
       "reality_Y                                 float64\n",
       "income_type_Commercial associate          float64\n",
       "income_type_Pensioner                     float64\n",
       "income_type_State servant                 float64\n",
       "income_type_Student                       float64\n",
       "income_type_Working                       float64\n",
       "edu_type_Academic degree                  float64\n",
       "edu_type_Higher education                 float64\n",
       "edu_type_Incomplete higher                float64\n",
       "edu_type_Lower secondary                  float64\n",
       "edu_type_Secondary / secondary special    float64\n",
       "family_type_Civil marriage                float64\n",
       "family_type_Married                       float64\n",
       "family_type_Separated                     float64\n",
       "family_type_Single / not married          float64\n",
       "family_type_Widow                         float64\n",
       "house_type_Co-op apartment                float64\n",
       "house_type_House / apartment              float64\n",
       "house_type_Municipal apartment            float64\n",
       "house_type_Office apartment               float64\n",
       "house_type_Rented apartment               float64\n",
       "house_type_With parents                   float64\n",
       "occyp_type_Accountants                    float64\n",
       "occyp_type_Cleaning staff                 float64\n",
       "occyp_type_Cooking staff                  float64\n",
       "occyp_type_Core staff                     float64\n",
       "occyp_type_Drivers                        float64\n",
       "occyp_type_HR staff                       float64\n",
       "occyp_type_High skill tech staff          float64\n",
       "occyp_type_IT staff                       float64\n",
       "occyp_type_Laborers                       float64\n",
       "occyp_type_Low-skill Laborers             float64\n",
       "occyp_type_Managers                       float64\n",
       "occyp_type_Medicine staff                 float64\n",
       "occyp_type_NAN                            float64\n",
       "occyp_type_Private service staff          float64\n",
       "occyp_type_Realty agents                  float64\n",
       "occyp_type_Sales staff                    float64\n",
       "occyp_type_Secretaries                    float64\n",
       "occyp_type_Security staff                 float64\n",
       "occyp_type_Waiters/barmen staff           float64\n",
       "dtype: object"
      ]
     },
     "execution_count": 8,
     "metadata": {},
     "output_type": "execute_result"
    }
   ],
   "source": [
    "train.dtypes"
   ]
  },
  {
   "cell_type": "code",
   "execution_count": 9,
   "id": "f8c22192",
   "metadata": {},
   "outputs": [
    {
     "data": {
      "text/plain": [
       "(26457, 57)"
      ]
     },
     "execution_count": 9,
     "metadata": {},
     "output_type": "execute_result"
    }
   ],
   "source": [
    "train\n",
    "np_train = train.to_numpy()\n",
    "np_train\n",
    "np_train[10000][10]\n",
    "np_test = test.to_numpy()\n",
    "np_train.shape"
   ]
  },
  {
   "cell_type": "code",
   "execution_count": 10,
   "id": "a606a93d",
   "metadata": {},
   "outputs": [],
   "source": [
    "result = np_train[:,10]"
   ]
  },
  {
   "cell_type": "code",
   "execution_count": 11,
   "id": "e36c309a",
   "metadata": {},
   "outputs": [],
   "source": [
    "np_train = np.delete(np_train , 10, axis = 1)"
   ]
  },
  {
   "cell_type": "code",
   "execution_count": 12,
   "id": "bd06cd13",
   "metadata": {},
   "outputs": [],
   "source": [
    "#enc.fit(result)\n",
    "result = result.reshape(-1,1)"
   ]
  },
  {
   "cell_type": "code",
   "execution_count": 13,
   "id": "db084d1b",
   "metadata": {},
   "outputs": [
    {
     "data": {
      "text/plain": [
       "array([[1.],\n",
       "       [1.],\n",
       "       [2.],\n",
       "       ...,\n",
       "       [2.],\n",
       "       [2.],\n",
       "       [2.]])"
      ]
     },
     "execution_count": 13,
     "metadata": {},
     "output_type": "execute_result"
    }
   ],
   "source": [
    "result"
   ]
  },
  {
   "cell_type": "code",
   "execution_count": 14,
   "id": "10b1b4a7",
   "metadata": {},
   "outputs": [
    {
     "data": {
      "text/plain": [
       "OneHotEncoder()"
      ]
     },
     "execution_count": 14,
     "metadata": {},
     "output_type": "execute_result"
    }
   ],
   "source": [
    "enc.fit(result)"
   ]
  },
  {
   "cell_type": "code",
   "execution_count": 15,
   "id": "5ea5e1ad",
   "metadata": {},
   "outputs": [],
   "source": [
    "result_one_hot = enc.transform(result).toarray()"
   ]
  },
  {
   "cell_type": "code",
   "execution_count": 16,
   "id": "1a04447e",
   "metadata": {},
   "outputs": [
    {
     "data": {
      "text/plain": [
       "array([[0., 1., 0.],\n",
       "       [0., 1., 0.],\n",
       "       [0., 0., 1.],\n",
       "       ...,\n",
       "       [0., 0., 1.],\n",
       "       [0., 0., 1.],\n",
       "       [0., 0., 1.]])"
      ]
     },
     "execution_count": 16,
     "metadata": {},
     "output_type": "execute_result"
    }
   ],
   "source": [
    "result_one_hot"
   ]
  },
  {
   "cell_type": "code",
   "execution_count": 17,
   "id": "b6733cb4",
   "metadata": {},
   "outputs": [
    {
     "data": {
      "text/plain": [
       "(26457, 56)"
      ]
     },
     "execution_count": 17,
     "metadata": {},
     "output_type": "execute_result"
    }
   ],
   "source": [
    "np_train.shape"
   ]
  },
  {
   "cell_type": "code",
   "execution_count": 18,
   "id": "2d27d9a0",
   "metadata": {},
   "outputs": [
    {
     "data": {
      "text/plain": [
       "(10000, 56)"
      ]
     },
     "execution_count": 18,
     "metadata": {},
     "output_type": "execute_result"
    }
   ],
   "source": [
    "np_test.shape"
   ]
  },
  {
   "cell_type": "code",
   "execution_count": 19,
   "id": "c66f4eac",
   "metadata": {},
   "outputs": [],
   "source": [
    "x_test = np_test\n",
    "x_test = x_test.astype('float32')"
   ]
  },
  {
   "cell_type": "code",
   "execution_count": 20,
   "id": "e64a4b82",
   "metadata": {},
   "outputs": [
    {
     "data": {
      "text/plain": [
       "(10000, 56)"
      ]
     },
     "execution_count": 20,
     "metadata": {},
     "output_type": "execute_result"
    }
   ],
   "source": [
    "np_test.shape"
   ]
  },
  {
   "cell_type": "code",
   "execution_count": 21,
   "id": "ff6849c4",
   "metadata": {},
   "outputs": [],
   "source": [
    "x = np_train\n",
    "x = x.astype('float32')\n",
    "y = result_one_hot\n",
    "y = y.astype('float32')\n",
    "#rate = tf.placeholder(tf.float32)"
   ]
  },
  {
   "cell_type": "code",
   "execution_count": 22,
   "id": "df3bf104",
   "metadata": {},
   "outputs": [
    {
     "data": {
      "text/plain": [
       "array([[0., 1., 0.],\n",
       "       [0., 1., 0.],\n",
       "       [0., 0., 1.],\n",
       "       ...,\n",
       "       [0., 0., 1.],\n",
       "       [0., 0., 1.],\n",
       "       [0., 0., 1.]], dtype=float32)"
      ]
     },
     "execution_count": 22,
     "metadata": {},
     "output_type": "execute_result"
    }
   ],
   "source": [
    "y"
   ]
  },
  {
   "cell_type": "code",
   "execution_count": 23,
   "id": "a8154df4",
   "metadata": {},
   "outputs": [
    {
     "data": {
      "text/plain": [
       "(26457, 56)"
      ]
     },
     "execution_count": 23,
     "metadata": {},
     "output_type": "execute_result"
    }
   ],
   "source": [
    "x.shape"
   ]
  },
  {
   "cell_type": "code",
   "execution_count": 24,
   "id": "7be436a5",
   "metadata": {},
   "outputs": [
    {
     "data": {
      "text/plain": [
       "(26457, 3)"
      ]
     },
     "execution_count": 24,
     "metadata": {},
     "output_type": "execute_result"
    }
   ],
   "source": [
    "y.shape"
   ]
  },
  {
   "cell_type": "code",
   "execution_count": 25,
   "id": "e7b2129e",
   "metadata": {},
   "outputs": [],
   "source": [
    "w1 = tf.Variable(tf.random.normal([56,112]) , dtype = tf.float32)\n",
    "b1 = tf.Variable(tf.random.normal([1,112]), dtype=tf.float32)"
   ]
  },
  {
   "cell_type": "code",
   "execution_count": 26,
   "id": "001ea0ab",
   "metadata": {},
   "outputs": [],
   "source": [
    "w2 = tf.Variable(tf.random.normal([112,224]) , dtype = tf.float32)\n",
    "b2 = tf.Variable(tf.random.normal([1,224]), dtype=tf.float32)"
   ]
  },
  {
   "cell_type": "code",
   "execution_count": 27,
   "id": "7285505b",
   "metadata": {},
   "outputs": [],
   "source": [
    "w3 = tf.Variable(tf.random.normal([224,112]) , dtype = tf.float32)\n",
    "b3 = tf.Variable(tf.random.normal([1,112]), dtype=tf.float32)"
   ]
  },
  {
   "cell_type": "code",
   "execution_count": 28,
   "id": "292128fd",
   "metadata": {},
   "outputs": [],
   "source": [
    "w4 = tf.Variable(tf.random.normal([112,56]) , dtype = tf.float32)\n",
    "b4 = tf.Variable(tf.random.normal([1,56]), dtype=tf.float32)"
   ]
  },
  {
   "cell_type": "code",
   "execution_count": 29,
   "id": "9f89cced",
   "metadata": {},
   "outputs": [],
   "source": [
    "w5 = tf.Variable(tf.random.normal([56,3]) , dtype = tf.float32)\n",
    "b5 = tf.Variable(tf.random.normal([1,3]), dtype=tf.float32)"
   ]
  },
  {
   "cell_type": "code",
   "execution_count": 30,
   "id": "97e852e0",
   "metadata": {},
   "outputs": [],
   "source": [
    "model = keras.Sequential([\n",
    "    keras.layers.Dense(56),\n",
    "    keras.layers.Dense(112, activation='relu'),\n",
    "    keras.layers.Dense(224, activation='relu'),\n",
    "    keras.layers.Dense(112, activation='relu'),\n",
    "    keras.layers.Dense(56, activation='relu'),\n",
    "    keras.layers.Dense(3, activation='softmax')\n",
    "])"
   ]
  },
  {
   "cell_type": "code",
   "execution_count": 31,
   "id": "1be31a57",
   "metadata": {},
   "outputs": [],
   "source": [
    "model.compile(optimizer='adam',\n",
    "              loss='sparse_categorical_crossentropy',\n",
    "              metrics=['accuracy'])"
   ]
  },
  {
   "cell_type": "code",
   "execution_count": 32,
   "id": "701d987b",
   "metadata": {},
   "outputs": [
    {
     "name": "stdout",
     "output_type": "stream",
     "text": [
      "Epoch 1/10\n",
      "827/827 [==============================] - 1s 1ms/step - loss: 185.2175 - accuracy: 0.4876\n",
      "Epoch 2/10\n",
      "827/827 [==============================] - 1s 1ms/step - loss: 12.4956 - accuracy: 0.4870\n",
      "Epoch 3/10\n",
      "827/827 [==============================] - 1s 1ms/step - loss: 2.4872 - accuracy: 0.5106\n",
      "Epoch 4/10\n",
      "827/827 [==============================] - 1s 1ms/step - loss: 2.7642 - accuracy: 0.5382\n",
      "Epoch 5/10\n",
      "827/827 [==============================] - 1s 1ms/step - loss: 1.4721 - accuracy: 0.6005\n",
      "Epoch 6/10\n",
      "827/827 [==============================] - 1s 1ms/step - loss: 0.9744 - accuracy: 0.6159\n",
      "Epoch 7/10\n",
      "827/827 [==============================] - 1s 1ms/step - loss: 1.3207 - accuracy: 0.6034\n",
      "Epoch 8/10\n",
      "827/827 [==============================] - 1s 1ms/step - loss: 0.9080 - accuracy: 0.6402\n",
      "Epoch 9/10\n",
      "827/827 [==============================] - 1s 1ms/step - loss: 0.8864 - accuracy: 0.6413\n",
      "Epoch 10/10\n",
      "827/827 [==============================] - 1s 1ms/step - loss: 0.9655 - accuracy: 0.6394\n"
     ]
    },
    {
     "data": {
      "text/plain": [
       "<tensorflow.python.keras.callbacks.History at 0x1e72d546848>"
      ]
     },
     "execution_count": 32,
     "metadata": {},
     "output_type": "execute_result"
    }
   ],
   "source": [
    "model.fit(x,result, epochs=10)"
   ]
  },
  {
   "cell_type": "code",
   "execution_count": null,
   "id": "18683188",
   "metadata": {},
   "outputs": [],
   "source": []
  },
  {
   "cell_type": "code",
   "execution_count": 33,
   "id": "f95c3ced",
   "metadata": {},
   "outputs": [
    {
     "data": {
      "image/png": "[encoded data removed]",
      "text/plain": [
       "<Figure size 432x288 with 1 Axes>"
      ]
     },
     "metadata": {
      "needs_background": "light"
     },
     "output_type": "display_data"
    }
   ],
   "source": [
    "loss_ = []\n",
    "epoch = 1\n",
    "#optimizer = tf.keras.optimizers.SGD(learning_rate)\n",
    "optimizer = tf.keras.optimizers.Adam(0.001)    \n",
    "def binary_crossentropy_logits(y,logits) :\n",
    "    #cross_entropy = tf.nn.sigmoid_cross_entropy_with_logits(labels = y , logits = logits)\n",
    "    cross_entropy = -y*tf.math.log(logits) - (1-y) *tf.math.log(1-logits)\n",
    "    loss = tf.reduce_mean(cross_entropy)\n",
    "    return loss\n",
    "for i in range(epoch):\n",
    "    with tf.GradientTape() as tape:\n",
    "        z1 = tf.matmul(x,w1) +b1\n",
    "        a1 = tf.sigmoid(z1)\n",
    "        z2 = tf.matmul(a1 ,w2) +b2\n",
    "        a2 = tf.sigmoid(z2)\n",
    "        z3 = tf.matmul(a2 ,w3) +b3\n",
    "        a3 = tf.sigmoid(z3)\n",
    "        z4 = tf.matmul(a3 ,w4) +b4\n",
    "        a4 = tf.sigmoid(z4)\n",
    "        z5 = tf.matmul(a4 ,w5) +b5\n",
    "        a5 = tf.sigmoid(z5)\n",
    "        yhat = a5\n",
    "        loss_value = binary_crossentropy_logits(y,yhat)\n",
    "        #loss_value = tf.losses.log_loss(y, yhat)\n",
    "        #loss_value = tf.nn.sigmoid_cross_entropy_with_logits()\n",
    "    gradients = tape.gradient(loss_value , [w1,w2,w3,w4,w5,b1,b2,b3,b4,b5])\n",
    "        #loss = tf.reduce_mean((y-yhat) * (y-yhat))\n",
    "    #gradients = tape.gradient(loss ,[w1,b1,w2,b2])\n",
    "    \n",
    "    #train = optimizer.minimize(gradients ,var_list =[w1,b1,w2,b2])\n",
    "    loss_.append(loss_value)\n",
    "    optimizer.apply_gradients(grads_and_vars = zip(gradients,[w1,w2,w3,w4,w5,b1,b2,b3,b4,b5]))\n",
    "    #dw1,db1,dw2,db2 = tape.gradient(loss , [w1,b1,w2,b2])\n",
    "    \n",
    "    #loss = tf.nn.sigmoid_cross_entropy_with_logits(labels = y , logits = z2)\n",
    "    #loss = 1/4*(-y*tf.math.log(yhat) - (1-y) *tf.math.log(1-yhat))\n",
    "    #dw1,db1,dw2 , db2  = tape.gradient(loss , [w1,b1,w2,b2])\n",
    "    #optimizer.apply_gradients(grads_and_vars = zip([dw1,db1],[w1,b1]))\n",
    "    #optimizer.apply_gradients(grads_and_vars = zip([dw2,db2],[w2,b2]))\n",
    "    #loss = tf.reduce_mean(loss)\n",
    "    \n",
    "\n",
    "    #loss_.append(loss_value)\n",
    "    correct = tf.equal(tf.argmax(y , axis = 1) , tf.argmax(yhat , axis=1))\n",
    "    correct = tf.cast(correct , tf.float32)\n",
    "    accuracy = tf.reduce_mean(correct)\n",
    "    #print(i,loss_value)\n",
    "    #loss_.append(loss)\n",
    "    #outs =  sess.run([train,loss,yhat ] , feed_dict = {x:x_data , y:y_data})\n",
    "    #print(i ,outs[1])\n",
    "    #loss_.append(outs[1])\n",
    "    \n",
    "\n",
    "#loss 보고 학습더해야될지 판단\n",
    "plt.plot(loss_)\n",
    "plt.show()"
   ]
  },
  {
   "cell_type": "code",
   "execution_count": 34,
   "id": "2fb6b77a",
   "metadata": {},
   "outputs": [
    {
     "data": {
      "text/plain": [
       "(10000, 56)"
      ]
     },
     "execution_count": 34,
     "metadata": {},
     "output_type": "execute_result"
    }
   ],
   "source": [
    "x_test.shape"
   ]
  },
  {
   "cell_type": "code",
   "execution_count": 35,
   "id": "cd997f98",
   "metadata": {},
   "outputs": [],
   "source": [
    "z1 = tf.matmul(x_test,w1) +b1\n",
    "a1 = tf.sigmoid(z1)\n",
    "z2 = tf.matmul(a1 ,w2) +b2\n",
    "a2 = tf.sigmoid(z2)\n",
    "z3 = tf.matmul(a2 ,w3) +b3\n",
    "a3 = tf.sigmoid(z3)\n",
    "z4 = tf.matmul(a3 ,w4) +b4\n",
    "a4 = tf.sigmoid(z4)\n",
    "z5 = tf.matmul(a4 ,w5) +b5\n",
    "a5 = tf.sigmoid(z5)\n",
    "yhat = a5"
   ]
  },
  {
   "cell_type": "code",
   "execution_count": null,
   "id": "46169206",
   "metadata": {},
   "outputs": [],
   "source": []
  },
  {
   "cell_type": "code",
   "execution_count": null,
   "id": "ea08db58",
   "metadata": {},
   "outputs": [],
   "source": []
  },
  {
   "cell_type": "code",
   "execution_count": 36,
   "id": "c3a3b27d",
   "metadata": {},
   "outputs": [
    {
     "data": {
      "text/plain": [
       "<tf.Tensor: shape=(10000, 3), dtype=float32, numpy=\n",
       "array([[0.92466664, 0.8675432 , 0.01823136],\n",
       "       [0.9704616 , 0.7844491 , 0.02807376],\n",
       "       [0.8644123 , 0.78737867, 0.0211435 ],\n",
       "       ...,\n",
       "       [0.74810547, 0.95115316, 0.2208736 ],\n",
       "       [0.93800735, 0.8313926 , 0.02044952],\n",
       "       [0.65551955, 0.940058  , 0.09380081]], dtype=float32)>"
      ]
     },
     "execution_count": 36,
     "metadata": {},
     "output_type": "execute_result"
    }
   ],
   "source": [
    "yhat"
   ]
  },
  {
   "cell_type": "code",
   "execution_count": 37,
   "id": "a75c3175",
   "metadata": {},
   "outputs": [],
   "source": [
    "submit.iloc[:,1:]=0"
   ]
  },
  {
   "cell_type": "code",
   "execution_count": 38,
   "id": "ee3afa7a",
   "metadata": {},
   "outputs": [],
   "source": [
    "yhat_float = tf.cast(yhat ,tf.float32)"
   ]
  },
  {
   "cell_type": "code",
   "execution_count": 39,
   "id": "2f8e2e1c",
   "metadata": {},
   "outputs": [],
   "source": [
    "yhat_float = yhat_float.numpy()"
   ]
  },
  {
   "cell_type": "code",
   "execution_count": 40,
   "id": "3660045d",
   "metadata": {},
   "outputs": [
    {
     "data": {
      "text/plain": [
       "array([[0.92466664, 0.8675432 , 0.01823136],\n",
       "       [0.9704616 , 0.7844491 , 0.02807376],\n",
       "       [0.8644123 , 0.78737867, 0.0211435 ],\n",
       "       ...,\n",
       "       [0.74810547, 0.95115316, 0.2208736 ],\n",
       "       [0.93800735, 0.8313926 , 0.02044952],\n",
       "       [0.65551955, 0.940058  , 0.09380081]], dtype=float32)"
      ]
     },
     "execution_count": 40,
     "metadata": {},
     "output_type": "execute_result"
    }
   ],
   "source": [
    "yhat_float"
   ]
  },
  {
   "cell_type": "code",
   "execution_count": 41,
   "id": "66ea36ad",
   "metadata": {},
   "outputs": [],
   "source": [
    "submit_test = pd.DataFrame(yhat_float)"
   ]
  },
  {
   "cell_type": "code",
   "execution_count": 42,
   "id": "61ae294f",
   "metadata": {
    "scrolled": true
   },
   "outputs": [
    {
     "data": {
      "text/html": [
       "<div>\n",
       "<style scoped>\n",
       "    .dataframe tbody tr th:only-of-type {\n",
       "        vertical-align: middle;\n",
       "    }\n",
       "\n",
       "    .dataframe tbody tr th {\n",
       "        vertical-align: top;\n",
       "    }\n",
       "\n",
       "    .dataframe thead th {\n",
       "        text-align: right;\n",
       "    }\n",
       "</style>\n",
       "<table border=\"1\" class=\"dataframe\">\n",
       "  <thead>\n",
       "    <tr style=\"text-align: right;\">\n",
       "      <th></th>\n",
       "      <th>0</th>\n",
       "      <th>1</th>\n",
       "      <th>2</th>\n",
       "    </tr>\n",
       "  </thead>\n",
       "  <tbody>\n",
       "    <tr>\n",
       "      <th>0</th>\n",
       "      <td>0.924667</td>\n",
       "      <td>0.867543</td>\n",
       "      <td>0.018231</td>\n",
       "    </tr>\n",
       "    <tr>\n",
       "      <th>1</th>\n",
       "      <td>0.970462</td>\n",
       "      <td>0.784449</td>\n",
       "      <td>0.028074</td>\n",
       "    </tr>\n",
       "    <tr>\n",
       "      <th>2</th>\n",
       "      <td>0.864412</td>\n",
       "      <td>0.787379</td>\n",
       "      <td>0.021143</td>\n",
       "    </tr>\n",
       "    <tr>\n",
       "      <th>3</th>\n",
       "      <td>0.937235</td>\n",
       "      <td>0.826936</td>\n",
       "      <td>0.012352</td>\n",
       "    </tr>\n",
       "    <tr>\n",
       "      <th>4</th>\n",
       "      <td>0.748105</td>\n",
       "      <td>0.951153</td>\n",
       "      <td>0.220874</td>\n",
       "    </tr>\n",
       "    <tr>\n",
       "      <th>...</th>\n",
       "      <td>...</td>\n",
       "      <td>...</td>\n",
       "      <td>...</td>\n",
       "    </tr>\n",
       "    <tr>\n",
       "      <th>9995</th>\n",
       "      <td>0.864783</td>\n",
       "      <td>0.888492</td>\n",
       "      <td>0.050652</td>\n",
       "    </tr>\n",
       "    <tr>\n",
       "      <th>9996</th>\n",
       "      <td>0.655520</td>\n",
       "      <td>0.940058</td>\n",
       "      <td>0.093801</td>\n",
       "    </tr>\n",
       "    <tr>\n",
       "      <th>9997</th>\n",
       "      <td>0.748105</td>\n",
       "      <td>0.951153</td>\n",
       "      <td>0.220874</td>\n",
       "    </tr>\n",
       "    <tr>\n",
       "      <th>9998</th>\n",
       "      <td>0.938007</td>\n",
       "      <td>0.831393</td>\n",
       "      <td>0.020450</td>\n",
       "    </tr>\n",
       "    <tr>\n",
       "      <th>9999</th>\n",
       "      <td>0.655520</td>\n",
       "      <td>0.940058</td>\n",
       "      <td>0.093801</td>\n",
       "    </tr>\n",
       "  </tbody>\n",
       "</table>\n",
       "<p>10000 rows × 3 columns</p>\n",
       "</div>"
      ],
      "text/plain": [
       "             0         1         2\n",
       "0     0.924667  0.867543  0.018231\n",
       "1     0.970462  0.784449  0.028074\n",
       "2     0.864412  0.787379  0.021143\n",
       "3     0.937235  0.826936  0.012352\n",
       "4     0.748105  0.951153  0.220874\n",
       "...        ...       ...       ...\n",
       "9995  0.864783  0.888492  0.050652\n",
       "9996  0.655520  0.940058  0.093801\n",
       "9997  0.748105  0.951153  0.220874\n",
       "9998  0.938007  0.831393  0.020450\n",
       "9999  0.655520  0.940058  0.093801\n",
       "\n",
       "[10000 rows x 3 columns]"
      ]
     },
     "execution_count": 42,
     "metadata": {},
     "output_type": "execute_result"
    }
   ],
   "source": [
    "submit_test"
   ]
  },
  {
   "cell_type": "code",
   "execution_count": 43,
   "id": "43867c89",
   "metadata": {},
   "outputs": [],
   "source": [
    "submit.iloc[:,1:] = submit_test"
   ]
  },
  {
   "cell_type": "code",
   "execution_count": 44,
   "id": "6a9a4d08",
   "metadata": {},
   "outputs": [
    {
     "data": {
      "text/html": [
       "<div>\n",
       "<style scoped>\n",
       "    .dataframe tbody tr th:only-of-type {\n",
       "        vertical-align: middle;\n",
       "    }\n",
       "\n",
       "    .dataframe tbody tr th {\n",
       "        vertical-align: top;\n",
       "    }\n",
       "\n",
       "    .dataframe thead th {\n",
       "        text-align: right;\n",
       "    }\n",
       "</style>\n",
       "<table border=\"1\" class=\"dataframe\">\n",
       "  <thead>\n",
       "    <tr style=\"text-align: right;\">\n",
       "      <th></th>\n",
       "      <th>index</th>\n",
       "      <th>0</th>\n",
       "      <th>1</th>\n",
       "      <th>2</th>\n",
       "    </tr>\n",
       "  </thead>\n",
       "  <tbody>\n",
       "    <tr>\n",
       "      <th>0</th>\n",
       "      <td>26457</td>\n",
       "      <td>0.924667</td>\n",
       "      <td>0.867543</td>\n",
       "      <td>0.018231</td>\n",
       "    </tr>\n",
       "    <tr>\n",
       "      <th>1</th>\n",
       "      <td>26458</td>\n",
       "      <td>0.970462</td>\n",
       "      <td>0.784449</td>\n",
       "      <td>0.028074</td>\n",
       "    </tr>\n",
       "    <tr>\n",
       "      <th>2</th>\n",
       "      <td>26459</td>\n",
       "      <td>0.864412</td>\n",
       "      <td>0.787379</td>\n",
       "      <td>0.021143</td>\n",
       "    </tr>\n",
       "    <tr>\n",
       "      <th>3</th>\n",
       "      <td>26460</td>\n",
       "      <td>0.937235</td>\n",
       "      <td>0.826936</td>\n",
       "      <td>0.012352</td>\n",
       "    </tr>\n",
       "    <tr>\n",
       "      <th>4</th>\n",
       "      <td>26461</td>\n",
       "      <td>0.748105</td>\n",
       "      <td>0.951153</td>\n",
       "      <td>0.220874</td>\n",
       "    </tr>\n",
       "  </tbody>\n",
       "</table>\n",
       "</div>"
      ],
      "text/plain": [
       "   index         0         1         2\n",
       "0  26457  0.924667  0.867543  0.018231\n",
       "1  26458  0.970462  0.784449  0.028074\n",
       "2  26459  0.864412  0.787379  0.021143\n",
       "3  26460  0.937235  0.826936  0.012352\n",
       "4  26461  0.748105  0.951153  0.220874"
      ]
     },
     "execution_count": 44,
     "metadata": {},
     "output_type": "execute_result"
    }
   ],
   "source": [
    "submit.head()"
   ]
  },
  {
   "cell_type": "code",
   "execution_count": 45,
   "id": "d8d2bb33",
   "metadata": {},
   "outputs": [],
   "source": [
    "submit.to_csv('submit/20210505_test_submit_tensor.csv', index=False)"
   ]
  },
  {
   "cell_type": "code",
   "execution_count": 46,
   "id": "8d52f53e",
   "metadata": {},
   "outputs": [
    {
     "data": {
      "text/html": [
       "<div>\n",
       "<style scoped>\n",
       "    .dataframe tbody tr th:only-of-type {\n",
       "        vertical-align: middle;\n",
       "    }\n",
       "\n",
       "    .dataframe tbody tr th {\n",
       "        vertical-align: top;\n",
       "    }\n",
       "\n",
       "    .dataframe thead th {\n",
       "        text-align: right;\n",
       "    }\n",
       "</style>\n",
       "<table border=\"1\" class=\"dataframe\">\n",
       "  <thead>\n",
       "    <tr style=\"text-align: right;\">\n",
       "      <th></th>\n",
       "      <th>index</th>\n",
       "      <th>0</th>\n",
       "      <th>1</th>\n",
       "      <th>2</th>\n",
       "    </tr>\n",
       "  </thead>\n",
       "  <tbody>\n",
       "    <tr>\n",
       "      <th>0</th>\n",
       "      <td>26457</td>\n",
       "      <td>1</td>\n",
       "      <td>0</td>\n",
       "      <td>0</td>\n",
       "    </tr>\n",
       "    <tr>\n",
       "      <th>1</th>\n",
       "      <td>26458</td>\n",
       "      <td>1</td>\n",
       "      <td>0</td>\n",
       "      <td>0</td>\n",
       "    </tr>\n",
       "    <tr>\n",
       "      <th>2</th>\n",
       "      <td>26459</td>\n",
       "      <td>1</td>\n",
       "      <td>0</td>\n",
       "      <td>0</td>\n",
       "    </tr>\n",
       "    <tr>\n",
       "      <th>3</th>\n",
       "      <td>26460</td>\n",
       "      <td>1</td>\n",
       "      <td>0</td>\n",
       "      <td>0</td>\n",
       "    </tr>\n",
       "    <tr>\n",
       "      <th>4</th>\n",
       "      <td>26461</td>\n",
       "      <td>0</td>\n",
       "      <td>1</td>\n",
       "      <td>0</td>\n",
       "    </tr>\n",
       "  </tbody>\n",
       "</table>\n",
       "</div>"
      ],
      "text/plain": [
       "   index  0  1  2\n",
       "0  26457  1  0  0\n",
       "1  26458  1  0  0\n",
       "2  26459  1  0  0\n",
       "3  26460  1  0  0\n",
       "4  26461  0  1  0"
      ]
     },
     "execution_count": 46,
     "metadata": {},
     "output_type": "execute_result"
    }
   ],
   "source": [
    "submit_ = pd.read_csv('dataset/sample_submission.csv')\n",
    "#submit.iloc[:,1:]=0\n",
    "submit_.iloc[:,1:] = 0\n",
    "submit_.head()\n",
    "#int(submit.iloc[:,1:].idxmax(1)[2])\n",
    "#submit_.iloc[0,1:]\n",
    "#submit.head()\n",
    "#submit.iloc[:,1:].idxmax(1)\n",
    "a = []\n",
    "a= submit.iloc[:,1:].idxmax(1)\n",
    "#submit_.iloc[3,1:]\n",
    "for i in range(0,len(submit_)):\n",
    "    submit_.iloc[i,int(a[i])+1] = 1\n",
    "submit_.head()\n",
    "#submit_.to_csv('submit/20210504_test_submit_one_hot_tensor.csv', index=False)\n",
    "submit_.head()"
   ]
  },
  {
   "cell_type": "code",
   "execution_count": 47,
   "id": "030089a5",
   "metadata": {},
   "outputs": [
    {
     "name": "stdout",
     "output_type": "stream",
     "text": [
      "21165 훈련 샘플\n",
      "5292 검증 샘플\n"
     ]
    }
   ],
   "source": [
    "train, val = train_test_split(train, test_size=0.2)\n",
    "print(len(train), '훈련 샘플')\n",
    "print(len(val), '검증 샘플')"
   ]
  },
  {
   "cell_type": "code",
   "execution_count": 48,
   "id": "f385e0fa",
   "metadata": {},
   "outputs": [],
   "source": [
    "#train.dtypes"
   ]
  },
  {
   "cell_type": "code",
   "execution_count": 49,
   "id": "81e9e15a",
   "metadata": {},
   "outputs": [],
   "source": [
    "# 판다스 데이터프레임으로부터 tf.data 데이터셋을 만들기 위한 함수\n",
    "def df_to_dataset(dataframe, shuffle=True, batch_size=32):\n",
    "    dataframe = dataframe.copy()\n",
    "    labels = dataframe.pop('credit')\n",
    "    ds = tf.data.Dataset.from_tensor_slices((dict(dataframe), labels))\n",
    "    if shuffle:\n",
    "        ds = ds.shuffle(buffer_size=len(dataframe))\n",
    "    ds = ds.batch(batch_size)\n",
    "    return ds"
   ]
  },
  {
   "cell_type": "code",
   "execution_count": 54,
   "id": "61dbb7c1",
   "metadata": {},
   "outputs": [
    {
     "data": {
      "text/plain": [
       "<BatchDataset shapes: ({child_num: (None,), income_total: (None,), DAYS_BIRTH: (None,), DAYS_EMPLOYED: (None,), FLAG_MOBIL: (None,), work_phone: (None,), phone: (None,), email: (None,), family_size: (None,), begin_month: (None,), gender_F: (None,), gender_M: (None,), car_N: (None,), car_Y: (None,), reality_N: (None,), reality_Y: (None,), income_type_Commercial associate: (None,), income_type_Pensioner: (None,), income_type_State servant: (None,), income_type_Student: (None,), income_type_Working: (None,), edu_type_Academic degree: (None,), edu_type_Higher education: (None,), edu_type_Incomplete higher: (None,), edu_type_Lower secondary: (None,), edu_type_Secondary / secondary special: (None,), family_type_Civil marriage: (None,), family_type_Married: (None,), family_type_Separated: (None,), family_type_Single / not married: (None,), family_type_Widow: (None,), house_type_Co-op apartment: (None,), house_type_House / apartment: (None,), house_type_Municipal apartment: (None,), house_type_Office apartment: (None,), house_type_Rented apartment: (None,), house_type_With parents: (None,), occyp_type_Accountants: (None,), occyp_type_Cleaning staff: (None,), occyp_type_Cooking staff: (None,), occyp_type_Core staff: (None,), occyp_type_Drivers: (None,), occyp_type_HR staff: (None,), occyp_type_High skill tech staff: (None,), occyp_type_IT staff: (None,), occyp_type_Laborers: (None,), occyp_type_Low-skill Laborers: (None,), occyp_type_Managers: (None,), occyp_type_Medicine staff: (None,), occyp_type_NAN: (None,), occyp_type_Private service staff: (None,), occyp_type_Realty agents: (None,), occyp_type_Sales staff: (None,), occyp_type_Secretaries: (None,), occyp_type_Security staff: (None,), occyp_type_Waiters/barmen staff: (None,)}, (None,)), types: ({child_num: tf.int64, income_total: tf.float64, DAYS_BIRTH: tf.int64, DAYS_EMPLOYED: tf.int64, FLAG_MOBIL: tf.int64, work_phone: tf.int64, phone: tf.int64, email: tf.int64, family_size: tf.float64, begin_month: tf.float64, gender_F: tf.float64, gender_M: tf.float64, car_N: tf.float64, car_Y: tf.float64, reality_N: tf.float64, reality_Y: tf.float64, income_type_Commercial associate: tf.float64, income_type_Pensioner: tf.float64, income_type_State servant: tf.float64, income_type_Student: tf.float64, income_type_Working: tf.float64, edu_type_Academic degree: tf.float64, edu_type_Higher education: tf.float64, edu_type_Incomplete higher: tf.float64, edu_type_Lower secondary: tf.float64, edu_type_Secondary / secondary special: tf.float64, family_type_Civil marriage: tf.float64, family_type_Married: tf.float64, family_type_Separated: tf.float64, family_type_Single / not married: tf.float64, family_type_Widow: tf.float64, house_type_Co-op apartment: tf.float64, house_type_House / apartment: tf.float64, house_type_Municipal apartment: tf.float64, house_type_Office apartment: tf.float64, house_type_Rented apartment: tf.float64, house_type_With parents: tf.float64, occyp_type_Accountants: tf.float64, occyp_type_Cleaning staff: tf.float64, occyp_type_Cooking staff: tf.float64, occyp_type_Core staff: tf.float64, occyp_type_Drivers: tf.float64, occyp_type_HR staff: tf.float64, occyp_type_High skill tech staff: tf.float64, occyp_type_IT staff: tf.float64, occyp_type_Laborers: tf.float64, occyp_type_Low-skill Laborers: tf.float64, occyp_type_Managers: tf.float64, occyp_type_Medicine staff: tf.float64, occyp_type_NAN: tf.float64, occyp_type_Private service staff: tf.float64, occyp_type_Realty agents: tf.float64, occyp_type_Sales staff: tf.float64, occyp_type_Secretaries: tf.float64, occyp_type_Security staff: tf.float64, occyp_type_Waiters/barmen staff: tf.float64}, tf.float64)>"
      ]
     },
     "execution_count": 54,
     "metadata": {},
     "output_type": "execute_result"
    }
   ],
   "source": [
    "train_ds"
   ]
  },
  {
   "cell_type": "code",
   "execution_count": 55,
   "id": "66c29fe9",
   "metadata": {},
   "outputs": [],
   "source": [
    "batch_size = 32 # 예제를 위해 작은 배치 크기를 사용합니다.\n",
    "train_ds = df_to_dataset(train, batch_size=batch_size)\n",
    "val_ds = df_to_dataset(val, shuffle=False, batch_size=batch_size)\n",
    "#feature_layer = tf.keras.layers.DenseFeatures(feature_columns)\n",
    "#test_ds = df_to_dataset(test, shuffle=False, batch_size=batch_size)"
   ]
  },
  {
   "cell_type": "code",
   "execution_count": 56,
   "id": "4bc50369",
   "metadata": {},
   "outputs": [
    {
     "name": "stdout",
     "output_type": "stream",
     "text": [
      "Epoch 1/5\n"
     ]
    },
    {
     "ename": "ValueError",
     "evalue": "in user code:\n\n    C:\\Users\\ssmin\\anaconda3\\lib\\site-packages\\tensorflow\\python\\keras\\engine\\training.py:806 train_function  *\n        return step_function(self, iterator)\n    C:\\Users\\ssmin\\anaconda3\\lib\\site-packages\\tensorflow\\python\\keras\\engine\\training.py:796 step_function  **\n        outputs = model.distribute_strategy.run(run_step, args=(data,))\n    C:\\Users\\ssmin\\anaconda3\\lib\\site-packages\\tensorflow\\python\\distribute\\distribute_lib.py:1211 run\n        return self._extended.call_for_each_replica(fn, args=args, kwargs=kwargs)\n    C:\\Users\\ssmin\\anaconda3\\lib\\site-packages\\tensorflow\\python\\distribute\\distribute_lib.py:2585 call_for_each_replica\n        return self._call_for_each_replica(fn, args, kwargs)\n    C:\\Users\\ssmin\\anaconda3\\lib\\site-packages\\tensorflow\\python\\distribute\\distribute_lib.py:2945 _call_for_each_replica\n        return fn(*args, **kwargs)\n    C:\\Users\\ssmin\\anaconda3\\lib\\site-packages\\tensorflow\\python\\keras\\engine\\training.py:789 run_step  **\n        outputs = model.train_step(data)\n    C:\\Users\\ssmin\\anaconda3\\lib\\site-packages\\tensorflow\\python\\keras\\engine\\training.py:747 train_step\n        y_pred = self(x, training=True)\n    C:\\Users\\ssmin\\anaconda3\\lib\\site-packages\\tensorflow\\python\\keras\\engine\\base_layer.py:976 __call__\n        self.name)\n    C:\\Users\\ssmin\\anaconda3\\lib\\site-packages\\tensorflow\\python\\keras\\engine\\input_spec.py:158 assert_input_compatibility\n        ' input tensors. Inputs received: ' + str(inputs))\n\n    ValueError: Layer sequential_2 expects 1 inputs, but it received 56 input tensors. Inputs received: [<tf.Tensor 'ExpandDims:0' shape=(None, 1) dtype=int64>, <tf.Tensor 'ExpandDims_1:0' shape=(None, 1) dtype=int64>, <tf.Tensor 'ExpandDims_2:0' shape=(None, 1) dtype=int64>, <tf.Tensor 'ExpandDims_3:0' shape=(None, 1) dtype=float64>, <tf.Tensor 'ExpandDims_4:0' shape=(None, 1) dtype=float64>, <tf.Tensor 'ExpandDims_5:0' shape=(None, 1) dtype=float64>, <tf.Tensor 'ExpandDims_6:0' shape=(None, 1) dtype=int64>, <tf.Tensor 'ExpandDims_7:0' shape=(None, 1) dtype=float64>, <tf.Tensor 'ExpandDims_8:0' shape=(None, 1) dtype=float64>, <tf.Tensor 'ExpandDims_9:0' shape=(None, 1) dtype=float64>, <tf.Tensor 'ExpandDims_10:0' shape=(None, 1) dtype=float64>, <tf.Tensor 'ExpandDims_11:0' shape=(None, 1) dtype=float64>, <tf.Tensor 'ExpandDims_12:0' shape=(None, 1) dtype=int64>, <tf.Tensor 'ExpandDims_13:0' shape=(None, 1) dtype=float64>, <tf.Tensor 'ExpandDims_14:0' shape=(None, 1) dtype=float64>, <tf.Tensor 'ExpandDims_15:0' shape=(None, 1) dtype=float64>, <tf.Tensor 'ExpandDims_16:0' shape=(None, 1) dtype=float64>, <tf.Tensor 'ExpandDims_17:0' shape=(None, 1) dtype=float64>, <tf.Tensor 'ExpandDims_18:0' shape=(None, 1) dtype=float64>, <tf.Tensor 'ExpandDims_19:0' shape=(None, 1) dtype=float64>, <tf.Tensor 'ExpandDims_20:0' shape=(None, 1) dtype=float64>, <tf.Tensor 'ExpandDims_21:0' shape=(None, 1) dtype=float64>, <tf.Tensor 'ExpandDims_22:0' shape=(None, 1) dtype=float64>, <tf.Tensor 'ExpandDims_23:0' shape=(None, 1) dtype=float64>, <tf.Tensor 'ExpandDims_24:0' shape=(None, 1) dtype=float64>, <tf.Tensor 'ExpandDims_25:0' shape=(None, 1) dtype=float64>, <tf.Tensor 'ExpandDims_26:0' shape=(None, 1) dtype=float64>, <tf.Tensor 'ExpandDims_27:0' shape=(None, 1) dtype=float64>, <tf.Tensor 'ExpandDims_28:0' shape=(None, 1) dtype=float64>, <tf.Tensor 'ExpandDims_29:0' shape=(None, 1) dtype=float64>, <tf.Tensor 'ExpandDims_30:0' shape=(None, 1) dtype=float64>, <tf.Tensor 'ExpandDims_31:0' shape=(None, 1) dtype=float64>, <tf.Tensor 'ExpandDims_32:0' shape=(None, 1) dtype=float64>, <tf.Tensor 'ExpandDims_33:0' shape=(None, 1) dtype=float64>, <tf.Tensor 'ExpandDims_34:0' shape=(None, 1) dtype=float64>, <tf.Tensor 'ExpandDims_35:0' shape=(None, 1) dtype=float64>, <tf.Tensor 'ExpandDims_36:0' shape=(None, 1) dtype=float64>, <tf.Tensor 'ExpandDims_37:0' shape=(None, 1) dtype=float64>, <tf.Tensor 'ExpandDims_38:0' shape=(None, 1) dtype=float64>, <tf.Tensor 'ExpandDims_39:0' shape=(None, 1) dtype=float64>, <tf.Tensor 'ExpandDims_40:0' shape=(None, 1) dtype=float64>, <tf.Tensor 'ExpandDims_41:0' shape=(None, 1) dtype=float64>, <tf.Tensor 'ExpandDims_42:0' shape=(None, 1) dtype=float64>, <tf.Tensor 'ExpandDims_43:0' shape=(None, 1) dtype=float64>, <tf.Tensor 'ExpandDims_44:0' shape=(None, 1) dtype=float64>, <tf.Tensor 'ExpandDims_45:0' shape=(None, 1) dtype=float64>, <tf.Tensor 'ExpandDims_46:0' shape=(None, 1) dtype=float64>, <tf.Tensor 'ExpandDims_47:0' shape=(None, 1) dtype=float64>, <tf.Tensor 'ExpandDims_48:0' shape=(None, 1) dtype=float64>, <tf.Tensor 'ExpandDims_49:0' shape=(None, 1) dtype=float64>, <tf.Tensor 'ExpandDims_50:0' shape=(None, 1) dtype=float64>, <tf.Tensor 'ExpandDims_51:0' shape=(None, 1) dtype=float64>, <tf.Tensor 'ExpandDims_52:0' shape=(None, 1) dtype=int64>, <tf.Tensor 'ExpandDims_53:0' shape=(None, 1) dtype=float64>, <tf.Tensor 'ExpandDims_54:0' shape=(None, 1) dtype=float64>, <tf.Tensor 'ExpandDims_55:0' shape=(None, 1) dtype=int64>]\n",
     "output_type": "error",
     "traceback": [
      "\u001b[1;31m---------------------------------------------------------------------------\u001b[0m",
      "\u001b[1;31mValueError\u001b[0m                                Traceback (most recent call last)",
      "\u001b[1;32m<ipython-input-56-5f0b13c48ff7>\u001b[0m in \u001b[0;36m<module>\u001b[1;34m\u001b[0m\n\u001b[0;32m     11\u001b[0m model.fit(train_ds,\n\u001b[0;32m     12\u001b[0m           \u001b[0mvalidation_data\u001b[0m\u001b[1;33m=\u001b[0m\u001b[0mval_ds\u001b[0m\u001b[1;33m,\u001b[0m\u001b[1;33m\u001b[0m\u001b[1;33m\u001b[0m\u001b[0m\n\u001b[1;32m---> 13\u001b[1;33m           epochs=5)\n\u001b[0m",
      "\u001b[1;32m~\\anaconda3\\lib\\site-packages\\tensorflow\\python\\keras\\engine\\training.py\u001b[0m in \u001b[0;36m_method_wrapper\u001b[1;34m(self, *args, **kwargs)\u001b[0m\n\u001b[0;32m    106\u001b[0m   \u001b[1;32mdef\u001b[0m \u001b[0m_method_wrapper\u001b[0m\u001b[1;33m(\u001b[0m\u001b[0mself\u001b[0m\u001b[1;33m,\u001b[0m \u001b[1;33m*\u001b[0m\u001b[0margs\u001b[0m\u001b[1;33m,\u001b[0m \u001b[1;33m**\u001b[0m\u001b[0mkwargs\u001b[0m\u001b[1;33m)\u001b[0m\u001b[1;33m:\u001b[0m\u001b[1;33m\u001b[0m\u001b[1;33m\u001b[0m\u001b[0m\n\u001b[0;32m    107\u001b[0m     \u001b[1;32mif\u001b[0m \u001b[1;32mnot\u001b[0m \u001b[0mself\u001b[0m\u001b[1;33m.\u001b[0m\u001b[0m_in_multi_worker_mode\u001b[0m\u001b[1;33m(\u001b[0m\u001b[1;33m)\u001b[0m\u001b[1;33m:\u001b[0m  \u001b[1;31m# pylint: disable=protected-access\u001b[0m\u001b[1;33m\u001b[0m\u001b[1;33m\u001b[0m\u001b[0m\n\u001b[1;32m--> 108\u001b[1;33m       \u001b[1;32mreturn\u001b[0m \u001b[0mmethod\u001b[0m\u001b[1;33m(\u001b[0m\u001b[0mself\u001b[0m\u001b[1;33m,\u001b[0m \u001b[1;33m*\u001b[0m\u001b[0margs\u001b[0m\u001b[1;33m,\u001b[0m \u001b[1;33m**\u001b[0m\u001b[0mkwargs\u001b[0m\u001b[1;33m)\u001b[0m\u001b[1;33m\u001b[0m\u001b[1;33m\u001b[0m\u001b[0m\n\u001b[0m\u001b[0;32m    109\u001b[0m \u001b[1;33m\u001b[0m\u001b[0m\n\u001b[0;32m    110\u001b[0m     \u001b[1;31m# Running inside `run_distribute_coordinator` already.\u001b[0m\u001b[1;33m\u001b[0m\u001b[1;33m\u001b[0m\u001b[1;33m\u001b[0m\u001b[0m\n",
      "\u001b[1;32m~\\anaconda3\\lib\\site-packages\\tensorflow\\python\\keras\\engine\\training.py\u001b[0m in \u001b[0;36mfit\u001b[1;34m(self, x, y, batch_size, epochs, verbose, callbacks, validation_split, validation_data, shuffle, class_weight, sample_weight, initial_epoch, steps_per_epoch, validation_steps, validation_batch_size, validation_freq, max_queue_size, workers, use_multiprocessing)\u001b[0m\n\u001b[0;32m   1096\u001b[0m                 batch_size=batch_size):\n\u001b[0;32m   1097\u001b[0m               \u001b[0mcallbacks\u001b[0m\u001b[1;33m.\u001b[0m\u001b[0mon_train_batch_begin\u001b[0m\u001b[1;33m(\u001b[0m\u001b[0mstep\u001b[0m\u001b[1;33m)\u001b[0m\u001b[1;33m\u001b[0m\u001b[1;33m\u001b[0m\u001b[0m\n\u001b[1;32m-> 1098\u001b[1;33m               \u001b[0mtmp_logs\u001b[0m \u001b[1;33m=\u001b[0m \u001b[0mtrain_function\u001b[0m\u001b[1;33m(\u001b[0m\u001b[0miterator\u001b[0m\u001b[1;33m)\u001b[0m\u001b[1;33m\u001b[0m\u001b[1;33m\u001b[0m\u001b[0m\n\u001b[0m\u001b[0;32m   1099\u001b[0m               \u001b[1;32mif\u001b[0m \u001b[0mdata_handler\u001b[0m\u001b[1;33m.\u001b[0m\u001b[0mshould_sync\u001b[0m\u001b[1;33m:\u001b[0m\u001b[1;33m\u001b[0m\u001b[1;33m\u001b[0m\u001b[0m\n\u001b[0;32m   1100\u001b[0m                 \u001b[0mcontext\u001b[0m\u001b[1;33m.\u001b[0m\u001b[0masync_wait\u001b[0m\u001b[1;33m(\u001b[0m\u001b[1;33m)\u001b[0m\u001b[1;33m\u001b[0m\u001b[1;33m\u001b[0m\u001b[0m\n",
      "\u001b[1;32m~\\anaconda3\\lib\\site-packages\\tensorflow\\python\\eager\\def_function.py\u001b[0m in \u001b[0;36m__call__\u001b[1;34m(self, *args, **kwds)\u001b[0m\n\u001b[0;32m    778\u001b[0m       \u001b[1;32melse\u001b[0m\u001b[1;33m:\u001b[0m\u001b[1;33m\u001b[0m\u001b[1;33m\u001b[0m\u001b[0m\n\u001b[0;32m    779\u001b[0m         \u001b[0mcompiler\u001b[0m \u001b[1;33m=\u001b[0m \u001b[1;34m\"nonXla\"\u001b[0m\u001b[1;33m\u001b[0m\u001b[1;33m\u001b[0m\u001b[0m\n\u001b[1;32m--> 780\u001b[1;33m         \u001b[0mresult\u001b[0m \u001b[1;33m=\u001b[0m \u001b[0mself\u001b[0m\u001b[1;33m.\u001b[0m\u001b[0m_call\u001b[0m\u001b[1;33m(\u001b[0m\u001b[1;33m*\u001b[0m\u001b[0margs\u001b[0m\u001b[1;33m,\u001b[0m \u001b[1;33m**\u001b[0m\u001b[0mkwds\u001b[0m\u001b[1;33m)\u001b[0m\u001b[1;33m\u001b[0m\u001b[1;33m\u001b[0m\u001b[0m\n\u001b[0m\u001b[0;32m    781\u001b[0m \u001b[1;33m\u001b[0m\u001b[0m\n\u001b[0;32m    782\u001b[0m       \u001b[0mnew_tracing_count\u001b[0m \u001b[1;33m=\u001b[0m \u001b[0mself\u001b[0m\u001b[1;33m.\u001b[0m\u001b[0m_get_tracing_count\u001b[0m\u001b[1;33m(\u001b[0m\u001b[1;33m)\u001b[0m\u001b[1;33m\u001b[0m\u001b[1;33m\u001b[0m\u001b[0m\n",
      "\u001b[1;32m~\\anaconda3\\lib\\site-packages\\tensorflow\\python\\eager\\def_function.py\u001b[0m in \u001b[0;36m_call\u001b[1;34m(self, *args, **kwds)\u001b[0m\n\u001b[0;32m    821\u001b[0m       \u001b[1;31m# This is the first call of __call__, so we have to initialize.\u001b[0m\u001b[1;33m\u001b[0m\u001b[1;33m\u001b[0m\u001b[1;33m\u001b[0m\u001b[0m\n\u001b[0;32m    822\u001b[0m       \u001b[0minitializers\u001b[0m \u001b[1;33m=\u001b[0m \u001b[1;33m[\u001b[0m\u001b[1;33m]\u001b[0m\u001b[1;33m\u001b[0m\u001b[1;33m\u001b[0m\u001b[0m\n\u001b[1;32m--> 823\u001b[1;33m       \u001b[0mself\u001b[0m\u001b[1;33m.\u001b[0m\u001b[0m_initialize\u001b[0m\u001b[1;33m(\u001b[0m\u001b[0margs\u001b[0m\u001b[1;33m,\u001b[0m \u001b[0mkwds\u001b[0m\u001b[1;33m,\u001b[0m \u001b[0madd_initializers_to\u001b[0m\u001b[1;33m=\u001b[0m\u001b[0minitializers\u001b[0m\u001b[1;33m)\u001b[0m\u001b[1;33m\u001b[0m\u001b[1;33m\u001b[0m\u001b[0m\n\u001b[0m\u001b[0;32m    824\u001b[0m     \u001b[1;32mfinally\u001b[0m\u001b[1;33m:\u001b[0m\u001b[1;33m\u001b[0m\u001b[1;33m\u001b[0m\u001b[0m\n\u001b[0;32m    825\u001b[0m       \u001b[1;31m# At this point we know that the initialization is complete (or less\u001b[0m\u001b[1;33m\u001b[0m\u001b[1;33m\u001b[0m\u001b[1;33m\u001b[0m\u001b[0m\n",
      "\u001b[1;32m~\\anaconda3\\lib\\site-packages\\tensorflow\\python\\eager\\def_function.py\u001b[0m in \u001b[0;36m_initialize\u001b[1;34m(self, args, kwds, add_initializers_to)\u001b[0m\n\u001b[0;32m    695\u001b[0m     self._concrete_stateful_fn = (\n\u001b[0;32m    696\u001b[0m         self._stateful_fn._get_concrete_function_internal_garbage_collected(  # pylint: disable=protected-access\n\u001b[1;32m--> 697\u001b[1;33m             *args, **kwds))\n\u001b[0m\u001b[0;32m    698\u001b[0m \u001b[1;33m\u001b[0m\u001b[0m\n\u001b[0;32m    699\u001b[0m     \u001b[1;32mdef\u001b[0m \u001b[0minvalid_creator_scope\u001b[0m\u001b[1;33m(\u001b[0m\u001b[1;33m*\u001b[0m\u001b[0munused_args\u001b[0m\u001b[1;33m,\u001b[0m \u001b[1;33m**\u001b[0m\u001b[0munused_kwds\u001b[0m\u001b[1;33m)\u001b[0m\u001b[1;33m:\u001b[0m\u001b[1;33m\u001b[0m\u001b[1;33m\u001b[0m\u001b[0m\n",
      "\u001b[1;32m~\\anaconda3\\lib\\site-packages\\tensorflow\\python\\eager\\function.py\u001b[0m in \u001b[0;36m_get_concrete_function_internal_garbage_collected\u001b[1;34m(self, *args, **kwargs)\u001b[0m\n\u001b[0;32m   2853\u001b[0m       \u001b[0margs\u001b[0m\u001b[1;33m,\u001b[0m \u001b[0mkwargs\u001b[0m \u001b[1;33m=\u001b[0m \u001b[1;32mNone\u001b[0m\u001b[1;33m,\u001b[0m \u001b[1;32mNone\u001b[0m\u001b[1;33m\u001b[0m\u001b[1;33m\u001b[0m\u001b[0m\n\u001b[0;32m   2854\u001b[0m     \u001b[1;32mwith\u001b[0m \u001b[0mself\u001b[0m\u001b[1;33m.\u001b[0m\u001b[0m_lock\u001b[0m\u001b[1;33m:\u001b[0m\u001b[1;33m\u001b[0m\u001b[1;33m\u001b[0m\u001b[0m\n\u001b[1;32m-> 2855\u001b[1;33m       \u001b[0mgraph_function\u001b[0m\u001b[1;33m,\u001b[0m \u001b[0m_\u001b[0m\u001b[1;33m,\u001b[0m \u001b[0m_\u001b[0m \u001b[1;33m=\u001b[0m \u001b[0mself\u001b[0m\u001b[1;33m.\u001b[0m\u001b[0m_maybe_define_function\u001b[0m\u001b[1;33m(\u001b[0m\u001b[0margs\u001b[0m\u001b[1;33m,\u001b[0m \u001b[0mkwargs\u001b[0m\u001b[1;33m)\u001b[0m\u001b[1;33m\u001b[0m\u001b[1;33m\u001b[0m\u001b[0m\n\u001b[0m\u001b[0;32m   2856\u001b[0m     \u001b[1;32mreturn\u001b[0m \u001b[0mgraph_function\u001b[0m\u001b[1;33m\u001b[0m\u001b[1;33m\u001b[0m\u001b[0m\n\u001b[0;32m   2857\u001b[0m \u001b[1;33m\u001b[0m\u001b[0m\n",
      "\u001b[1;32m~\\anaconda3\\lib\\site-packages\\tensorflow\\python\\eager\\function.py\u001b[0m in \u001b[0;36m_maybe_define_function\u001b[1;34m(self, args, kwargs)\u001b[0m\n\u001b[0;32m   3211\u001b[0m \u001b[1;33m\u001b[0m\u001b[0m\n\u001b[0;32m   3212\u001b[0m       \u001b[0mself\u001b[0m\u001b[1;33m.\u001b[0m\u001b[0m_function_cache\u001b[0m\u001b[1;33m.\u001b[0m\u001b[0mmissed\u001b[0m\u001b[1;33m.\u001b[0m\u001b[0madd\u001b[0m\u001b[1;33m(\u001b[0m\u001b[0mcall_context_key\u001b[0m\u001b[1;33m)\u001b[0m\u001b[1;33m\u001b[0m\u001b[1;33m\u001b[0m\u001b[0m\n\u001b[1;32m-> 3213\u001b[1;33m       \u001b[0mgraph_function\u001b[0m \u001b[1;33m=\u001b[0m \u001b[0mself\u001b[0m\u001b[1;33m.\u001b[0m\u001b[0m_create_graph_function\u001b[0m\u001b[1;33m(\u001b[0m\u001b[0margs\u001b[0m\u001b[1;33m,\u001b[0m \u001b[0mkwargs\u001b[0m\u001b[1;33m)\u001b[0m\u001b[1;33m\u001b[0m\u001b[1;33m\u001b[0m\u001b[0m\n\u001b[0m\u001b[0;32m   3214\u001b[0m       \u001b[0mself\u001b[0m\u001b[1;33m.\u001b[0m\u001b[0m_function_cache\u001b[0m\u001b[1;33m.\u001b[0m\u001b[0mprimary\u001b[0m\u001b[1;33m[\u001b[0m\u001b[0mcache_key\u001b[0m\u001b[1;33m]\u001b[0m \u001b[1;33m=\u001b[0m \u001b[0mgraph_function\u001b[0m\u001b[1;33m\u001b[0m\u001b[1;33m\u001b[0m\u001b[0m\n\u001b[0;32m   3215\u001b[0m       \u001b[1;32mreturn\u001b[0m \u001b[0mgraph_function\u001b[0m\u001b[1;33m,\u001b[0m \u001b[0margs\u001b[0m\u001b[1;33m,\u001b[0m \u001b[0mkwargs\u001b[0m\u001b[1;33m\u001b[0m\u001b[1;33m\u001b[0m\u001b[0m\n",
      "\u001b[1;32m~\\anaconda3\\lib\\site-packages\\tensorflow\\python\\eager\\function.py\u001b[0m in \u001b[0;36m_create_graph_function\u001b[1;34m(self, args, kwargs, override_flat_arg_shapes)\u001b[0m\n\u001b[0;32m   3073\u001b[0m             \u001b[0marg_names\u001b[0m\u001b[1;33m=\u001b[0m\u001b[0marg_names\u001b[0m\u001b[1;33m,\u001b[0m\u001b[1;33m\u001b[0m\u001b[1;33m\u001b[0m\u001b[0m\n\u001b[0;32m   3074\u001b[0m             \u001b[0moverride_flat_arg_shapes\u001b[0m\u001b[1;33m=\u001b[0m\u001b[0moverride_flat_arg_shapes\u001b[0m\u001b[1;33m,\u001b[0m\u001b[1;33m\u001b[0m\u001b[1;33m\u001b[0m\u001b[0m\n\u001b[1;32m-> 3075\u001b[1;33m             capture_by_value=self._capture_by_value),\n\u001b[0m\u001b[0;32m   3076\u001b[0m         \u001b[0mself\u001b[0m\u001b[1;33m.\u001b[0m\u001b[0m_function_attributes\u001b[0m\u001b[1;33m,\u001b[0m\u001b[1;33m\u001b[0m\u001b[1;33m\u001b[0m\u001b[0m\n\u001b[0;32m   3077\u001b[0m         \u001b[0mfunction_spec\u001b[0m\u001b[1;33m=\u001b[0m\u001b[0mself\u001b[0m\u001b[1;33m.\u001b[0m\u001b[0mfunction_spec\u001b[0m\u001b[1;33m,\u001b[0m\u001b[1;33m\u001b[0m\u001b[1;33m\u001b[0m\u001b[0m\n",
      "\u001b[1;32m~\\anaconda3\\lib\\site-packages\\tensorflow\\python\\framework\\func_graph.py\u001b[0m in \u001b[0;36mfunc_graph_from_py_func\u001b[1;34m(name, python_func, args, kwargs, signature, func_graph, autograph, autograph_options, add_control_dependencies, arg_names, op_return_value, collections, capture_by_value, override_flat_arg_shapes)\u001b[0m\n\u001b[0;32m    984\u001b[0m         \u001b[0m_\u001b[0m\u001b[1;33m,\u001b[0m \u001b[0moriginal_func\u001b[0m \u001b[1;33m=\u001b[0m \u001b[0mtf_decorator\u001b[0m\u001b[1;33m.\u001b[0m\u001b[0munwrap\u001b[0m\u001b[1;33m(\u001b[0m\u001b[0mpython_func\u001b[0m\u001b[1;33m)\u001b[0m\u001b[1;33m\u001b[0m\u001b[1;33m\u001b[0m\u001b[0m\n\u001b[0;32m    985\u001b[0m \u001b[1;33m\u001b[0m\u001b[0m\n\u001b[1;32m--> 986\u001b[1;33m       \u001b[0mfunc_outputs\u001b[0m \u001b[1;33m=\u001b[0m \u001b[0mpython_func\u001b[0m\u001b[1;33m(\u001b[0m\u001b[1;33m*\u001b[0m\u001b[0mfunc_args\u001b[0m\u001b[1;33m,\u001b[0m \u001b[1;33m**\u001b[0m\u001b[0mfunc_kwargs\u001b[0m\u001b[1;33m)\u001b[0m\u001b[1;33m\u001b[0m\u001b[1;33m\u001b[0m\u001b[0m\n\u001b[0m\u001b[0;32m    987\u001b[0m \u001b[1;33m\u001b[0m\u001b[0m\n\u001b[0;32m    988\u001b[0m       \u001b[1;31m# invariant: `func_outputs` contains only Tensors, CompositeTensors,\u001b[0m\u001b[1;33m\u001b[0m\u001b[1;33m\u001b[0m\u001b[1;33m\u001b[0m\u001b[0m\n",
      "\u001b[1;32m~\\anaconda3\\lib\\site-packages\\tensorflow\\python\\eager\\def_function.py\u001b[0m in \u001b[0;36mwrapped_fn\u001b[1;34m(*args, **kwds)\u001b[0m\n\u001b[0;32m    598\u001b[0m         \u001b[1;31m# __wrapped__ allows AutoGraph to swap in a converted function. We give\u001b[0m\u001b[1;33m\u001b[0m\u001b[1;33m\u001b[0m\u001b[1;33m\u001b[0m\u001b[0m\n\u001b[0;32m    599\u001b[0m         \u001b[1;31m# the function a weak reference to itself to avoid a reference cycle.\u001b[0m\u001b[1;33m\u001b[0m\u001b[1;33m\u001b[0m\u001b[1;33m\u001b[0m\u001b[0m\n\u001b[1;32m--> 600\u001b[1;33m         \u001b[1;32mreturn\u001b[0m \u001b[0mweak_wrapped_fn\u001b[0m\u001b[1;33m(\u001b[0m\u001b[1;33m)\u001b[0m\u001b[1;33m.\u001b[0m\u001b[0m__wrapped__\u001b[0m\u001b[1;33m(\u001b[0m\u001b[1;33m*\u001b[0m\u001b[0margs\u001b[0m\u001b[1;33m,\u001b[0m \u001b[1;33m**\u001b[0m\u001b[0mkwds\u001b[0m\u001b[1;33m)\u001b[0m\u001b[1;33m\u001b[0m\u001b[1;33m\u001b[0m\u001b[0m\n\u001b[0m\u001b[0;32m    601\u001b[0m     \u001b[0mweak_wrapped_fn\u001b[0m \u001b[1;33m=\u001b[0m \u001b[0mweakref\u001b[0m\u001b[1;33m.\u001b[0m\u001b[0mref\u001b[0m\u001b[1;33m(\u001b[0m\u001b[0mwrapped_fn\u001b[0m\u001b[1;33m)\u001b[0m\u001b[1;33m\u001b[0m\u001b[1;33m\u001b[0m\u001b[0m\n\u001b[0;32m    602\u001b[0m \u001b[1;33m\u001b[0m\u001b[0m\n",
      "\u001b[1;32m~\\anaconda3\\lib\\site-packages\\tensorflow\\python\\framework\\func_graph.py\u001b[0m in \u001b[0;36mwrapper\u001b[1;34m(*args, **kwargs)\u001b[0m\n\u001b[0;32m    971\u001b[0m           \u001b[1;32mexcept\u001b[0m \u001b[0mException\u001b[0m \u001b[1;32mas\u001b[0m \u001b[0me\u001b[0m\u001b[1;33m:\u001b[0m  \u001b[1;31m# pylint:disable=broad-except\u001b[0m\u001b[1;33m\u001b[0m\u001b[1;33m\u001b[0m\u001b[0m\n\u001b[0;32m    972\u001b[0m             \u001b[1;32mif\u001b[0m \u001b[0mhasattr\u001b[0m\u001b[1;33m(\u001b[0m\u001b[0me\u001b[0m\u001b[1;33m,\u001b[0m \u001b[1;34m\"ag_error_metadata\"\u001b[0m\u001b[1;33m)\u001b[0m\u001b[1;33m:\u001b[0m\u001b[1;33m\u001b[0m\u001b[1;33m\u001b[0m\u001b[0m\n\u001b[1;32m--> 973\u001b[1;33m               \u001b[1;32mraise\u001b[0m \u001b[0me\u001b[0m\u001b[1;33m.\u001b[0m\u001b[0mag_error_metadata\u001b[0m\u001b[1;33m.\u001b[0m\u001b[0mto_exception\u001b[0m\u001b[1;33m(\u001b[0m\u001b[0me\u001b[0m\u001b[1;33m)\u001b[0m\u001b[1;33m\u001b[0m\u001b[1;33m\u001b[0m\u001b[0m\n\u001b[0m\u001b[0;32m    974\u001b[0m             \u001b[1;32melse\u001b[0m\u001b[1;33m:\u001b[0m\u001b[1;33m\u001b[0m\u001b[1;33m\u001b[0m\u001b[0m\n\u001b[0;32m    975\u001b[0m               \u001b[1;32mraise\u001b[0m\u001b[1;33m\u001b[0m\u001b[1;33m\u001b[0m\u001b[0m\n",
      "\u001b[1;31mValueError\u001b[0m: in user code:\n\n    C:\\Users\\ssmin\\anaconda3\\lib\\site-packages\\tensorflow\\python\\keras\\engine\\training.py:806 train_function  *\n        return step_function(self, iterator)\n    C:\\Users\\ssmin\\anaconda3\\lib\\site-packages\\tensorflow\\python\\keras\\engine\\training.py:796 step_function  **\n        outputs = model.distribute_strategy.run(run_step, args=(data,))\n    C:\\Users\\ssmin\\anaconda3\\lib\\site-packages\\tensorflow\\python\\distribute\\distribute_lib.py:1211 run\n        return self._extended.call_for_each_replica(fn, args=args, kwargs=kwargs)\n    C:\\Users\\ssmin\\anaconda3\\lib\\site-packages\\tensorflow\\python\\distribute\\distribute_lib.py:2585 call_for_each_replica\n        return self._call_for_each_replica(fn, args, kwargs)\n    C:\\Users\\ssmin\\anaconda3\\lib\\site-packages\\tensorflow\\python\\distribute\\distribute_lib.py:2945 _call_for_each_replica\n        return fn(*args, **kwargs)\n    C:\\Users\\ssmin\\anaconda3\\lib\\site-packages\\tensorflow\\python\\keras\\engine\\training.py:789 run_step  **\n        outputs = model.train_step(data)\n    C:\\Users\\ssmin\\anaconda3\\lib\\site-packages\\tensorflow\\python\\keras\\engine\\training.py:747 train_step\n        y_pred = self(x, training=True)\n    C:\\Users\\ssmin\\anaconda3\\lib\\site-packages\\tensorflow\\python\\keras\\engine\\base_layer.py:976 __call__\n        self.name)\n    C:\\Users\\ssmin\\anaconda3\\lib\\site-packages\\tensorflow\\python\\keras\\engine\\input_spec.py:158 assert_input_compatibility\n        ' input tensors. Inputs received: ' + str(inputs))\n\n    ValueError: Layer sequential_2 expects 1 inputs, but it received 56 input tensors. Inputs received: [<tf.Tensor 'ExpandDims:0' shape=(None, 1) dtype=int64>, <tf.Tensor 'ExpandDims_1:0' shape=(None, 1) dtype=int64>, <tf.Tensor 'ExpandDims_2:0' shape=(None, 1) dtype=int64>, <tf.Tensor 'ExpandDims_3:0' shape=(None, 1) dtype=float64>, <tf.Tensor 'ExpandDims_4:0' shape=(None, 1) dtype=float64>, <tf.Tensor 'ExpandDims_5:0' shape=(None, 1) dtype=float64>, <tf.Tensor 'ExpandDims_6:0' shape=(None, 1) dtype=int64>, <tf.Tensor 'ExpandDims_7:0' shape=(None, 1) dtype=float64>, <tf.Tensor 'ExpandDims_8:0' shape=(None, 1) dtype=float64>, <tf.Tensor 'ExpandDims_9:0' shape=(None, 1) dtype=float64>, <tf.Tensor 'ExpandDims_10:0' shape=(None, 1) dtype=float64>, <tf.Tensor 'ExpandDims_11:0' shape=(None, 1) dtype=float64>, <tf.Tensor 'ExpandDims_12:0' shape=(None, 1) dtype=int64>, <tf.Tensor 'ExpandDims_13:0' shape=(None, 1) dtype=float64>, <tf.Tensor 'ExpandDims_14:0' shape=(None, 1) dtype=float64>, <tf.Tensor 'ExpandDims_15:0' shape=(None, 1) dtype=float64>, <tf.Tensor 'ExpandDims_16:0' shape=(None, 1) dtype=float64>, <tf.Tensor 'ExpandDims_17:0' shape=(None, 1) dtype=float64>, <tf.Tensor 'ExpandDims_18:0' shape=(None, 1) dtype=float64>, <tf.Tensor 'ExpandDims_19:0' shape=(None, 1) dtype=float64>, <tf.Tensor 'ExpandDims_20:0' shape=(None, 1) dtype=float64>, <tf.Tensor 'ExpandDims_21:0' shape=(None, 1) dtype=float64>, <tf.Tensor 'ExpandDims_22:0' shape=(None, 1) dtype=float64>, <tf.Tensor 'ExpandDims_23:0' shape=(None, 1) dtype=float64>, <tf.Tensor 'ExpandDims_24:0' shape=(None, 1) dtype=float64>, <tf.Tensor 'ExpandDims_25:0' shape=(None, 1) dtype=float64>, <tf.Tensor 'ExpandDims_26:0' shape=(None, 1) dtype=float64>, <tf.Tensor 'ExpandDims_27:0' shape=(None, 1) dtype=float64>, <tf.Tensor 'ExpandDims_28:0' shape=(None, 1) dtype=float64>, <tf.Tensor 'ExpandDims_29:0' shape=(None, 1) dtype=float64>, <tf.Tensor 'ExpandDims_30:0' shape=(None, 1) dtype=float64>, <tf.Tensor 'ExpandDims_31:0' shape=(None, 1) dtype=float64>, <tf.Tensor 'ExpandDims_32:0' shape=(None, 1) dtype=float64>, <tf.Tensor 'ExpandDims_33:0' shape=(None, 1) dtype=float64>, <tf.Tensor 'ExpandDims_34:0' shape=(None, 1) dtype=float64>, <tf.Tensor 'ExpandDims_35:0' shape=(None, 1) dtype=float64>, <tf.Tensor 'ExpandDims_36:0' shape=(None, 1) dtype=float64>, <tf.Tensor 'ExpandDims_37:0' shape=(None, 1) dtype=float64>, <tf.Tensor 'ExpandDims_38:0' shape=(None, 1) dtype=float64>, <tf.Tensor 'ExpandDims_39:0' shape=(None, 1) dtype=float64>, <tf.Tensor 'ExpandDims_40:0' shape=(None, 1) dtype=float64>, <tf.Tensor 'ExpandDims_41:0' shape=(None, 1) dtype=float64>, <tf.Tensor 'ExpandDims_42:0' shape=(None, 1) dtype=float64>, <tf.Tensor 'ExpandDims_43:0' shape=(None, 1) dtype=float64>, <tf.Tensor 'ExpandDims_44:0' shape=(None, 1) dtype=float64>, <tf.Tensor 'ExpandDims_45:0' shape=(None, 1) dtype=float64>, <tf.Tensor 'ExpandDims_46:0' shape=(None, 1) dtype=float64>, <tf.Tensor 'ExpandDims_47:0' shape=(None, 1) dtype=float64>, <tf.Tensor 'ExpandDims_48:0' shape=(None, 1) dtype=float64>, <tf.Tensor 'ExpandDims_49:0' shape=(None, 1) dtype=float64>, <tf.Tensor 'ExpandDims_50:0' shape=(None, 1) dtype=float64>, <tf.Tensor 'ExpandDims_51:0' shape=(None, 1) dtype=float64>, <tf.Tensor 'ExpandDims_52:0' shape=(None, 1) dtype=int64>, <tf.Tensor 'ExpandDims_53:0' shape=(None, 1) dtype=float64>, <tf.Tensor 'ExpandDims_54:0' shape=(None, 1) dtype=float64>, <tf.Tensor 'ExpandDims_55:0' shape=(None, 1) dtype=int64>]\n"
     ]
    }
   ],
   "source": [
    "model = tf.keras.Sequential([\n",
    "  layers.Dense(56, activation='relu'),\n",
    "  layers.Dense(112, activation='relu'),\n",
    "  layers.Dense(3, activation='sigmoid')\n",
    "])\n",
    "\n",
    "model.compile(optimizer='adam',\n",
    "              loss='binary_crossentropy',\n",
    "              metrics=['accuracy'])\n",
    "\n",
    "model.fit(train_ds,\n",
    "          validation_data=val_ds,\n",
    "          epochs=5)"
   ]
  },
  {
   "cell_type": "code",
   "execution_count": null,
   "id": "0aaa186c",
   "metadata": {},
   "outputs": [],
   "source": []
  }
 ],
 "metadata": {
  "kernelspec": {
   "display_name": "Python 3",
   "language": "python",
   "name": "python3"
  },
  "language_info": {
   "codemirror_mode": {
    "name": "ipython",
    "version": 3
   },
   "file_extension": ".py",
   "mimetype": "text/x-python",
   "name": "python",
   "nbconvert_exporter": "python",
   "pygments_lexer": "ipython3",
   "version": "3.7.10"
  }
 },
 "nbformat": 4,
 "nbformat_minor": 5
}
