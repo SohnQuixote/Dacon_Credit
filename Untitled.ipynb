{
 "cells": [
  {
   "cell_type": "code",
   "execution_count": 1,
   "id": "0b0cc361",
   "metadata": {},
   "outputs": [],
   "source": [
    "#import tensorflow.compat.v1 as tf\n",
    "#tf.disable_v2_behavior()\n",
    "import tensorflow as tf\n",
    "import _pickle as cPickle\n",
    "import matplotlib.pyplot as plt\n",
    "import warnings\n",
    "warnings.filterwarnings('ignore')\n",
    "import glob\n",
    "import pandas as pd\n",
    "import numpy as np\n",
    "from lightgbm import LGBMClassifier\n",
    "from sklearn.model_selection import StratifiedKFold\n",
    "from sklearn.preprocessing import OneHotEncoder\n",
    "from sklearn.feature_selection import mutual_info_regression\n",
    "import random\n",
    "import platform\n",
    "import matplotlib.pyplot as plt\n",
    "import seaborn as sns\n",
    "from sklearn.model_selection import cross_val_score\n",
    "from sklearn.tree import DecisionTreeClassifier\n",
    "from sklearn.neural_network import MLPClassifier\n",
    "from sklearn.datasets import make_classification\n",
    "from sklearn.model_selection import train_test_split\n",
    "from matplotlib import font_manager , rc\n",
    "plt.rcParams['axes.unicode_minus'] = False\n",
    "\n",
    "if platform.system() == 'Windows' :\n",
    "    path = \"c:/Windows/Fonts/malgun.ttf\"\n",
    "    font_name = font_manager.FontProperties(fname = path).get_name()\n",
    "    rc('font' , family = font_name)"
   ]
  },
  {
   "cell_type": "code",
   "execution_count": 2,
   "id": "81d4bbac",
   "metadata": {},
   "outputs": [],
   "source": [
    "np.random.seed(123)\n",
    "tf.random.set_seed(123)\n",
    "learning_rate = 0.15\n",
    "fw = tf.keras.initializers.truncated_normal()\n",
    "fb = tf.keras.initializers.truncated_normal()"
   ]
  },
  {
   "cell_type": "code",
   "execution_count": 3,
   "id": "104885bc",
   "metadata": {},
   "outputs": [],
   "source": [
    "np.random.seed(123)\n",
    "tf.random.set_seed(123)"
   ]
  },
  {
   "cell_type": "code",
   "execution_count": 4,
   "id": "44ddacdd",
   "metadata": {},
   "outputs": [],
   "source": [
    "train = pd.read_csv('dataset/train.csv')\n",
    "train = train.drop(['index'], axis=1)\n",
    "train.fillna('NAN', inplace=True) \n",
    "\n",
    "X = train.copy()\n",
    "\"\"\"credit = X.pop(\"credit\")\n",
    "discrete_features = X.dtypes == float\"\"\"\n",
    "test = pd.read_csv('dataset/test.csv')\n",
    "test = test.drop(['index'], axis=1)\n",
    "test.fillna('NAN', inplace=True)\n",
    "\n",
    "submit = pd.read_csv('dataset/sample_submission.csv')\n",
    "def make_mi_scores(X, y, discrete_features):\n",
    "    mi_scores = mutual_info_regression(X, y, discrete_features=discrete_features)\n",
    "    mi_scores = pd.Series(mi_scores, name=\"MI Scores\", index=X.columns)\n",
    "    mi_scores = mi_scores.sort_values(ascending=False)\n",
    "    return mi_scores \n",
    "Y = test.copy()"
   ]
  },
  {
   "cell_type": "code",
   "execution_count": 5,
   "id": "6228c5f1",
   "metadata": {},
   "outputs": [],
   "source": [
    "object_col = []\n",
    "for col in train.columns:\n",
    "    if train[col].dtype == 'object':\n",
    "        object_col.append(col)"
   ]
  },
  {
   "cell_type": "code",
   "execution_count": 6,
   "id": "90f38969",
   "metadata": {},
   "outputs": [],
   "source": [
    "enc = OneHotEncoder()\n",
    "enc.fit(train.loc[:,object_col])\n",
    "\n",
    "\n",
    "train_onehot_df = pd.DataFrame(enc.transform(train.loc[:,object_col]).toarray(), \n",
    "             columns=enc.get_feature_names(object_col))\n",
    "train.drop(object_col, axis=1, inplace=True)\n",
    "train = pd.concat([train, train_onehot_df], axis=1)"
   ]
  },
  {
   "cell_type": "code",
   "execution_count": 7,
   "id": "046dfe79",
   "metadata": {},
   "outputs": [],
   "source": [
    "test_onehot_df = pd.DataFrame(enc.transform(test.loc[:,object_col]).toarray(), \n",
    "             columns=enc.get_feature_names(object_col))\n",
    "test.drop(object_col, axis=1, inplace=True)\n",
    "test = pd.concat([test, test_onehot_df], axis=1)"
   ]
  },
  {
   "cell_type": "code",
   "execution_count": 8,
   "id": "5ef52c67",
   "metadata": {},
   "outputs": [
    {
     "data": {
      "text/plain": [
       "child_num                                   int64\n",
       "income_total                              float64\n",
       "DAYS_BIRTH                                  int64\n",
       "DAYS_EMPLOYED                               int64\n",
       "FLAG_MOBIL                                  int64\n",
       "work_phone                                  int64\n",
       "phone                                       int64\n",
       "email                                       int64\n",
       "family_size                               float64\n",
       "begin_month                               float64\n",
       "credit                                    float64\n",
       "gender_F                                  float64\n",
       "gender_M                                  float64\n",
       "car_N                                     float64\n",
       "car_Y                                     float64\n",
       "reality_N                                 float64\n",
       "reality_Y                                 float64\n",
       "income_type_Commercial associate          float64\n",
       "income_type_Pensioner                     float64\n",
       "income_type_State servant                 float64\n",
       "income_type_Student                       float64\n",
       "income_type_Working                       float64\n",
       "edu_type_Academic degree                  float64\n",
       "edu_type_Higher education                 float64\n",
       "edu_type_Incomplete higher                float64\n",
       "edu_type_Lower secondary                  float64\n",
       "edu_type_Secondary / secondary special    float64\n",
       "family_type_Civil marriage                float64\n",
       "family_type_Married                       float64\n",
       "family_type_Separated                     float64\n",
       "family_type_Single / not married          float64\n",
       "family_type_Widow                         float64\n",
       "house_type_Co-op apartment                float64\n",
       "house_type_House / apartment              float64\n",
       "house_type_Municipal apartment            float64\n",
       "house_type_Office apartment               float64\n",
       "house_type_Rented apartment               float64\n",
       "house_type_With parents                   float64\n",
       "occyp_type_Accountants                    float64\n",
       "occyp_type_Cleaning staff                 float64\n",
       "occyp_type_Cooking staff                  float64\n",
       "occyp_type_Core staff                     float64\n",
       "occyp_type_Drivers                        float64\n",
       "occyp_type_HR staff                       float64\n",
       "occyp_type_High skill tech staff          float64\n",
       "occyp_type_IT staff                       float64\n",
       "occyp_type_Laborers                       float64\n",
       "occyp_type_Low-skill Laborers             float64\n",
       "occyp_type_Managers                       float64\n",
       "occyp_type_Medicine staff                 float64\n",
       "occyp_type_NAN                            float64\n",
       "occyp_type_Private service staff          float64\n",
       "occyp_type_Realty agents                  float64\n",
       "occyp_type_Sales staff                    float64\n",
       "occyp_type_Secretaries                    float64\n",
       "occyp_type_Security staff                 float64\n",
       "occyp_type_Waiters/barmen staff           float64\n",
       "dtype: object"
      ]
     },
     "execution_count": 8,
     "metadata": {},
     "output_type": "execute_result"
    }
   ],
   "source": [
    "train.dtypes"
   ]
  },
  {
   "cell_type": "code",
   "execution_count": 9,
   "id": "f8c22192",
   "metadata": {},
   "outputs": [
    {
     "data": {
      "text/plain": [
       "(26457, 57)"
      ]
     },
     "execution_count": 9,
     "metadata": {},
     "output_type": "execute_result"
    }
   ],
   "source": [
    "train\n",
    "np_train = train.to_numpy()\n",
    "np_train\n",
    "np_train[10000][10]\n",
    "np_test = test.to_numpy()\n",
    "np_train.shape"
   ]
  },
  {
   "cell_type": "code",
   "execution_count": 10,
   "id": "a606a93d",
   "metadata": {},
   "outputs": [],
   "source": [
    "result = np_train[:,10]"
   ]
  },
  {
   "cell_type": "code",
   "execution_count": 11,
   "id": "e36c309a",
   "metadata": {},
   "outputs": [],
   "source": [
    "np_train = np.delete(np_train , 10, axis = 1)"
   ]
  },
  {
   "cell_type": "code",
   "execution_count": 12,
   "id": "bd06cd13",
   "metadata": {},
   "outputs": [],
   "source": [
    "#enc.fit(result)\n",
    "result = result.reshape(-1,1)"
   ]
  },
  {
   "cell_type": "code",
   "execution_count": 13,
   "id": "db084d1b",
   "metadata": {},
   "outputs": [
    {
     "data": {
      "text/plain": [
       "array([[1.],\n",
       "       [1.],\n",
       "       [2.],\n",
       "       ...,\n",
       "       [2.],\n",
       "       [2.],\n",
       "       [2.]])"
      ]
     },
     "execution_count": 13,
     "metadata": {},
     "output_type": "execute_result"
    }
   ],
   "source": [
    "result"
   ]
  },
  {
   "cell_type": "code",
   "execution_count": 14,
   "id": "10b1b4a7",
   "metadata": {},
   "outputs": [
    {
     "data": {
      "text/plain": [
       "OneHotEncoder()"
      ]
     },
     "execution_count": 14,
     "metadata": {},
     "output_type": "execute_result"
    }
   ],
   "source": [
    "enc.fit(result)"
   ]
  },
  {
   "cell_type": "code",
   "execution_count": 15,
   "id": "5ea5e1ad",
   "metadata": {},
   "outputs": [],
   "source": [
    "result_one_hot = enc.transform(result).toarray()"
   ]
  },
  {
   "cell_type": "code",
   "execution_count": 16,
   "id": "1a04447e",
   "metadata": {},
   "outputs": [
    {
     "data": {
      "text/plain": [
       "array([[0., 1., 0.],\n",
       "       [0., 1., 0.],\n",
       "       [0., 0., 1.],\n",
       "       ...,\n",
       "       [0., 0., 1.],\n",
       "       [0., 0., 1.],\n",
       "       [0., 0., 1.]])"
      ]
     },
     "execution_count": 16,
     "metadata": {},
     "output_type": "execute_result"
    }
   ],
   "source": [
    "result_one_hot"
   ]
  },
  {
   "cell_type": "code",
   "execution_count": 17,
   "id": "b6733cb4",
   "metadata": {},
   "outputs": [
    {
     "data": {
      "text/plain": [
       "(26457, 56)"
      ]
     },
     "execution_count": 17,
     "metadata": {},
     "output_type": "execute_result"
    }
   ],
   "source": [
    "np_train.shape"
   ]
  },
  {
   "cell_type": "code",
   "execution_count": 18,
   "id": "2d27d9a0",
   "metadata": {},
   "outputs": [
    {
     "data": {
      "text/plain": [
       "(10000, 56)"
      ]
     },
     "execution_count": 18,
     "metadata": {},
     "output_type": "execute_result"
    }
   ],
   "source": [
    "np_test.shape"
   ]
  },
  {
   "cell_type": "code",
   "execution_count": 19,
   "id": "c66f4eac",
   "metadata": {},
   "outputs": [],
   "source": [
    "x_test = np_test\n",
    "x_test = x_test.astype('float32')"
   ]
  },
  {
   "cell_type": "code",
   "execution_count": 20,
   "id": "e64a4b82",
   "metadata": {},
   "outputs": [
    {
     "data": {
      "text/plain": [
       "(10000, 56)"
      ]
     },
     "execution_count": 20,
     "metadata": {},
     "output_type": "execute_result"
    }
   ],
   "source": [
    "np_test.shape"
   ]
  },
  {
   "cell_type": "code",
   "execution_count": 21,
   "id": "ff6849c4",
   "metadata": {},
   "outputs": [],
   "source": [
    "x = np_train\n",
    "x = x.astype('float32')\n",
    "y = result_one_hot\n",
    "y = y.astype('float32')\n",
    "#rate = tf.placeholder(tf.float32)"
   ]
  },
  {
   "cell_type": "code",
   "execution_count": 22,
   "id": "df3bf104",
   "metadata": {},
   "outputs": [
    {
     "data": {
      "text/plain": [
       "array([[0., 1., 0.],\n",
       "       [0., 1., 0.],\n",
       "       [0., 0., 1.],\n",
       "       ...,\n",
       "       [0., 0., 1.],\n",
       "       [0., 0., 1.],\n",
       "       [0., 0., 1.]], dtype=float32)"
      ]
     },
     "execution_count": 22,
     "metadata": {},
     "output_type": "execute_result"
    }
   ],
   "source": [
    "y"
   ]
  },
  {
   "cell_type": "code",
   "execution_count": 23,
   "id": "a8154df4",
   "metadata": {},
   "outputs": [
    {
     "data": {
      "text/plain": [
       "(26457, 56)"
      ]
     },
     "execution_count": 23,
     "metadata": {},
     "output_type": "execute_result"
    }
   ],
   "source": [
    "x.shape"
   ]
  },
  {
   "cell_type": "code",
   "execution_count": 24,
   "id": "7be436a5",
   "metadata": {},
   "outputs": [
    {
     "data": {
      "text/plain": [
       "(26457, 3)"
      ]
     },
     "execution_count": 24,
     "metadata": {},
     "output_type": "execute_result"
    }
   ],
   "source": [
    "y.shape"
   ]
  },
  {
   "cell_type": "code",
   "execution_count": 25,
   "id": "e7b2129e",
   "metadata": {},
   "outputs": [],
   "source": [
    "w1 = tf.Variable(tf.random.normal([56,112]) , dtype = tf.float32)\n",
    "b1 = tf.Variable(tf.random.normal([1,112]), dtype=tf.float32)"
   ]
  },
  {
   "cell_type": "code",
   "execution_count": 26,
   "id": "001ea0ab",
   "metadata": {},
   "outputs": [],
   "source": [
    "w2 = tf.Variable(tf.random.normal([112,224]) , dtype = tf.float32)\n",
    "b2 = tf.Variable(tf.random.normal([1,224]), dtype=tf.float32)"
   ]
  },
  {
   "cell_type": "code",
   "execution_count": 27,
   "id": "7285505b",
   "metadata": {},
   "outputs": [],
   "source": [
    "w3 = tf.Variable(tf.random.normal([224,112]) , dtype = tf.float32)\n",
    "b3 = tf.Variable(tf.random.normal([1,112]), dtype=tf.float32)"
   ]
  },
  {
   "cell_type": "code",
   "execution_count": 28,
   "id": "292128fd",
   "metadata": {},
   "outputs": [],
   "source": [
    "w4 = tf.Variable(tf.random.normal([112,56]) , dtype = tf.float32)\n",
    "b4 = tf.Variable(tf.random.normal([1,56]), dtype=tf.float32)"
   ]
  },
  {
   "cell_type": "code",
   "execution_count": 29,
   "id": "9f89cced",
   "metadata": {},
   "outputs": [],
   "source": [
    "w5 = tf.Variable(tf.random.normal([56,3]) , dtype = tf.float32)\n",
    "b5 = tf.Variable(tf.random.normal([1,3]), dtype=tf.float32)"
   ]
  },
  {
   "cell_type": "code",
   "execution_count": null,
   "id": "97e852e0",
   "metadata": {},
   "outputs": [],
   "source": []
  },
  {
   "cell_type": "code",
   "execution_count": 30,
   "id": "f95c3ced",
   "metadata": {},
   "outputs": [
    {
     "data": {
      "image/png": "[encoded data removed]",
      "text/plain": [
       "<Figure size 432x288 with 1 Axes>"
      ]
     },
     "metadata": {
      "needs_background": "light"
     },
     "output_type": "display_data"
    }
   ],
   "source": [
    "loss_ = []\n",
    "epoch = 1000\n",
    "optimizer = tf.keras.optimizers.SGD(learning_rate)\n",
    "#optimizer = tf.keras.optimizers.Adam(learning_rate )    \n",
    "def binary_crossentropy_logits(y,logits) :\n",
    "    #cross_entropy = tf.nn.sigmoid_cross_entropy_with_logits(labels = y , logits = logits)\n",
    "    cross_entropy = -y*tf.math.log(logits) - (1-y) *tf.math.log(1-logits)\n",
    "    loss = tf.reduce_mean(cross_entropy)\n",
    "    return loss\n",
    "for i in range(epoch):\n",
    "    with tf.GradientTape() as tape:\n",
    "        z1 = tf.matmul(x,w1) +b1\n",
    "        a1 = tf.sigmoid(z1)\n",
    "        z2 = tf.matmul(a1 ,w2) +b2\n",
    "        a2 = tf.sigmoid(z2)\n",
    "        z3 = tf.matmul(a2 ,w3) +b3\n",
    "        a3 = tf.sigmoid(z3)\n",
    "        z4 = tf.matmul(a3 ,w4) +b4\n",
    "        a4 = tf.sigmoid(z4)\n",
    "        z5 = tf.matmul(a4 ,w5) +b5\n",
    "        a5 = tf.sigmoid(z5)\n",
    "        yhat = a5\n",
    "        loss_value = binary_crossentropy_logits(y,yhat)\n",
    "        #loss_value = tf.losses.log_loss(y, yhat)\n",
    "        #loss_value = tf.nn.sigmoid_cross_entropy_with_logits()\n",
    "    gradients = tape.gradient(loss_value , [w1,w2,w3,w4,w5,b1,b2,b3,b4,b5])\n",
    "        #loss = tf.reduce_mean((y-yhat) * (y-yhat))\n",
    "    #gradients = tape.gradient(loss ,[w1,b1,w2,b2])\n",
    "    \n",
    "    #train = optimizer.minimize(gradients ,var_list =[w1,b1,w2,b2])\n",
    "    loss_.append(loss_value)\n",
    "    optimizer.apply_gradients(grads_and_vars = zip(gradients,[w1,w2,w3,w4,w5,b1,b2,b3,b4,b5]))\n",
    "    #dw1,db1,dw2,db2 = tape.gradient(loss , [w1,b1,w2,b2])\n",
    "    \n",
    "    #loss = tf.nn.sigmoid_cross_entropy_with_logits(labels = y , logits = z2)\n",
    "    #loss = 1/4*(-y*tf.math.log(yhat) - (1-y) *tf.math.log(1-yhat))\n",
    "    #dw1,db1,dw2 , db2  = tape.gradient(loss , [w1,b1,w2,b2])\n",
    "    #optimizer.apply_gradients(grads_and_vars = zip([dw1,db1],[w1,b1]))\n",
    "    #optimizer.apply_gradients(grads_and_vars = zip([dw2,db2],[w2,b2]))\n",
    "    #loss = tf.reduce_mean(loss)\n",
    "    \n",
    "\n",
    "    #loss_.append(loss_value)\n",
    "    correct = tf.equal(tf.argmax(y , axis = 1) , tf.argmax(yhat , axis=1))\n",
    "    correct = tf.cast(correct , tf.float32)\n",
    "    accuracy = tf.reduce_mean(correct)\n",
    "    #print(i,loss_value)\n",
    "    #loss_.append(loss)\n",
    "    #outs =  sess.run([train,loss,yhat ] , feed_dict = {x:x_data , y:y_data})\n",
    "    #print(i ,outs[1])\n",
    "    #loss_.append(outs[1])\n",
    "    \n",
    "\n",
    "#loss 보고 학습더해야될지 판단\n",
    "plt.plot(loss_)\n",
    "plt.show()"
   ]
  },
  {
   "cell_type": "code",
   "execution_count": 31,
   "id": "2fb6b77a",
   "metadata": {},
   "outputs": [
    {
     "data": {
      "text/plain": [
       "(10000, 56)"
      ]
     },
     "execution_count": 31,
     "metadata": {},
     "output_type": "execute_result"
    }
   ],
   "source": [
    "x_test.shape"
   ]
  },
  {
   "cell_type": "code",
   "execution_count": 43,
   "id": "cd997f98",
   "metadata": {},
   "outputs": [],
   "source": [
    "z1 = tf.matmul(x_test,w1) +b1\n",
    "a1 = tf.sigmoid(z1)\n",
    "z2 = tf.matmul(a1 ,w2) +b2\n",
    "a2 = tf.sigmoid(z2)\n",
    "z3 = tf.matmul(a2 ,w3) +b3\n",
    "a3 = tf.sigmoid(z3)\n",
    "z4 = tf.matmul(a3 ,w4) +b4\n",
    "a4 = tf.sigmoid(z4)\n",
    "z5 = tf.matmul(a4 ,w5) +b5\n",
    "a5 = tf.sigmoid(z5)\n",
    "yhat = a5"
   ]
  },
  {
   "cell_type": "code",
   "execution_count": 44,
   "id": "c3a3b27d",
   "metadata": {},
   "outputs": [
    {
     "data": {
      "text/plain": [
       "<tf.Tensor: shape=(10000, 3), dtype=float32, numpy=\n",
       "array([[0.10474679, 0.2298722 , 0.65368485],\n",
       "       [0.1216335 , 0.23579937, 0.65580916],\n",
       "       [0.07895139, 0.26152942, 0.6297945 ],\n",
       "       ...,\n",
       "       [0.1230509 , 0.2354947 , 0.6406934 ],\n",
       "       [0.1230509 , 0.2354947 , 0.6406934 ],\n",
       "       [0.1230509 , 0.2354947 , 0.6406934 ]], dtype=float32)>"
      ]
     },
     "execution_count": 44,
     "metadata": {},
     "output_type": "execute_result"
    }
   ],
   "source": [
    "yhat"
   ]
  },
  {
   "cell_type": "code",
   "execution_count": 45,
   "id": "a75c3175",
   "metadata": {},
   "outputs": [],
   "source": [
    "submit.iloc[:,1:]=0"
   ]
  },
  {
   "cell_type": "code",
   "execution_count": 46,
   "id": "ee3afa7a",
   "metadata": {},
   "outputs": [],
   "source": [
    "yhat_float = tf.cast(yhat ,tf.float32)"
   ]
  },
  {
   "cell_type": "code",
   "execution_count": 47,
   "id": "2f8e2e1c",
   "metadata": {},
   "outputs": [],
   "source": [
    "yhat_float = yhat_float.numpy()"
   ]
  },
  {
   "cell_type": "code",
   "execution_count": 48,
   "id": "3660045d",
   "metadata": {},
   "outputs": [
    {
     "data": {
      "text/plain": [
       "array([[0.10474679, 0.2298722 , 0.65368485],\n",
       "       [0.1216335 , 0.23579937, 0.65580916],\n",
       "       [0.07895139, 0.26152942, 0.6297945 ],\n",
       "       ...,\n",
       "       [0.1230509 , 0.2354947 , 0.6406934 ],\n",
       "       [0.1230509 , 0.2354947 , 0.6406934 ],\n",
       "       [0.1230509 , 0.2354947 , 0.6406934 ]], dtype=float32)"
      ]
     },
     "execution_count": 48,
     "metadata": {},
     "output_type": "execute_result"
    }
   ],
   "source": [
    "yhat_float"
   ]
  },
  {
   "cell_type": "code",
   "execution_count": 49,
   "id": "66ea36ad",
   "metadata": {},
   "outputs": [],
   "source": [
    "submit_test = pd.DataFrame(yhat_float)"
   ]
  },
  {
   "cell_type": "code",
   "execution_count": 50,
   "id": "61ae294f",
   "metadata": {
    "scrolled": true
   },
   "outputs": [
    {
     "data": {
      "text/html": [
       "<div>\n",
       "<style scoped>\n",
       "    .dataframe tbody tr th:only-of-type {\n",
       "        vertical-align: middle;\n",
       "    }\n",
       "\n",
       "    .dataframe tbody tr th {\n",
       "        vertical-align: top;\n",
       "    }\n",
       "\n",
       "    .dataframe thead th {\n",
       "        text-align: right;\n",
       "    }\n",
       "</style>\n",
       "<table border=\"1\" class=\"dataframe\">\n",
       "  <thead>\n",
       "    <tr style=\"text-align: right;\">\n",
       "      <th></th>\n",
       "      <th>0</th>\n",
       "      <th>1</th>\n",
       "      <th>2</th>\n",
       "    </tr>\n",
       "  </thead>\n",
       "  <tbody>\n",
       "    <tr>\n",
       "      <th>0</th>\n",
       "      <td>0.104747</td>\n",
       "      <td>0.229872</td>\n",
       "      <td>0.653685</td>\n",
       "    </tr>\n",
       "    <tr>\n",
       "      <th>1</th>\n",
       "      <td>0.121633</td>\n",
       "      <td>0.235799</td>\n",
       "      <td>0.655809</td>\n",
       "    </tr>\n",
       "    <tr>\n",
       "      <th>2</th>\n",
       "      <td>0.078951</td>\n",
       "      <td>0.261529</td>\n",
       "      <td>0.629794</td>\n",
       "    </tr>\n",
       "    <tr>\n",
       "      <th>3</th>\n",
       "      <td>0.110665</td>\n",
       "      <td>0.222461</td>\n",
       "      <td>0.640457</td>\n",
       "    </tr>\n",
       "    <tr>\n",
       "      <th>4</th>\n",
       "      <td>0.123051</td>\n",
       "      <td>0.235495</td>\n",
       "      <td>0.640693</td>\n",
       "    </tr>\n",
       "    <tr>\n",
       "      <th>...</th>\n",
       "      <td>...</td>\n",
       "      <td>...</td>\n",
       "      <td>...</td>\n",
       "    </tr>\n",
       "    <tr>\n",
       "      <th>9995</th>\n",
       "      <td>0.123051</td>\n",
       "      <td>0.235495</td>\n",
       "      <td>0.640693</td>\n",
       "    </tr>\n",
       "    <tr>\n",
       "      <th>9996</th>\n",
       "      <td>0.123051</td>\n",
       "      <td>0.235495</td>\n",
       "      <td>0.640693</td>\n",
       "    </tr>\n",
       "    <tr>\n",
       "      <th>9997</th>\n",
       "      <td>0.123051</td>\n",
       "      <td>0.235495</td>\n",
       "      <td>0.640693</td>\n",
       "    </tr>\n",
       "    <tr>\n",
       "      <th>9998</th>\n",
       "      <td>0.123051</td>\n",
       "      <td>0.235495</td>\n",
       "      <td>0.640693</td>\n",
       "    </tr>\n",
       "    <tr>\n",
       "      <th>9999</th>\n",
       "      <td>0.123051</td>\n",
       "      <td>0.235495</td>\n",
       "      <td>0.640693</td>\n",
       "    </tr>\n",
       "  </tbody>\n",
       "</table>\n",
       "<p>10000 rows × 3 columns</p>\n",
       "</div>"
      ],
      "text/plain": [
       "             0         1         2\n",
       "0     0.104747  0.229872  0.653685\n",
       "1     0.121633  0.235799  0.655809\n",
       "2     0.078951  0.261529  0.629794\n",
       "3     0.110665  0.222461  0.640457\n",
       "4     0.123051  0.235495  0.640693\n",
       "...        ...       ...       ...\n",
       "9995  0.123051  0.235495  0.640693\n",
       "9996  0.123051  0.235495  0.640693\n",
       "9997  0.123051  0.235495  0.640693\n",
       "9998  0.123051  0.235495  0.640693\n",
       "9999  0.123051  0.235495  0.640693\n",
       "\n",
       "[10000 rows x 3 columns]"
      ]
     },
     "execution_count": 50,
     "metadata": {},
     "output_type": "execute_result"
    }
   ],
   "source": [
    "submit_test"
   ]
  },
  {
   "cell_type": "code",
   "execution_count": 51,
   "id": "43867c89",
   "metadata": {},
   "outputs": [],
   "source": [
    "submit.iloc[:,1:] = submit_test"
   ]
  },
  {
   "cell_type": "code",
   "execution_count": 52,
   "id": "6a9a4d08",
   "metadata": {},
   "outputs": [
    {
     "data": {
      "text/html": [
       "<div>\n",
       "<style scoped>\n",
       "    .dataframe tbody tr th:only-of-type {\n",
       "        vertical-align: middle;\n",
       "    }\n",
       "\n",
       "    .dataframe tbody tr th {\n",
       "        vertical-align: top;\n",
       "    }\n",
       "\n",
       "    .dataframe thead th {\n",
       "        text-align: right;\n",
       "    }\n",
       "</style>\n",
       "<table border=\"1\" class=\"dataframe\">\n",
       "  <thead>\n",
       "    <tr style=\"text-align: right;\">\n",
       "      <th></th>\n",
       "      <th>index</th>\n",
       "      <th>0</th>\n",
       "      <th>1</th>\n",
       "      <th>2</th>\n",
       "    </tr>\n",
       "  </thead>\n",
       "  <tbody>\n",
       "    <tr>\n",
       "      <th>0</th>\n",
       "      <td>26457</td>\n",
       "      <td>0.104747</td>\n",
       "      <td>0.229872</td>\n",
       "      <td>0.653685</td>\n",
       "    </tr>\n",
       "    <tr>\n",
       "      <th>1</th>\n",
       "      <td>26458</td>\n",
       "      <td>0.121633</td>\n",
       "      <td>0.235799</td>\n",
       "      <td>0.655809</td>\n",
       "    </tr>\n",
       "    <tr>\n",
       "      <th>2</th>\n",
       "      <td>26459</td>\n",
       "      <td>0.078951</td>\n",
       "      <td>0.261529</td>\n",
       "      <td>0.629794</td>\n",
       "    </tr>\n",
       "    <tr>\n",
       "      <th>3</th>\n",
       "      <td>26460</td>\n",
       "      <td>0.110665</td>\n",
       "      <td>0.222461</td>\n",
       "      <td>0.640457</td>\n",
       "    </tr>\n",
       "    <tr>\n",
       "      <th>4</th>\n",
       "      <td>26461</td>\n",
       "      <td>0.123051</td>\n",
       "      <td>0.235495</td>\n",
       "      <td>0.640693</td>\n",
       "    </tr>\n",
       "  </tbody>\n",
       "</table>\n",
       "</div>"
      ],
      "text/plain": [
       "   index         0         1         2\n",
       "0  26457  0.104747  0.229872  0.653685\n",
       "1  26458  0.121633  0.235799  0.655809\n",
       "2  26459  0.078951  0.261529  0.629794\n",
       "3  26460  0.110665  0.222461  0.640457\n",
       "4  26461  0.123051  0.235495  0.640693"
      ]
     },
     "execution_count": 52,
     "metadata": {},
     "output_type": "execute_result"
    }
   ],
   "source": [
    "submit.head()"
   ]
  },
  {
   "cell_type": "code",
   "execution_count": 53,
   "id": "d8d2bb33",
   "metadata": {},
   "outputs": [],
   "source": [
    "submit.to_csv('submit/20210504_test_submit_tensor.csv', index=False)"
   ]
  },
  {
   "cell_type": "code",
   "execution_count": 54,
   "id": "8d52f53e",
   "metadata": {},
   "outputs": [
    {
     "data": {
      "text/html": [
       "<div>\n",
       "<style scoped>\n",
       "    .dataframe tbody tr th:only-of-type {\n",
       "        vertical-align: middle;\n",
       "    }\n",
       "\n",
       "    .dataframe tbody tr th {\n",
       "        vertical-align: top;\n",
       "    }\n",
       "\n",
       "    .dataframe thead th {\n",
       "        text-align: right;\n",
       "    }\n",
       "</style>\n",
       "<table border=\"1\" class=\"dataframe\">\n",
       "  <thead>\n",
       "    <tr style=\"text-align: right;\">\n",
       "      <th></th>\n",
       "      <th>index</th>\n",
       "      <th>0</th>\n",
       "      <th>1</th>\n",
       "      <th>2</th>\n",
       "    </tr>\n",
       "  </thead>\n",
       "  <tbody>\n",
       "    <tr>\n",
       "      <th>0</th>\n",
       "      <td>26457</td>\n",
       "      <td>0</td>\n",
       "      <td>0</td>\n",
       "      <td>1</td>\n",
       "    </tr>\n",
       "    <tr>\n",
       "      <th>1</th>\n",
       "      <td>26458</td>\n",
       "      <td>0</td>\n",
       "      <td>0</td>\n",
       "      <td>1</td>\n",
       "    </tr>\n",
       "    <tr>\n",
       "      <th>2</th>\n",
       "      <td>26459</td>\n",
       "      <td>0</td>\n",
       "      <td>0</td>\n",
       "      <td>1</td>\n",
       "    </tr>\n",
       "    <tr>\n",
       "      <th>3</th>\n",
       "      <td>26460</td>\n",
       "      <td>0</td>\n",
       "      <td>0</td>\n",
       "      <td>1</td>\n",
       "    </tr>\n",
       "    <tr>\n",
       "      <th>4</th>\n",
       "      <td>26461</td>\n",
       "      <td>0</td>\n",
       "      <td>0</td>\n",
       "      <td>1</td>\n",
       "    </tr>\n",
       "  </tbody>\n",
       "</table>\n",
       "</div>"
      ],
      "text/plain": [
       "   index  0  1  2\n",
       "0  26457  0  0  1\n",
       "1  26458  0  0  1\n",
       "2  26459  0  0  1\n",
       "3  26460  0  0  1\n",
       "4  26461  0  0  1"
      ]
     },
     "execution_count": 54,
     "metadata": {},
     "output_type": "execute_result"
    }
   ],
   "source": [
    "submit_ = pd.read_csv('dataset/sample_submission.csv')\n",
    "#submit.iloc[:,1:]=0\n",
    "submit_.iloc[:,1:] = 0\n",
    "submit_.head()\n",
    "#int(submit.iloc[:,1:].idxmax(1)[2])\n",
    "#submit_.iloc[0,1:]\n",
    "#submit.head()\n",
    "#submit.iloc[:,1:].idxmax(1)\n",
    "a = []\n",
    "a= submit.iloc[:,1:].idxmax(1)\n",
    "#submit_.iloc[3,1:]\n",
    "for i in range(0,len(submit_)):\n",
    "    submit_.iloc[i,int(a[i])+1] = 1\n",
    "submit_.head()\n",
    "submit_.to_csv('submit/20210504_test_submit_one_hot_tensor.csv', index=False)\n",
    "submit_.head()"
   ]
  },
  {
   "cell_type": "code",
   "execution_count": null,
   "id": "030089a5",
   "metadata": {},
   "outputs": [],
   "source": []
  },
  {
   "cell_type": "code",
   "execution_count": null,
   "id": "4bc50369",
   "metadata": {},
   "outputs": [],
   "source": []
  }
 ],
 "metadata": {
  "kernelspec": {
   "display_name": "Python 3",
   "language": "python",
   "name": "python3"
  },
  "language_info": {
   "codemirror_mode": {
    "name": "ipython",
    "version": 3
   },
   "file_extension": ".py",
   "mimetype": "text/x-python",
   "name": "python",
   "nbconvert_exporter": "python",
   "pygments_lexer": "ipython3",
   "version": "3.7.10"
  }
 },
 "nbformat": 4,
 "nbformat_minor": 5
}
