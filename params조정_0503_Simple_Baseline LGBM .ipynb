{
 "cells": [
  {
   "cell_type": "markdown",
   "id": "stuck-muslim",
   "metadata": {},
   "source": [
    "# Library"
   ]
  },
  {
   "cell_type": "code",
   "execution_count": 1,
   "id": "ancient-translator",
   "metadata": {
    "ExecuteTime": {
     "end_time": "2021-04-05T07:28:17.254964Z",
     "start_time": "2021-04-05T07:28:16.734129Z"
    }
   },
   "outputs": [],
   "source": [
    "import warnings\n",
    "warnings.filterwarnings('ignore')\n",
    "import glob\n",
    "import pandas as pd\n",
    "import numpy as np\n",
    "from lightgbm import LGBMClassifier\n",
    "from sklearn.model_selection import StratifiedKFold\n",
    "from sklearn.preprocessing import OneHotEncoder\n",
    "import random"
   ]
  },
  {
   "cell_type": "markdown",
   "id": "altered-latin",
   "metadata": {},
   "source": [
    "# Data Load & Preprocessing\n",
    "- 훈련에 필요없는 index 컬럼 삭제.\n",
    "- missing value를 모두 NAN 문자열로 대체\n",
    "- dtype object 인 컬럼들을 onehot encoding"
   ]
  },
  {
   "cell_type": "code",
   "execution_count": 2,
   "id": "changed-october",
   "metadata": {
    "ExecuteTime": {
     "end_time": "2021-04-05T07:28:17.326319Z",
     "start_time": "2021-04-05T07:28:17.256352Z"
    },
    "run_control": {
     "marked": true
    }
   },
   "outputs": [],
   "source": [
    "train = pd.read_csv('train.csv')\n",
    "train = train.drop(['index'], axis=1)\n",
    "train.fillna('NAN', inplace=True) \n",
    "\n",
    "\n",
    "test = pd.read_csv('test.csv')\n",
    "test = test.drop(['index'], axis=1)\n",
    "test.fillna('NAN', inplace=True)\n",
    "\n",
    "submit = pd.read_csv('sample_submission.csv')"
   ]
  },
  {
   "cell_type": "code",
   "execution_count": 3,
   "id": "supreme-enterprise",
   "metadata": {
    "ExecuteTime": {
     "end_time": "2021-04-05T07:28:17.330984Z",
     "start_time": "2021-04-05T07:28:17.328119Z"
    },
    "code_folding": []
   },
   "outputs": [],
   "source": [
    "object_col = []\n",
    "for col in train.columns:\n",
    "    if train[col].dtype == 'object':\n",
    "        object_col.append(col)"
   ]
  },
  {
   "cell_type": "code",
   "execution_count": 4,
   "id": "ruled-crazy",
   "metadata": {
    "ExecuteTime": {
     "end_time": "2021-04-05T07:28:17.409966Z",
     "start_time": "2021-04-05T07:28:17.332094Z"
    }
   },
   "outputs": [],
   "source": [
    "enc = OneHotEncoder()\n",
    "enc.fit(train.loc[:,object_col])\n",
    "\n",
    "\n",
    "train_onehot_df = pd.DataFrame(enc.transform(train.loc[:,object_col]).toarray(), \n",
    "             columns=enc.get_feature_names(object_col))\n",
    "train.drop(object_col, axis=1, inplace=True)\n",
    "train = pd.concat([train, train_onehot_df], axis=1)"
   ]
  },
  {
   "cell_type": "code",
   "execution_count": 5,
   "id": "varied-sterling",
   "metadata": {
    "ExecuteTime": {
     "end_time": "2021-04-05T07:28:17.461725Z",
     "start_time": "2021-04-05T07:28:17.412860Z"
    }
   },
   "outputs": [],
   "source": [
    "test_onehot_df = pd.DataFrame(enc.transform(test.loc[:,object_col]).toarray(), \n",
    "             columns=enc.get_feature_names(object_col))\n",
    "test.drop(object_col, axis=1, inplace=True)\n",
    "test = pd.concat([test, test_onehot_df], axis=1)"
   ]
  },
  {
   "cell_type": "markdown",
   "id": "pressed-velvet",
   "metadata": {},
   "source": [
    "# Training\n",
    "- 데이터 분리는 StratifiedKFold 를 사용하여 y값 분포를 비슷하게 분리시킴. -> 5-fold\n",
    "- lightgbm의 default parameter로 훈련.\n",
    "- 30번 이상 개선 없을 경우 중단.\n",
    "- 각 5개의 fold를 훈련하여 저장"
   ]
  },
  {
   "cell_type": "code",
   "execution_count": 6,
   "id": "technological-torture",
   "metadata": {
    "ExecuteTime": {
     "end_time": "2021-04-05T07:28:17.473980Z",
     "start_time": "2021-04-05T07:28:17.463844Z"
    },
    "code_folding": []
   },
   "outputs": [],
   "source": [
    "skf = StratifiedKFold(n_splits=5, shuffle=True, random_state=42)\n",
    "folds=[]\n",
    "for train_idx, valid_idx in skf.split(train, train['credit']):\n",
    "    folds.append((train_idx, valid_idx))"
   ]
  },
  {
   "cell_type": "code",
   "execution_count": 7,
   "id": "boolean-apple",
   "metadata": {},
   "outputs": [],
   "source": [
    "params={}\n",
    "params['boosting_type']='gbdt'\n",
    "params['learning_rate']='0.01'\n",
    "params['max_depth']='16'\n",
    "params['n_estimators']='1000'\n",
    "params['objective']='regression'\n",
    "params['metric']='multi_logloss'\n",
    "params['is_training_metric']='True'\n",
    "params['num_leaves']='31' #중요\n",
    "params['feature_fraction']='0.7'#몇프로feature랜덤하게 학습 열 샘플링\n",
    "params['bagging_fraction']='0.7'#행 샘플링\n",
    "params['seed']='2020'\n",
    "params['early_stopping_round']='50'\n",
    "params['min_data_in_leaf']='20' #중요\n",
    "\n"
   ]
  },
  {
   "cell_type": "code",
   "execution_count": 115,
   "id": "dominant-modification",
   "metadata": {
    "ExecuteTime": {
     "end_time": "2021-04-05T07:28:24.383183Z",
     "start_time": "2021-04-05T07:28:17.475190Z"
    },
    "scrolled": true
   },
   "outputs": [
    {
     "name": "stdout",
     "output_type": "stream",
     "text": [
      "====================================1============================================\n",
      "Training until validation scores don't improve for 100 rounds\n",
      "[100]\ttraining's multi_logloss: 0.392433\tvalid_1's multi_logloss: 0.709202\n",
      "Early stopping, best iteration is:\n",
      "[99]\ttraining's multi_logloss: 0.394399\tvalid_1's multi_logloss: 0.708948\n",
      "================================================================================\n",
      "\n",
      "\n",
      "====================================2============================================\n",
      "Training until validation scores don't improve for 100 rounds\n"
     ]
    },
    {
     "ename": "KeyboardInterrupt",
     "evalue": "",
     "output_type": "error",
     "traceback": [
      "\u001b[1;31m---------------------------------------------------------------------------\u001b[0m",
      "\u001b[1;31mKeyboardInterrupt\u001b[0m                         Traceback (most recent call last)",
      "\u001b[1;32m<ipython-input-115-5c6f426e5cfa>\u001b[0m in \u001b[0;36m<module>\u001b[1;34m\u001b[0m\n\u001b[0;32m     23\u001b[0m                          \u001b[0mextra_trees\u001b[0m\u001b[1;33m=\u001b[0m\u001b[1;34m'False'\u001b[0m\u001b[1;33m\u001b[0m\u001b[1;33m\u001b[0m\u001b[0m\n\u001b[0;32m     24\u001b[0m                         )\n\u001b[1;32m---> 25\u001b[1;33m     lgb.fit(X_train, y_train, eval_set=[(X_train, y_train), (X_valid, y_valid)], early_stopping_rounds=50,\n\u001b[0m\u001b[0;32m     26\u001b[0m            verbose=100) #verbose 횟수마다 출력\n\u001b[0;32m     27\u001b[0m     \u001b[0mlgb_models\u001b[0m\u001b[1;33m[\u001b[0m\u001b[0mfold\u001b[0m\u001b[1;33m]\u001b[0m\u001b[1;33m=\u001b[0m\u001b[0mlgb\u001b[0m\u001b[1;33m\u001b[0m\u001b[1;33m\u001b[0m\u001b[0m\n",
      "\u001b[1;32mc:\\program files\\python38\\lib\\site-packages\\lightgbm\\sklearn.py\u001b[0m in \u001b[0;36mfit\u001b[1;34m(self, X, y, sample_weight, init_score, eval_set, eval_names, eval_sample_weight, eval_class_weight, eval_init_score, eval_metric, early_stopping_rounds, verbose, feature_name, categorical_feature, callbacks, init_model)\u001b[0m\n\u001b[0;32m    888\u001b[0m                     \u001b[0mvalid_sets\u001b[0m\u001b[1;33m[\u001b[0m\u001b[0mi\u001b[0m\u001b[1;33m]\u001b[0m \u001b[1;33m=\u001b[0m \u001b[1;33m(\u001b[0m\u001b[0mvalid_x\u001b[0m\u001b[1;33m,\u001b[0m \u001b[0mself\u001b[0m\u001b[1;33m.\u001b[0m\u001b[0m_le\u001b[0m\u001b[1;33m.\u001b[0m\u001b[0mtransform\u001b[0m\u001b[1;33m(\u001b[0m\u001b[0mvalid_y\u001b[0m\u001b[1;33m)\u001b[0m\u001b[1;33m)\u001b[0m\u001b[1;33m\u001b[0m\u001b[1;33m\u001b[0m\u001b[0m\n\u001b[0;32m    889\u001b[0m \u001b[1;33m\u001b[0m\u001b[0m\n\u001b[1;32m--> 890\u001b[1;33m         super().fit(X, _y, sample_weight=sample_weight, init_score=init_score, eval_set=valid_sets,\n\u001b[0m\u001b[0;32m    891\u001b[0m                     \u001b[0meval_names\u001b[0m\u001b[1;33m=\u001b[0m\u001b[0meval_names\u001b[0m\u001b[1;33m,\u001b[0m \u001b[0meval_sample_weight\u001b[0m\u001b[1;33m=\u001b[0m\u001b[0meval_sample_weight\u001b[0m\u001b[1;33m,\u001b[0m\u001b[1;33m\u001b[0m\u001b[1;33m\u001b[0m\u001b[0m\n\u001b[0;32m    892\u001b[0m                     \u001b[0meval_class_weight\u001b[0m\u001b[1;33m=\u001b[0m\u001b[0meval_class_weight\u001b[0m\u001b[1;33m,\u001b[0m \u001b[0meval_init_score\u001b[0m\u001b[1;33m=\u001b[0m\u001b[0meval_init_score\u001b[0m\u001b[1;33m,\u001b[0m\u001b[1;33m\u001b[0m\u001b[1;33m\u001b[0m\u001b[0m\n",
      "\u001b[1;32mc:\\program files\\python38\\lib\\site-packages\\lightgbm\\sklearn.py\u001b[0m in \u001b[0;36mfit\u001b[1;34m(self, X, y, sample_weight, init_score, group, eval_set, eval_names, eval_sample_weight, eval_class_weight, eval_init_score, eval_group, eval_metric, early_stopping_rounds, verbose, feature_name, categorical_feature, callbacks, init_model)\u001b[0m\n\u001b[0;32m    681\u001b[0m             \u001b[0minit_model\u001b[0m \u001b[1;33m=\u001b[0m \u001b[0minit_model\u001b[0m\u001b[1;33m.\u001b[0m\u001b[0mbooster_\u001b[0m\u001b[1;33m\u001b[0m\u001b[1;33m\u001b[0m\u001b[0m\n\u001b[0;32m    682\u001b[0m \u001b[1;33m\u001b[0m\u001b[0m\n\u001b[1;32m--> 683\u001b[1;33m         self._Booster = train(params, train_set,\n\u001b[0m\u001b[0;32m    684\u001b[0m                               \u001b[0mself\u001b[0m\u001b[1;33m.\u001b[0m\u001b[0mn_estimators\u001b[0m\u001b[1;33m,\u001b[0m \u001b[0mvalid_sets\u001b[0m\u001b[1;33m=\u001b[0m\u001b[0mvalid_sets\u001b[0m\u001b[1;33m,\u001b[0m \u001b[0mvalid_names\u001b[0m\u001b[1;33m=\u001b[0m\u001b[0meval_names\u001b[0m\u001b[1;33m,\u001b[0m\u001b[1;33m\u001b[0m\u001b[1;33m\u001b[0m\u001b[0m\n\u001b[0;32m    685\u001b[0m                               \u001b[0mearly_stopping_rounds\u001b[0m\u001b[1;33m=\u001b[0m\u001b[0mearly_stopping_rounds\u001b[0m\u001b[1;33m,\u001b[0m\u001b[1;33m\u001b[0m\u001b[1;33m\u001b[0m\u001b[0m\n",
      "\u001b[1;32mc:\\program files\\python38\\lib\\site-packages\\lightgbm\\engine.py\u001b[0m in \u001b[0;36mtrain\u001b[1;34m(params, train_set, num_boost_round, valid_sets, valid_names, fobj, feval, init_model, feature_name, categorical_feature, early_stopping_rounds, evals_result, verbose_eval, learning_rates, keep_training_booster, callbacks)\u001b[0m\n\u001b[0;32m    247\u001b[0m                                     evaluation_result_list=None))\n\u001b[0;32m    248\u001b[0m \u001b[1;33m\u001b[0m\u001b[0m\n\u001b[1;32m--> 249\u001b[1;33m         \u001b[0mbooster\u001b[0m\u001b[1;33m.\u001b[0m\u001b[0mupdate\u001b[0m\u001b[1;33m(\u001b[0m\u001b[0mfobj\u001b[0m\u001b[1;33m=\u001b[0m\u001b[0mfobj\u001b[0m\u001b[1;33m)\u001b[0m\u001b[1;33m\u001b[0m\u001b[1;33m\u001b[0m\u001b[0m\n\u001b[0m\u001b[0;32m    250\u001b[0m \u001b[1;33m\u001b[0m\u001b[0m\n\u001b[0;32m    251\u001b[0m         \u001b[0mevaluation_result_list\u001b[0m \u001b[1;33m=\u001b[0m \u001b[1;33m[\u001b[0m\u001b[1;33m]\u001b[0m\u001b[1;33m\u001b[0m\u001b[1;33m\u001b[0m\u001b[0m\n",
      "\u001b[1;32mc:\\program files\\python38\\lib\\site-packages\\lightgbm\\basic.py\u001b[0m in \u001b[0;36mupdate\u001b[1;34m(self, train_set, fobj)\u001b[0m\n\u001b[0;32m   2641\u001b[0m             \u001b[1;32mif\u001b[0m \u001b[0mself\u001b[0m\u001b[1;33m.\u001b[0m\u001b[0m__set_objective_to_none\u001b[0m\u001b[1;33m:\u001b[0m\u001b[1;33m\u001b[0m\u001b[1;33m\u001b[0m\u001b[0m\n\u001b[0;32m   2642\u001b[0m                 \u001b[1;32mraise\u001b[0m \u001b[0mLightGBMError\u001b[0m\u001b[1;33m(\u001b[0m\u001b[1;34m'Cannot update due to null objective function.'\u001b[0m\u001b[1;33m)\u001b[0m\u001b[1;33m\u001b[0m\u001b[1;33m\u001b[0m\u001b[0m\n\u001b[1;32m-> 2643\u001b[1;33m             _safe_call(_LIB.LGBM_BoosterUpdateOneIter(\n\u001b[0m\u001b[0;32m   2644\u001b[0m                 \u001b[0mself\u001b[0m\u001b[1;33m.\u001b[0m\u001b[0mhandle\u001b[0m\u001b[1;33m,\u001b[0m\u001b[1;33m\u001b[0m\u001b[1;33m\u001b[0m\u001b[0m\n\u001b[0;32m   2645\u001b[0m                 ctypes.byref(is_finished)))\n",
      "\u001b[1;31mKeyboardInterrupt\u001b[0m: "
     ]
    }
   ],
   "source": [
    "random.seed(42)\n",
    "lgb_models={}\n",
    "for fold in range(5):\n",
    "    print(f'===================================={fold+1}============================================')\n",
    "    train_idx, valid_idx = folds[fold]\n",
    "    X_train, X_valid, y_train, y_valid = train.drop(['credit'],axis=1).iloc[train_idx].values, train.drop(['credit'],axis=1).iloc[valid_idx].values,\\\n",
    "                                         train['credit'][train_idx].values, train['credit'][valid_idx].values\n",
    "    \n",
    "    lgb = LGBMClassifier(boosting_type='gbdt',\n",
    "                        learning_rate=0.1,\n",
    "                         max_depth=30,\n",
    "                         n_estimators=1500,\n",
    "                         objective='regression',\n",
    "                         metric='multi_logloss',\n",
    "                         is_training_metric=True,\n",
    "                         num_leaves=150, #중요\n",
    "                         feature_fraction=0.7,#몇프로feature랜덤하게 학습 열 샘플링\n",
    "                         bagging_fraction=0.7, #행 샘플링\n",
    "                         seed=2020,\n",
    "                         early_stopping_round=100,\n",
    "                         min_data_in_leaf=5, #중요\n",
    "                         tree_learner='feature',\n",
    "                         extra_trees='False'\n",
    "                        )\n",
    "    lgb.fit(X_train, y_train, eval_set=[(X_train, y_train), (X_valid, y_valid)], early_stopping_rounds=50,\n",
    "           verbose=100) #verbose 횟수마다 출력\n",
    "    lgb_models[fold]=lgb\n",
    "    print(f'================================================================================\\n\\n')\n"
   ]
  },
  {
   "cell_type": "markdown",
   "id": "military-links",
   "metadata": {},
   "source": [
    "# Test inference\n",
    "- 각 fold를 훈련시킨 lightgbm model로 predict.\n",
    "- 해당 대회는 logloss score를 겨루는 것이기 때문에 각 class의 probability를 얻어야함.\n",
    "- 대부분의 머신러닝 모델에서 predict, predict_proba를 구분하여 사용함.\n",
    "- predict는 class 출력을 해주고 predict_proba는 class별 probability를 출력해줌.\n",
    "- predict_proba를 사용하여 예측한 것을 5-fold 더하여 평균내어 앙상블."
   ]
  },
  {
   "cell_type": "code",
   "execution_count": 108,
   "id": "physical-involvement",
   "metadata": {
    "ExecuteTime": {
     "end_time": "2021-04-05T07:28:24.561816Z",
     "start_time": "2021-04-05T07:28:24.387286Z"
    },
    "run_control": {
     "marked": true
    }
   },
   "outputs": [],
   "source": [
    "submit.iloc[:,1:]=0\n",
    "for fold in range(5):\n",
    "    submit.iloc[:,1:] += lgb_models[fold].predict_proba(test)/5"
   ]
  },
  {
   "cell_type": "code",
   "execution_count": 109,
   "id": "pursuant-spencer",
   "metadata": {
    "ExecuteTime": {
     "end_time": "2021-04-05T07:28:24.598886Z",
     "start_time": "2021-04-05T07:28:24.563499Z"
    }
   },
   "outputs": [],
   "source": [
    "submit.to_csv('20210503_test_submit_ensemble.csv', index=False) # 0.7272812144"
   ]
  },
  {
   "cell_type": "code",
   "execution_count": 110,
   "id": "authentic-african",
   "metadata": {
    "ExecuteTime": {
     "end_time": "2021-04-05T07:28:24.611127Z",
     "start_time": "2021-04-05T07:28:24.599932Z"
    }
   },
   "outputs": [
    {
     "data": {
      "text/html": [
       "<div>\n",
       "<style scoped>\n",
       "    .dataframe tbody tr th:only-of-type {\n",
       "        vertical-align: middle;\n",
       "    }\n",
       "\n",
       "    .dataframe tbody tr th {\n",
       "        vertical-align: top;\n",
       "    }\n",
       "\n",
       "    .dataframe thead th {\n",
       "        text-align: right;\n",
       "    }\n",
       "</style>\n",
       "<table border=\"1\" class=\"dataframe\">\n",
       "  <thead>\n",
       "    <tr style=\"text-align: right;\">\n",
       "      <th></th>\n",
       "      <th>index</th>\n",
       "      <th>0</th>\n",
       "      <th>1</th>\n",
       "      <th>2</th>\n",
       "    </tr>\n",
       "  </thead>\n",
       "  <tbody>\n",
       "    <tr>\n",
       "      <th>0</th>\n",
       "      <td>26457</td>\n",
       "      <td>0.042863</td>\n",
       "      <td>0.085888</td>\n",
       "      <td>0.871249</td>\n",
       "    </tr>\n",
       "    <tr>\n",
       "      <th>1</th>\n",
       "      <td>26458</td>\n",
       "      <td>0.195574</td>\n",
       "      <td>0.224078</td>\n",
       "      <td>0.580348</td>\n",
       "    </tr>\n",
       "    <tr>\n",
       "      <th>2</th>\n",
       "      <td>26459</td>\n",
       "      <td>0.049339</td>\n",
       "      <td>0.100760</td>\n",
       "      <td>0.849900</td>\n",
       "    </tr>\n",
       "    <tr>\n",
       "      <th>3</th>\n",
       "      <td>26460</td>\n",
       "      <td>0.106042</td>\n",
       "      <td>0.117352</td>\n",
       "      <td>0.776606</td>\n",
       "    </tr>\n",
       "    <tr>\n",
       "      <th>4</th>\n",
       "      <td>26461</td>\n",
       "      <td>0.082628</td>\n",
       "      <td>0.156054</td>\n",
       "      <td>0.761318</td>\n",
       "    </tr>\n",
       "    <tr>\n",
       "      <th>5</th>\n",
       "      <td>26462</td>\n",
       "      <td>0.064476</td>\n",
       "      <td>0.134357</td>\n",
       "      <td>0.801167</td>\n",
       "    </tr>\n",
       "    <tr>\n",
       "      <th>6</th>\n",
       "      <td>26463</td>\n",
       "      <td>0.436128</td>\n",
       "      <td>0.555757</td>\n",
       "      <td>0.008115</td>\n",
       "    </tr>\n",
       "    <tr>\n",
       "      <th>7</th>\n",
       "      <td>26464</td>\n",
       "      <td>0.100803</td>\n",
       "      <td>0.147238</td>\n",
       "      <td>0.751959</td>\n",
       "    </tr>\n",
       "    <tr>\n",
       "      <th>8</th>\n",
       "      <td>26465</td>\n",
       "      <td>0.061283</td>\n",
       "      <td>0.130517</td>\n",
       "      <td>0.808200</td>\n",
       "    </tr>\n",
       "    <tr>\n",
       "      <th>9</th>\n",
       "      <td>26466</td>\n",
       "      <td>0.065026</td>\n",
       "      <td>0.271179</td>\n",
       "      <td>0.663795</td>\n",
       "    </tr>\n",
       "    <tr>\n",
       "      <th>10</th>\n",
       "      <td>26467</td>\n",
       "      <td>0.081131</td>\n",
       "      <td>0.193343</td>\n",
       "      <td>0.725526</td>\n",
       "    </tr>\n",
       "    <tr>\n",
       "      <th>11</th>\n",
       "      <td>26468</td>\n",
       "      <td>0.078585</td>\n",
       "      <td>0.109254</td>\n",
       "      <td>0.812161</td>\n",
       "    </tr>\n",
       "    <tr>\n",
       "      <th>12</th>\n",
       "      <td>26469</td>\n",
       "      <td>0.440609</td>\n",
       "      <td>0.107850</td>\n",
       "      <td>0.451541</td>\n",
       "    </tr>\n",
       "    <tr>\n",
       "      <th>13</th>\n",
       "      <td>26470</td>\n",
       "      <td>0.066534</td>\n",
       "      <td>0.157187</td>\n",
       "      <td>0.776279</td>\n",
       "    </tr>\n",
       "    <tr>\n",
       "      <th>14</th>\n",
       "      <td>26471</td>\n",
       "      <td>0.094950</td>\n",
       "      <td>0.165480</td>\n",
       "      <td>0.739569</td>\n",
       "    </tr>\n",
       "    <tr>\n",
       "      <th>15</th>\n",
       "      <td>26472</td>\n",
       "      <td>0.118787</td>\n",
       "      <td>0.231494</td>\n",
       "      <td>0.649719</td>\n",
       "    </tr>\n",
       "    <tr>\n",
       "      <th>16</th>\n",
       "      <td>26473</td>\n",
       "      <td>0.058809</td>\n",
       "      <td>0.152450</td>\n",
       "      <td>0.788741</td>\n",
       "    </tr>\n",
       "    <tr>\n",
       "      <th>17</th>\n",
       "      <td>26474</td>\n",
       "      <td>0.227724</td>\n",
       "      <td>0.766502</td>\n",
       "      <td>0.005774</td>\n",
       "    </tr>\n",
       "    <tr>\n",
       "      <th>18</th>\n",
       "      <td>26475</td>\n",
       "      <td>0.273369</td>\n",
       "      <td>0.323854</td>\n",
       "      <td>0.402778</td>\n",
       "    </tr>\n",
       "    <tr>\n",
       "      <th>19</th>\n",
       "      <td>26476</td>\n",
       "      <td>0.029437</td>\n",
       "      <td>0.120343</td>\n",
       "      <td>0.850219</td>\n",
       "    </tr>\n",
       "  </tbody>\n",
       "</table>\n",
       "</div>"
      ],
      "text/plain": [
       "    index         0         1         2\n",
       "0   26457  0.042863  0.085888  0.871249\n",
       "1   26458  0.195574  0.224078  0.580348\n",
       "2   26459  0.049339  0.100760  0.849900\n",
       "3   26460  0.106042  0.117352  0.776606\n",
       "4   26461  0.082628  0.156054  0.761318\n",
       "5   26462  0.064476  0.134357  0.801167\n",
       "6   26463  0.436128  0.555757  0.008115\n",
       "7   26464  0.100803  0.147238  0.751959\n",
       "8   26465  0.061283  0.130517  0.808200\n",
       "9   26466  0.065026  0.271179  0.663795\n",
       "10  26467  0.081131  0.193343  0.725526\n",
       "11  26468  0.078585  0.109254  0.812161\n",
       "12  26469  0.440609  0.107850  0.451541\n",
       "13  26470  0.066534  0.157187  0.776279\n",
       "14  26471  0.094950  0.165480  0.739569\n",
       "15  26472  0.118787  0.231494  0.649719\n",
       "16  26473  0.058809  0.152450  0.788741\n",
       "17  26474  0.227724  0.766502  0.005774\n",
       "18  26475  0.273369  0.323854  0.402778\n",
       "19  26476  0.029437  0.120343  0.850219"
      ]
     },
     "execution_count": 110,
     "metadata": {},
     "output_type": "execute_result"
    }
   ],
   "source": [
    "submit.head(20)"
   ]
  },
  {
   "cell_type": "code",
   "execution_count": null,
   "id": "entitled-azerbaijan",
   "metadata": {},
   "outputs": [],
   "source": []
  }
 ],
 "metadata": {
  "kernelspec": {
   "display_name": "Python 3",
   "language": "python",
   "name": "python3"
  },
  "language_info": {
   "codemirror_mode": {
    "name": "ipython",
    "version": 3
   },
   "file_extension": ".py",
   "mimetype": "text/x-python",
   "name": "python",
   "nbconvert_exporter": "python",
   "pygments_lexer": "ipython3",
   "version": "3.8.2"
  },
  "toc": {
   "base_numbering": 1,
   "nav_menu": {},
   "number_sections": true,
   "sideBar": true,
   "skip_h1_title": false,
   "title_cell": "Table of Contents",
   "title_sidebar": "Contents",
   "toc_cell": false,
   "toc_position": {},
   "toc_section_display": true,
   "toc_window_display": false
  },
  "varInspector": {
   "cols": {
    "lenName": 16,
    "lenType": 16,
    "lenVar": 40
   },
   "kernels_config": {
    "python": {
     "delete_cmd_postfix": "",
     "delete_cmd_prefix": "del ",
     "library": "var_list.py",
     "varRefreshCmd": "print(var_dic_list())"
    },
    "r": {
     "delete_cmd_postfix": ") ",
     "delete_cmd_prefix": "rm(",
     "library": "var_list.r",
     "varRefreshCmd": "cat(var_dic_list()) "
    }
   },
   "types_to_exclude": [
    "module",
    "function",
    "builtin_function_or_method",
    "instance",
    "_Feature"
   ],
   "window_display": false
  }
 },
 "nbformat": 4,
 "nbformat_minor": 5
}
